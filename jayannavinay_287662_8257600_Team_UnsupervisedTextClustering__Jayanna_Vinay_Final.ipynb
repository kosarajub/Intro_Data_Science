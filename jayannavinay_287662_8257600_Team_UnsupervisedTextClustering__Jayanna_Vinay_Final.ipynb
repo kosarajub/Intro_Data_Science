{
 "cells": [
  {
   "cell_type": "markdown",
   "metadata": {
    "colab_type": "text",
    "id": "kgLTF-3EzRyo"
   },
   "source": [
    "<h1><center>Unsupervised Text Clustering</center></h1>\n",
    "\n",
    "__Team Members__\n",
    "<ul>\n",
    "    <li>Sita Naga Lakshmi Pathuri</li>\n",
    "    <li>Ramesh Kumar Sahu</li>\n",
    "    <li>Vinay Jayanna</li>\n",
    "</ul>"
   ]
  },
  {
   "cell_type": "markdown",
   "metadata": {
    "colab_type": "text",
    "id": "44qmEHaNzRyp"
   },
   "source": [
    "# 1 . Introduction"
   ]
  },
  {
   "cell_type": "markdown",
   "metadata": {
    "colab_type": "text",
    "id": "Ytn0df8W4Gv5"
   },
   "source": [
    "![test](https://docs.google.com/uc?export=download&id=1hWnB2hEktForCYM2XcX7pxuugWehKx75)"
   ]
  },
  {
   "cell_type": "markdown",
   "metadata": {
    "colab_type": "text",
    "id": "ZXPEsRPU4Gv6"
   },
   "source": [
    "Our model consists of 4 major components as can be seen above a figure depicting the modules that are part of our unsupervised text clustering project. We start with a choice of text data(collection of documents) which undergoes a basic preprocessing followed by feature extraction , preparing it as input. Next the features are passed through auto-encoder to reduce dimensions and pass the encoded data into our unsupervised clustering block.Rather than using one optimal model, effort was spent to try out several auto-encoders using different techniques discussed during this course and chose the best one. Then finally we visualize the cluster and analyse the results."
   ]
  },
  {
   "cell_type": "markdown",
   "metadata": {
    "colab_type": "text",
    "id": "hBH80XbJzRyr"
   },
   "source": [
    "# 2. About Data & EDA"
   ]
  },
  {
   "cell_type": "markdown",
   "metadata": {
    "colab_type": "text",
    "id": "OG3n5R3zzRys"
   },
   "source": [
    "There are many datasets which are actively being used for research & such project needs. Few examples are \n",
    "<ul>\n",
    "    <li><a href='http://qwone.com/~jason/20Newsgroups/'>20 Newsgroup</a> </li>\n",
    "    <li><a href='http://www.daviddlewis.com/resources/testcollections/reuters21578/'>Reuters 21578</a></li>\n",
    "    <li><a href='http://www.cade.com.br/'>Cade</a></li>\n",
    "</ul>\n",
    "\n",
    "and many more.\n",
    "\n",
    "After carefully analyzing them we decided to use the popupular 20 Newsgroup dataset. The 20 Newsgroups data set is a collection of approximately 20,000 newsgroup documents, partitioned (nearly) evenly across 20 different newsgroups.The data is organized into 20 different newsgroups, each corresponding to a different topic.Here is a list of the 20 newsgroups, partitioned (more or less) according to subject matter:\n",
    "<br/><br/>\n",
    "\n",
    "<table border=\"1\">\n",
    "<tbody><tr>\n",
    "<td>comp.graphics<br>comp.os.ms-windows.misc<br>comp.sys.ibm.pc.hardware<br>comp.sys.mac.hardware<br>comp.windows.x</td>\n",
    "<td>rec.autos<br>rec.motorcycles<br>rec.sport.baseball<br>rec.sport.hockey</td>\n",
    "<td>sci.crypt<br>sci.electronics<br>sci.med<br>sci.space</td>\n",
    "</tr><tr>\n",
    "<td>misc.forsale</td>\n",
    "<td>talk.politics.misc<br>talk.politics.guns<br>talk.politics.mideast</td>\n",
    "<td>talk.religion.misc<br>alt.atheism<br>soc.religion.christian</td>\n",
    "</tr>\n",
    "</tbody></table>\n",
    "\n",
    "\n",
    "Next few blocks we will download the training and test set using the standardised methods from sklearn library and perform many statistical analysis to gain some relevant insight to data."
   ]
  },
  {
   "cell_type": "code",
   "execution_count": 0,
   "metadata": {
    "colab": {},
    "colab_type": "code",
    "id": "HTWzDpi971k5"
   },
   "outputs": [],
   "source": [
    "from IPython.core.interactiveshell import InteractiveShell\n",
    "InteractiveShell.ast_node_interactivity = \"all\""
   ]
  },
  {
   "cell_type": "code",
   "execution_count": 0,
   "metadata": {
    "colab": {},
    "colab_type": "code",
    "id": "IS5HItgLzRys"
   },
   "outputs": [],
   "source": [
    "#Download train and test set\n",
    "from sklearn.datasets import fetch_20newsgroups\n",
    "newsgroups_train = fetch_20newsgroups(subset=\"train\", remove=(\"headers\", \"footers\", \"quotes\"))\n",
    "newsgroups_test  = fetch_20newsgroups(subset=\"test\", remove=(\"headers\", \"footers\", \"quotes\"))"
   ]
  },
  {
   "cell_type": "code",
   "execution_count": 0,
   "metadata": {
    "colab": {},
    "colab_type": "code",
    "id": "m2Jefzq0zRyu"
   },
   "outputs": [],
   "source": [
    "#Form pandas dataframe corresponding to train & test set and label column names appropriately\n",
    "import pandas as pd\n",
    "TEXT_NAME = \"text\"\n",
    "LABEL_NAME = \"label\"\n",
    "df_train = pd.DataFrame(\n",
    "            {TEXT_NAME: newsgroups_train.data,\n",
    "             LABEL_NAME: [newsgroups_train.target_names[target] for target in newsgroups_train.target]}).dropna()\n",
    "\n",
    "df_test = pd.DataFrame(\n",
    "            {TEXT_NAME: newsgroups_test.data,\n",
    "             LABEL_NAME: [newsgroups_test.target_names[target] for target in newsgroups_test.target]}).dropna()"
   ]
  },
  {
   "cell_type": "code",
   "execution_count": 0,
   "metadata": {
    "colab": {
     "base_uri": "https://localhost:8080/",
     "height": 204
    },
    "colab_type": "code",
    "id": "W5RNWRn-zRyv",
    "outputId": "76b10eb0-d10e-42d4-9a08-c6b87e2b5f84"
   },
   "outputs": [
    {
     "data": {
      "text/html": [
       "<div>\n",
       "<style scoped>\n",
       "    .dataframe tbody tr th:only-of-type {\n",
       "        vertical-align: middle;\n",
       "    }\n",
       "\n",
       "    .dataframe tbody tr th {\n",
       "        vertical-align: top;\n",
       "    }\n",
       "\n",
       "    .dataframe thead th {\n",
       "        text-align: right;\n",
       "    }\n",
       "</style>\n",
       "<table border=\"1\" class=\"dataframe\">\n",
       "  <thead>\n",
       "    <tr style=\"text-align: right;\">\n",
       "      <th></th>\n",
       "      <th>text</th>\n",
       "      <th>label</th>\n",
       "    </tr>\n",
       "  </thead>\n",
       "  <tbody>\n",
       "    <tr>\n",
       "      <th>0</th>\n",
       "      <td>I was wondering if anyone out there could enli...</td>\n",
       "      <td>rec.autos</td>\n",
       "    </tr>\n",
       "    <tr>\n",
       "      <th>1</th>\n",
       "      <td>A fair number of brave souls who upgraded thei...</td>\n",
       "      <td>comp.sys.mac.hardware</td>\n",
       "    </tr>\n",
       "    <tr>\n",
       "      <th>2</th>\n",
       "      <td>well folks, my mac plus finally gave up the gh...</td>\n",
       "      <td>comp.sys.mac.hardware</td>\n",
       "    </tr>\n",
       "    <tr>\n",
       "      <th>3</th>\n",
       "      <td>\\nDo you have Weitek's address/phone number?  ...</td>\n",
       "      <td>comp.graphics</td>\n",
       "    </tr>\n",
       "    <tr>\n",
       "      <th>4</th>\n",
       "      <td>From article &lt;C5owCB.n3p@world.std.com&gt;, by to...</td>\n",
       "      <td>sci.space</td>\n",
       "    </tr>\n",
       "  </tbody>\n",
       "</table>\n",
       "</div>"
      ],
      "text/plain": [
       "                                                text                  label\n",
       "0  I was wondering if anyone out there could enli...              rec.autos\n",
       "1  A fair number of brave souls who upgraded thei...  comp.sys.mac.hardware\n",
       "2  well folks, my mac plus finally gave up the gh...  comp.sys.mac.hardware\n",
       "3  \\nDo you have Weitek's address/phone number?  ...          comp.graphics\n",
       "4  From article <C5owCB.n3p@world.std.com>, by to...              sci.space"
      ]
     },
     "execution_count": 5,
     "metadata": {
      "tags": []
     },
     "output_type": "execute_result"
    }
   ],
   "source": [
    "#Lets take a peek at our train data\n",
    "df_train.head()"
   ]
  },
  {
   "cell_type": "markdown",
   "metadata": {
    "colab_type": "text",
    "id": "_fxP_LbqzRyy"
   },
   "source": [
    "So our data consists of two columns , the `text` and corresponding `label`"
   ]
  },
  {
   "cell_type": "code",
   "execution_count": 0,
   "metadata": {
    "colab": {
     "base_uri": "https://localhost:8080/",
     "height": 51
    },
    "colab_type": "code",
    "id": "dBPEBsxUzRyz",
    "outputId": "91e04a70-2435-4ac0-e111-99160a220186"
   },
   "outputs": [
    {
     "name": "stdout",
     "output_type": "stream",
     "text": [
      "Train size (11314, 2)\n",
      "Test size (7532, 2)\n"
     ]
    }
   ],
   "source": [
    "#Lets look at the data set sizes\n",
    "print(\"Train size {}\".format(df_train.shape))\n",
    "print(\"Test size {}\".format(df_test.shape))"
   ]
  },
  {
   "cell_type": "code",
   "execution_count": 0,
   "metadata": {
    "colab": {
     "base_uri": "https://localhost:8080/",
     "height": 836
    },
    "colab_type": "code",
    "id": "COXiwf-3zRy1",
    "outputId": "eaefcd00-8feb-458a-c3f2-de5cfd338fd5"
   },
   "outputs": [
    {
     "name": "stderr",
     "output_type": "stream",
     "text": [
      "D:\\MyPrograms\\Anaconda3\\lib\\site-packages\\ipykernel_launcher.py:4: FutureWarning: Sorting because non-concatenation axis is not aligned. A future version\n",
      "of pandas will change to not sort by default.\n",
      "\n",
      "To accept the future behavior, pass 'sort=False'.\n",
      "\n",
      "To retain the current behavior and silence the warning, pass 'sort=True'.\n",
      "\n",
      "  after removing the cwd from sys.path.\n"
     ]
    },
    {
     "data": {
      "text/html": [
       "<div>\n",
       "<style scoped>\n",
       "    .dataframe tbody tr th:only-of-type {\n",
       "        vertical-align: middle;\n",
       "    }\n",
       "\n",
       "    .dataframe tbody tr th {\n",
       "        vertical-align: top;\n",
       "    }\n",
       "\n",
       "    .dataframe thead th {\n",
       "        text-align: right;\n",
       "    }\n",
       "</style>\n",
       "<table border=\"1\" class=\"dataframe\">\n",
       "  <thead>\n",
       "    <tr style=\"text-align: right;\">\n",
       "      <th></th>\n",
       "      <th># train docs</th>\n",
       "      <th># test docs</th>\n",
       "      <th>total # docs</th>\n",
       "    </tr>\n",
       "  </thead>\n",
       "  <tbody>\n",
       "    <tr>\n",
       "      <th>alt.atheism</th>\n",
       "      <td>480</td>\n",
       "      <td>319</td>\n",
       "      <td>799</td>\n",
       "    </tr>\n",
       "    <tr>\n",
       "      <th>comp.graphics</th>\n",
       "      <td>584</td>\n",
       "      <td>389</td>\n",
       "      <td>973</td>\n",
       "    </tr>\n",
       "    <tr>\n",
       "      <th>comp.os.ms-windows.misc</th>\n",
       "      <td>591</td>\n",
       "      <td>394</td>\n",
       "      <td>985</td>\n",
       "    </tr>\n",
       "    <tr>\n",
       "      <th>comp.sys.ibm.pc.hardware</th>\n",
       "      <td>590</td>\n",
       "      <td>392</td>\n",
       "      <td>982</td>\n",
       "    </tr>\n",
       "    <tr>\n",
       "      <th>comp.sys.mac.hardware</th>\n",
       "      <td>578</td>\n",
       "      <td>385</td>\n",
       "      <td>963</td>\n",
       "    </tr>\n",
       "    <tr>\n",
       "      <th>comp.windows.x</th>\n",
       "      <td>593</td>\n",
       "      <td>395</td>\n",
       "      <td>988</td>\n",
       "    </tr>\n",
       "    <tr>\n",
       "      <th>misc.forsale</th>\n",
       "      <td>585</td>\n",
       "      <td>390</td>\n",
       "      <td>975</td>\n",
       "    </tr>\n",
       "    <tr>\n",
       "      <th>rec.autos</th>\n",
       "      <td>594</td>\n",
       "      <td>396</td>\n",
       "      <td>990</td>\n",
       "    </tr>\n",
       "    <tr>\n",
       "      <th>rec.motorcycles</th>\n",
       "      <td>598</td>\n",
       "      <td>398</td>\n",
       "      <td>996</td>\n",
       "    </tr>\n",
       "    <tr>\n",
       "      <th>rec.sport.baseball</th>\n",
       "      <td>597</td>\n",
       "      <td>397</td>\n",
       "      <td>994</td>\n",
       "    </tr>\n",
       "    <tr>\n",
       "      <th>rec.sport.hockey</th>\n",
       "      <td>600</td>\n",
       "      <td>399</td>\n",
       "      <td>999</td>\n",
       "    </tr>\n",
       "    <tr>\n",
       "      <th>sci.crypt</th>\n",
       "      <td>595</td>\n",
       "      <td>396</td>\n",
       "      <td>991</td>\n",
       "    </tr>\n",
       "    <tr>\n",
       "      <th>sci.electronics</th>\n",
       "      <td>591</td>\n",
       "      <td>393</td>\n",
       "      <td>984</td>\n",
       "    </tr>\n",
       "    <tr>\n",
       "      <th>sci.med</th>\n",
       "      <td>594</td>\n",
       "      <td>396</td>\n",
       "      <td>990</td>\n",
       "    </tr>\n",
       "    <tr>\n",
       "      <th>sci.space</th>\n",
       "      <td>593</td>\n",
       "      <td>394</td>\n",
       "      <td>987</td>\n",
       "    </tr>\n",
       "    <tr>\n",
       "      <th>soc.religion.christian</th>\n",
       "      <td>599</td>\n",
       "      <td>398</td>\n",
       "      <td>997</td>\n",
       "    </tr>\n",
       "    <tr>\n",
       "      <th>talk.politics.guns</th>\n",
       "      <td>546</td>\n",
       "      <td>364</td>\n",
       "      <td>910</td>\n",
       "    </tr>\n",
       "    <tr>\n",
       "      <th>talk.politics.mideast</th>\n",
       "      <td>564</td>\n",
       "      <td>376</td>\n",
       "      <td>940</td>\n",
       "    </tr>\n",
       "    <tr>\n",
       "      <th>talk.politics.misc</th>\n",
       "      <td>465</td>\n",
       "      <td>310</td>\n",
       "      <td>775</td>\n",
       "    </tr>\n",
       "    <tr>\n",
       "      <th>talk.religion.misc</th>\n",
       "      <td>377</td>\n",
       "      <td>251</td>\n",
       "      <td>628</td>\n",
       "    </tr>\n",
       "    <tr>\n",
       "      <th>Total</th>\n",
       "      <td>11314</td>\n",
       "      <td>7532</td>\n",
       "      <td>18846</td>\n",
       "    </tr>\n",
       "  </tbody>\n",
       "</table>\n",
       "</div>"
      ],
      "text/plain": [
       "                          # train docs  # test docs  total # docs\n",
       "alt.atheism                        480          319           799\n",
       "comp.graphics                      584          389           973\n",
       "comp.os.ms-windows.misc            591          394           985\n",
       "comp.sys.ibm.pc.hardware           590          392           982\n",
       "comp.sys.mac.hardware              578          385           963\n",
       "comp.windows.x                     593          395           988\n",
       "misc.forsale                       585          390           975\n",
       "rec.autos                          594          396           990\n",
       "rec.motorcycles                    598          398           996\n",
       "rec.sport.baseball                 597          397           994\n",
       "rec.sport.hockey                   600          399           999\n",
       "sci.crypt                          595          396           991\n",
       "sci.electronics                    591          393           984\n",
       "sci.med                            594          396           990\n",
       "sci.space                          593          394           987\n",
       "soc.religion.christian             599          398           997\n",
       "talk.politics.guns                 546          364           910\n",
       "talk.politics.mideast              564          376           940\n",
       "talk.politics.misc                 465          310           775\n",
       "talk.religion.misc                 377          251           628\n",
       "Total                            11314         7532         18846"
      ]
     },
     "execution_count": 7,
     "metadata": {
      "tags": []
     },
     "output_type": "execute_result"
    }
   ],
   "source": [
    "#Next we print the total number of documents under each category \n",
    "ngcounts_df = pd.concat([df_train[\"label\"].value_counts(), \n",
    "                           df_test[\"label\"].value_counts()], \n",
    "                          axis=1, keys=[\"# train docs\", \"# test docs\"])\n",
    "ngcounts_df[\"total # docs\"] = ngcounts_df.sum(axis=1)\n",
    "ngcounts_df.loc[\"Total\"] = ngcounts_df.sum()\n",
    "\n",
    "ngcounts_df\n",
    "    "
   ]
  },
  {
   "cell_type": "markdown",
   "metadata": {
    "colab_type": "text",
    "id": "SwriKgahzRy3"
   },
   "source": [
    "Above tables signifies the overall there number of documents are spread evenly across all the categories(so reduces chances of any bias effect)"
   ]
  },
  {
   "cell_type": "code",
   "execution_count": 0,
   "metadata": {
    "colab": {
     "base_uri": "https://localhost:8080/",
     "height": 461
    },
    "colab_type": "code",
    "id": "9Dp1k7QQzRy3",
    "outputId": "9a5de781-593e-43d5-f631-cfb9b630c5bb"
   },
   "outputs": [
    {
     "data": {
      "text/plain": [
       "<matplotlib.axes._subplots.AxesSubplot at 0x1ab81ad3898>"
      ]
     },
     "execution_count": 8,
     "metadata": {
      "tags": []
     },
     "output_type": "execute_result"
    },
    {
     "data": {
      "image/png": "[encoded data removed]",
      "text/plain": [
       "<Figure size 648x504 with 1 Axes>"
      ]
     },
     "metadata": {
      "needs_background": "light",
      "tags": []
     },
     "output_type": "display_data"
    }
   ],
   "source": [
    "#To better comprehend the distribution , lets visualize the distribtuion using some charts\n",
    "import matplotlib.pyplot as plt\n",
    "import seaborn as sns\n",
    "%matplotlib inline\n",
    "# do not plot totals (last column, last row in counts dataframes)\n",
    "ngcounts_df.iloc[:-1,:-1].plot.barh(stacked=True, \n",
    "                                    figsize=(9, 7),\n",
    "                                    title=\"Number of train and test documents per class for ng20\")"
   ]
  },
  {
   "cell_type": "markdown",
   "metadata": {
    "colab_type": "text",
    "id": "rBrK2Y3QzRy5"
   },
   "source": [
    "Above visualization further confirms our previous statement that the data is pretty evenly spread and well balanced across all classes. Also there is the recommended 2/3rd 1/3rd train/test split."
   ]
  },
  {
   "cell_type": "markdown",
   "metadata": {
    "colab_type": "text",
    "id": "HZvFUAxbzRy6"
   },
   "source": [
    "Next we will attempt to describe our dataset w.r.t stop words and features with & without them , and eventually count the total number of features."
   ]
  },
  {
   "cell_type": "code",
   "execution_count": 0,
   "metadata": {
    "colab": {
     "base_uri": "https://localhost:8080/",
     "height": 85
    },
    "colab_type": "code",
    "id": "sk4IPPfTzRy6",
    "outputId": "9e8b58bd-edd9-472e-8897-b6498cf9e9b8"
   },
   "outputs": [
    {
     "name": "stdout",
     "output_type": "stream",
     "text": [
      "Dataset: NG2\n",
      "Number of features with stopwords: 101631\n",
      "Number of features without stopwords: 101322\n",
      "Difference in number of features: 309\n"
     ]
    }
   ],
   "source": [
    "from sklearn.feature_extraction.text import CountVectorizer\n",
    "\n",
    "def describe_dataset(df_train):\n",
    "    print(\"Dataset: NG2\")\n",
    "\n",
    "    # consider all words\n",
    "    countvec = CountVectorizer()\n",
    "    countvec.fit(df_train[\"text\"])\n",
    "    with_stop = len(countvec.get_feature_names())\n",
    "    print(\"Number of features with stopwords:\", with_stop)\n",
    "\n",
    "    # remove english stopwords\n",
    "    cvec = CountVectorizer(stop_words=\"english\")\n",
    "    cvec.fit(df_train[\"text\"])\n",
    "    without_stop = len(cvec.get_feature_names())\n",
    "    print(\"Number of features without stopwords:\", without_stop)\n",
    "    \n",
    "    print(\"Difference in number of features:\", with_stop-without_stop)\n",
    "    return with_stop, without_stop\n",
    "\n",
    "ng20_with_stop, ng20_without_stop = describe_dataset(df_train)"
   ]
  },
  {
   "cell_type": "markdown",
   "metadata": {
    "colab_type": "text",
    "id": "ohwVgWlbzRy8"
   },
   "source": [
    "The number of stopwords (309) is small relative to the total number of features.\n",
    "\n",
    "\n"
   ]
  },
  {
   "cell_type": "code",
   "execution_count": 0,
   "metadata": {
    "colab": {},
    "colab_type": "code",
    "id": "7ohwoJGMzRy8"
   },
   "outputs": [],
   "source": [
    "#Next we look at  word counts for most frequent words in the docs. \n",
    "#This is not very efficient because it creates a dense matrix, \n",
    "#but we will probably won't need this later.\n",
    "def get_word_counts_df(docs,stopwords=None):\n",
    "    countvec = CountVectorizer(stop_words=stopwords)\n",
    "    countvec.fit(docs)\n",
    "\n",
    "    df = pd.DataFrame(countvec.transform(docs).todense(),\n",
    "                      columns=countvec.get_feature_names())\n",
    "\n",
    "    df_word_counts = df.sum(axis=0)\n",
    "    df_word_counts.sort_values(ascending=False, inplace=True)\n",
    "    return df_word_counts\n",
    "\n",
    "df_train_count_with_stop = get_word_counts_df(df_train[\"text\"]) \n",
    "df_train_count_wo_stop = get_word_counts_df(df_train[\"text\"],stopwords=\"english\")"
   ]
  },
  {
   "cell_type": "code",
   "execution_count": 0,
   "metadata": {
    "colab": {
     "base_uri": "https://localhost:8080/",
     "height": 204
    },
    "colab_type": "code",
    "id": "iVlVamkzzRy-",
    "outputId": "2fbb524c-2771-4cca-a1b5-5c3d539273b4"
   },
   "outputs": [
    {
     "data": {
      "text/plain": [
       "ax        62387\n",
       "max        4585\n",
       "people     4103\n",
       "like       3964\n",
       "don        3885\n",
       "just       3752\n",
       "know       3487\n",
       "use        3179\n",
       "think      3011\n",
       "time       2968\n",
       "dtype: int64"
      ]
     },
     "execution_count": 11,
     "metadata": {
      "tags": []
     },
     "output_type": "execute_result"
    }
   ],
   "source": [
    "#Look at 10 without stop words\n",
    "df_train_count_wo_stop.head(10)"
   ]
  },
  {
   "cell_type": "code",
   "execution_count": 0,
   "metadata": {
    "colab": {
     "base_uri": "https://localhost:8080/",
     "height": 204
    },
    "colab_type": "code",
    "id": "fVzJhZlgzRzA",
    "outputId": "424c99af-a148-40d3-8eea-3edfa6abf7ba"
   },
   "outputs": [
    {
     "data": {
      "text/plain": [
       "the     106381\n",
       "ax       62387\n",
       "to       53090\n",
       "of       46953\n",
       "and      42704\n",
       "in       31103\n",
       "is       30419\n",
       "that     27996\n",
       "it       23687\n",
       "for      19969\n",
       "dtype: int64"
      ]
     },
     "execution_count": 12,
     "metadata": {
      "tags": []
     },
     "output_type": "execute_result"
    }
   ],
   "source": [
    "#Look at 10 with stop words\n",
    "df_train_count_with_stop.head(10)"
   ]
  },
  {
   "cell_type": "markdown",
   "metadata": {
    "colab_type": "text",
    "id": "m_OmbGY3zRzC"
   },
   "source": [
    "Stop words take up majority of the document and usually they don't offer much context. So we will look later as to try to remove them for our analysis"
   ]
  },
  {
   "cell_type": "markdown",
   "metadata": {
    "colab_type": "text",
    "id": "EqZfvfvDzRzC"
   },
   "source": [
    "# 3. Feature Extraction"
   ]
  },
  {
   "cell_type": "markdown",
   "metadata": {
    "colab_type": "text",
    "id": "bP01vQMszRzD"
   },
   "source": [
    "__Text Tokenization__\n",
    "<br/>\n",
    "Since the dataset are series of words, before running any machine learning algorithms, we need to convert text representations into numerical representations. One way to do it is using the “Bag of Words” method, first split each file into single words, then count the number of times each word appears in each file, so every unique word will have a unique value in our dictionary. To avoid the issues of larger files getting more weights after “Bag of Words”, we instead the “TF-IDF” (Term Frequency — Inverse Document Frequency). This will not change the dimension of our data.\n",
    "\n",
    "<br/>\n",
    "Prior to tokenization,we define a data cleansing function using nltk which removes non-alpha words or characters, punctuatons and popular names(like John, James using nltk.corpus.names). And then each word is lemmatized ({close, closely, closed, closer} => close ) using WordNetLemmatizer."
   ]
  },
  {
   "cell_type": "code",
   "execution_count": 0,
   "metadata": {
    "colab": {},
    "colab_type": "code",
    "id": "ikyxBgHFzRzD"
   },
   "outputs": [],
   "source": [
    "NUMBER_OF_FEATURES = 5000"
   ]
  },
  {
   "cell_type": "code",
   "execution_count": 0,
   "metadata": {
    "colab": {
     "base_uri": "https://localhost:8080/",
     "height": 102
    },
    "colab_type": "code",
    "id": "JonNQHJo-9np",
    "outputId": "3d17af1e-af20-4d6e-9f01-8d59e8d566b3"
   },
   "outputs": [
    {
     "name": "stderr",
     "output_type": "stream",
     "text": [
      "[nltk_data] Downloading package names to\n",
      "[nltk_data]     C:\\Users\\rames\\AppData\\Roaming\\nltk_data...\n",
      "[nltk_data]   Package names is already up-to-date!\n"
     ]
    },
    {
     "data": {
      "text/plain": [
       "True"
      ]
     },
     "execution_count": 14,
     "metadata": {
      "tags": []
     },
     "output_type": "execute_result"
    },
    {
     "name": "stderr",
     "output_type": "stream",
     "text": [
      "[nltk_data] Downloading package wordnet to\n",
      "[nltk_data]     C:\\Users\\rames\\AppData\\Roaming\\nltk_data...\n",
      "[nltk_data]   Package wordnet is already up-to-date!\n"
     ]
    },
    {
     "data": {
      "text/plain": [
       "True"
      ]
     },
     "execution_count": 14,
     "metadata": {
      "tags": []
     },
     "output_type": "execute_result"
    }
   ],
   "source": [
    "# Needed Libraries\n",
    "import nltk\n",
    "nltk.download('names')\n",
    "nltk.download('wordnet')"
   ]
  },
  {
   "cell_type": "code",
   "execution_count": 0,
   "metadata": {
    "colab": {},
    "colab_type": "code",
    "id": "D837GTqKzRzF"
   },
   "outputs": [],
   "source": [
    "from collections import defaultdict\n",
    "from nltk.stem import WordNetLemmatizer\n",
    "from nltk.corpus import names\n",
    "\n",
    "all_names = names.words()\n",
    "WNL = WordNetLemmatizer()\n",
    "def clean(data):\n",
    "    cleaned = defaultdict(list)\n",
    "    count = 0\n",
    "    for group in data:\n",
    "        for words in group.split():\n",
    "            if words.isalpha() and words not in all_names:\n",
    "                cleaned[count].append(WNL.lemmatize(words.lower()))\n",
    "        cleaned[count] = ' '.join(cleaned[count])\n",
    "        count +=1 \n",
    "    return(list(cleaned.values()))"
   ]
  },
  {
   "cell_type": "code",
   "execution_count": 0,
   "metadata": {
    "colab": {},
    "colab_type": "code",
    "id": "yGRk6ZzAzRzH"
   },
   "outputs": [],
   "source": [
    "from sklearn.feature_extraction.text import TfidfVectorizer\n",
    "#Receives the train and test dataframes (columns: label, text) and \n",
    "#returns the X_train, y_train, X_test, y_test necessary to fit the models.\n",
    "#The X_train and X_test feature matrices contain tfidf values.\n",
    "def to_tfidf(df_train, df_test, features=5000):\n",
    "    vec = TfidfVectorizer(stop_words='english', smooth_idf=True,max_features = features)\n",
    "    cleaned_xtrain =clean(df_train[\"text\"])\n",
    "    cleaned_xtest =clean(df_test[\"text\"])\n",
    "    vec.fit(cleaned_xtrain)\n",
    "    X_train = vec.transform(cleaned_xtrain)\n",
    "    y_train = df_train[\"label\"]\n",
    "    X_test = vec.transform(cleaned_xtest)\n",
    "    y_test = df_test[\"label\"]\n",
    "    return X_train, y_train, X_test, y_test\n",
    "\n",
    "x_train, y_train, x_test, y_test = to_tfidf(df_train, df_test,NUMBER_OF_FEATURES)"
   ]
  },
  {
   "cell_type": "code",
   "execution_count": 0,
   "metadata": {
    "colab": {},
    "colab_type": "code",
    "id": "_WIrw8Yc4Gw3",
    "outputId": "a56fa948-5b09-4265-d803-226fec6179f7"
   },
   "outputs": [
    {
     "data": {
      "text/plain": [
       "(11314, 5000)"
      ]
     },
     "execution_count": 17,
     "metadata": {
      "tags": []
     },
     "output_type": "execute_result"
    }
   ],
   "source": [
    "x_train.shape"
   ]
  },
  {
   "cell_type": "markdown",
   "metadata": {
    "colab_type": "text",
    "id": "KUpP1TiT4Gw8"
   },
   "source": [
    "# 4. AutoEncoders for dimensionality reduction"
   ]
  },
  {
   "cell_type": "markdown",
   "metadata": {
    "colab_type": "text",
    "id": "eWOI0tWrbuRp"
   },
   "source": [
    "##### Also trying with different model with hyperparemeter tuning like Activation, Optimizer and Loss Function on a single encoder-decoder layers to pick the optimum one with lower validation and training loss for the actual multi-layer auto-encoder dimensionality reduction model"
   ]
  },
  {
   "cell_type": "code",
   "execution_count": 0,
   "metadata": {
    "colab": {
     "base_uri": "https://localhost:8080/",
     "height": 85
    },
    "colab_type": "code",
    "id": "gp_CwR7OJszi",
    "outputId": "d15ae779-e8bc-490d-84a8-0fd761880a6f"
   },
   "outputs": [
    {
     "name": "stderr",
     "output_type": "stream",
     "text": [
      "Using TensorFlow backend.\n"
     ]
    },
    {
     "name": "stdout",
     "output_type": "stream",
     "text": [
      "Empty Iter_tbl Dataframe \n",
      "Empty DataFrame\n",
      "Columns: [Iteration, Descr, Activation, Optimizer, Loss_Function, Training_Loss, Validation_Loss]\n",
      "Index: []\n"
     ]
    }
   ],
   "source": [
    "# Libraries and initializations\n",
    "import keras\n",
    "from keras.layers import Input, Dense,LSTM,Bidirectional\n",
    "import tensorflow as tf\n",
    "from keras.models import Model\n",
    "from keras.utils import plot_model\n",
    "import matplotlib.pyplot as plt\n",
    "import numpy as np\n",
    "import pandas as pd\n",
    "Iter_tbl=[]\n",
    "# created a dataframe for capturing below stated columns for different iterations , so that the loss can be compared\n",
    "Iter_tbl = pd.DataFrame(columns=['Iteration', 'Descr','Activation','Optimizer', 'Loss_Function','Training_Loss', 'Validation_Loss'])\n",
    "print(\"Empty Iter_tbl Dataframe \", Iter_tbl, sep='\\n')\n",
    "\n",
    "# Size of encoded representations\n",
    "encoding_dim = 50\n",
    "\n",
    "inp_dim = x_train.shape[1]\n",
    "# this is our input placeholder\n",
    "input_words = Input(shape=(inp_dim,))\n",
    "\n",
    "# create a placeholder for an encoded input\n",
    "encoded_input = Input(shape=(encoding_dim,))"
   ]
  },
  {
   "cell_type": "code",
   "execution_count": 0,
   "metadata": {
    "colab": {},
    "colab_type": "code",
    "id": "L0Qwbkx3XrnP"
   },
   "outputs": [],
   "source": [
    "np.random.seed(99)\n",
    "tf.set_random_seed(99)"
   ]
  },
  {
   "cell_type": "markdown",
   "metadata": {
    "colab_type": "text",
    "id": "ChAQFhD6SQO6"
   },
   "source": [
    "##### Trying different activation(s), optimizer(s) and Loss Function(s) in different iterations on SINGLE encoder-decoder layers to select the best performing model with minimal loss"
   ]
  },
  {
   "cell_type": "markdown",
   "metadata": {
    "colab_type": "text",
    "id": "heUE0Nk94GxG"
   },
   "source": [
    "### Iteration 1"
   ]
  },
  {
   "cell_type": "code",
   "execution_count": 0,
   "metadata": {
    "colab": {
     "base_uri": "https://localhost:8080/",
     "height": 1000
    },
    "colab_type": "code",
    "id": "afYzVzpFmFBv",
    "outputId": "ce5eb509-5016-4d85-ea0e-ad6da9a57c1a"
   },
   "outputs": [
    {
     "name": "stdout",
     "output_type": "stream",
     "text": [
      "WARNING:tensorflow:From D:\\MyPrograms\\Anaconda3\\lib\\site-packages\\tensorflow\\python\\framework\\op_def_library.py:263: colocate_with (from tensorflow.python.framework.ops) is deprecated and will be removed in a future version.\n",
      "Instructions for updating:\n",
      "Colocations handled automatically by placer.\n",
      "_________________________________________________________________\n",
      "Layer (type)                 Output Shape              Param #   \n",
      "=================================================================\n",
      "input_1 (InputLayer)         (None, 5000)              0         \n",
      "_________________________________________________________________\n",
      "dense_1 (Dense)              (None, 50)                250050    \n",
      "_________________________________________________________________\n",
      "dense_2 (Dense)              (None, 5000)              255000    \n",
      "=================================================================\n",
      "Total params: 505,050\n",
      "Trainable params: 505,050\n",
      "Non-trainable params: 0\n",
      "_________________________________________________________________\n",
      "WARNING:tensorflow:From D:\\MyPrograms\\Anaconda3\\lib\\site-packages\\tensorflow\\python\\ops\\math_ops.py:3066: to_int32 (from tensorflow.python.ops.math_ops) is deprecated and will be removed in a future version.\n",
      "Instructions for updating:\n",
      "Use tf.cast instead.\n",
      "Train on 11314 samples, validate on 7532 samples\n",
      "Epoch 1/20\n",
      " - 12s - loss: 0.6470 - val_loss: 0.5196\n",
      "Epoch 2/20\n",
      " - 1s - loss: 0.3207 - val_loss: 0.1569\n",
      "Epoch 3/20\n",
      " - 1s - loss: 0.0972 - val_loss: 0.0622\n",
      "Epoch 4/20\n",
      " - 1s - loss: 0.0469 - val_loss: 0.0379\n",
      "Epoch 5/20\n",
      " - 1s - loss: 0.0310 - val_loss: 0.0276\n",
      "Epoch 6/20\n",
      " - 1s - loss: 0.0237 - val_loss: 0.0222\n",
      "Epoch 7/20\n",
      " - 1s - loss: 0.0196 - val_loss: 0.0189\n",
      "Epoch 8/20\n",
      " - 1s - loss: 0.0170 - val_loss: 0.0167\n",
      "Epoch 9/20\n",
      " - 1s - loss: 0.0152 - val_loss: 0.0152\n",
      "Epoch 10/20\n",
      " - 1s - loss: 0.0140 - val_loss: 0.0140\n",
      "Epoch 11/20\n",
      " - 1s - loss: 0.0130 - val_loss: 0.0131\n",
      "Epoch 12/20\n",
      " - 1s - loss: 0.0123 - val_loss: 0.0125\n",
      "Epoch 13/20\n",
      " - 1s - loss: 0.0118 - val_loss: 0.0119\n",
      "Epoch 14/20\n",
      " - 1s - loss: 0.0113 - val_loss: 0.0115\n",
      "Epoch 15/20\n",
      " - 1s - loss: 0.0110 - val_loss: 0.0111\n",
      "Epoch 16/20\n",
      " - 1s - loss: 0.0106 - val_loss: 0.0108\n",
      "Epoch 17/20\n",
      " - 1s - loss: 0.0104 - val_loss: 0.0105\n",
      "Epoch 18/20\n",
      " - 1s - loss: 0.0102 - val_loss: 0.0103\n",
      "Epoch 19/20\n",
      " - 1s - loss: 0.0100 - val_loss: 0.0101\n",
      "Epoch 20/20\n",
      " - 1s - loss: 0.0098 - val_loss: 0.0100\n",
      "\t\t****** Iteration 1 ******\n",
      "\t\tSingle encoder decoder layer\n",
      "\t\tEncoder activation: elu\n",
      "\t\tDecoder activation: sigmoid\n",
      "\t\tOptimizer: adam\n",
      "\t\tloss: binary_crossentropy\n"
     ]
    },
    {
     "data": {
      "text/plain": [
       "[<matplotlib.lines.Line2D at 0x1ab8d8f1400>]"
      ]
     },
     "execution_count": 20,
     "metadata": {
      "tags": []
     },
     "output_type": "execute_result"
    },
    {
     "data": {
      "text/plain": [
       "[<matplotlib.lines.Line2D at 0x1ab8d87b278>]"
      ]
     },
     "execution_count": 20,
     "metadata": {
      "tags": []
     },
     "output_type": "execute_result"
    },
    {
     "data": {
      "text/plain": [
       "Text(0.5, 1.0, 'Iteration 1: Training vs validation loss ')"
      ]
     },
     "execution_count": 20,
     "metadata": {
      "tags": []
     },
     "output_type": "execute_result"
    },
    {
     "data": {
      "text/plain": [
       "Text(0.5, 0, 'Epochs')"
      ]
     },
     "execution_count": 20,
     "metadata": {
      "tags": []
     },
     "output_type": "execute_result"
    },
    {
     "data": {
      "text/plain": [
       "Text(0, 0.5, 'Loss')"
      ]
     },
     "execution_count": 20,
     "metadata": {
      "tags": []
     },
     "output_type": "execute_result"
    },
    {
     "data": {
      "text/plain": [
       "<matplotlib.legend.Legend at 0x1ab8d8dbf28>"
      ]
     },
     "execution_count": 20,
     "metadata": {
      "tags": []
     },
     "output_type": "execute_result"
    },
    {
     "data": {
      "image/png": "[encoded data removed]",
      "text/plain": [
       "<Figure size 432x288 with 1 Axes>"
      ]
     },
     "metadata": {
      "needs_background": "light",
      "tags": []
     },
     "output_type": "display_data"
    },
    {
     "data": {
      "image/png": "[encoded data removed]",
      "text/plain": [
       "<IPython.core.display.Image object>"
      ]
     },
     "execution_count": 20,
     "metadata": {
      "image/png": {
       "height": 147,
       "width": 186
      },
      "tags": []
     },
     "output_type": "execute_result"
    },
    {
     "name": "stdout",
     "output_type": "stream",
     "text": [
      "Iterations \n",
      "  Iteration                 Descr Activation Optimizer       Loss_Function  \\\n",
      "0         1  SingleEncoderDecoder        elu      adam  binarycrossentropy   \n",
      "\n",
      "   Training_Loss  Validation_Loss  \n",
      "0       0.009811         0.009952  \n",
      "Encoded word with 50 dimensions \n",
      " [-0.54586697  0.91413534  0.86699057  0.88072175  0.9012017   0.9867643\n",
      "  0.8798425  -0.56706285  0.8630198  -0.56221557  0.9216308   0.89053816\n",
      "  0.89602673 -0.54944694  0.92109597 -0.54674745  0.8991091   0.91448337\n",
      "  0.9209577   0.90876484 -0.54980695  0.86855316  0.92271847  0.8615775\n",
      " -0.5649625   0.9163488   0.8864219   0.9387469  -0.5531862  -0.53534734\n",
      "  0.88303614 -0.5524837   0.8394394  -0.56796837 -0.54723823  0.8971573\n",
      "  0.88373876 -0.5564053  -0.5536989   0.9193345   0.90552187 -0.5570586\n",
      "  0.8710973  -0.5653205   0.90848196  0.8697796  -0.56265163  0.88572836\n",
      " -0.5648627   0.8853659 ]\n",
      "Decoded word with 5000 dimensions \n",
      " [0.00024748 0.00024775 0.00022557 ... 0.0002721  0.00022447 0.00020811]\n",
      "Encoded word with 50 dimensions \n",
      " [-0.25391185  0.32185236  0.3047782   0.30170912  0.33455536  0.3377035\n",
      "  0.31402266 -0.25034535  0.3071424  -0.25507528  0.3084699   0.30999726\n",
      "  0.31544492 -0.2484734   0.3110598  -0.24717623  0.31637976  0.30769825\n",
      "  0.31415525  0.29788414 -0.255       0.30912265  0.30441773  0.3081626\n",
      " -0.25690287  0.3063136   0.3099304   0.320063   -0.25239933 -0.24655873\n",
      "  0.32003364 -0.25087     0.30333617 -0.25092888 -0.24899429  0.32287905\n",
      "  0.30169532 -0.24943972 -0.24524856  0.29719883  0.31155908 -0.2595386\n",
      "  0.307573   -0.26304692  0.3071008   0.3014622  -0.24604744  0.30347833\n",
      " -0.24930352  0.3027948 ]\n",
      "Decoded word with 5000 dimensions \n",
      " [0.04000795 0.04026824 0.03892004 ... 0.04164091 0.03897524 0.03772068]\n",
      "Encoded word with 50 dimensions \n",
      " [-0.75141597  1.4582492   1.4437504   1.4571497   1.5183198   1.5252898\n",
      "  1.4699218  -0.75021833  1.4694536  -0.75662726  1.5297023   1.4624486\n",
      "  1.5054306  -0.74277544  1.4633409  -0.7366854   1.4928209   1.4554738\n",
      "  1.4770949   1.4202678  -0.75292814  1.4828285   1.4814528   1.464139\n",
      " -0.74555635  1.4887022   1.4900744   1.48586    -0.74767566 -0.741472\n",
      "  1.523553   -0.7493878   1.4601623  -0.75802326 -0.74751806  1.4889259\n",
      "  1.4680184  -0.74315464 -0.73824483  1.4743776   1.494962   -0.7553469\n",
      "  1.4907058  -0.7493721   1.4796779   1.4560121  -0.74673104  1.4678204\n",
      " -0.7382072   1.4854082 ]\n",
      "Decoded word with 5000 dimensions \n",
      " [2.3245811e-06 2.2649765e-06 1.9371510e-06 ... 2.5629997e-06 1.9669533e-06\n",
      " 1.7285347e-06]\n",
      "Encoded word with 50 dimensions \n",
      " [-0.46108937  0.6792939   0.67167974  0.6242541   0.6967188   0.71879864\n",
      "  0.68876624 -0.47173232  0.6816242  -0.46311074  0.68919975  0.68689644\n",
      "  0.69808555 -0.47086793  0.68513274 -0.46455842  0.6870368   0.64705366\n",
      "  0.67210233  0.673115   -0.46457332  0.6710224   0.6319424   0.6369332\n",
      " -0.48441768  0.67203957  0.6522378   0.71128    -0.4557004  -0.45713526\n",
      "  0.6577548  -0.46575093  0.63754815 -0.45980388 -0.45071733  0.6771431\n",
      "  0.67168474 -0.46069288 -0.4565857   0.6378757   0.6716768  -0.4525438\n",
      "  0.6757435  -0.47865844  0.6562928   0.68077064 -0.48010075  0.6478386\n",
      " -0.4487993   0.64960444]\n",
      "Decoded word with 5000 dimensions \n",
      " [0.00163892 0.00165114 0.00153509 ... 0.00176623 0.0015313  0.00143909]\n"
     ]
    }
   ],
   "source": [
    "#------------\n",
    "#Iteration 1: \n",
    "#------------\n",
    "    # Encoder activation: elu\n",
    "    # Decoder activation: sigmoid\n",
    "    # Optimizer: adam\n",
    "    # Loss: binary_crossentropy\n",
    "    \n",
    "\n",
    "# Encoded Dense layer\n",
    "encoded_iter1 = Dense(encoding_dim, activation='elu')(input_words)\n",
    "\n",
    "# Decoded Dense layer\n",
    "decoded_iter1 = Dense(inp_dim, activation='sigmoid')(encoded_iter1)\n",
    "\n",
    "# this model maps an input to its reconstruction\n",
    "autoencoder_iter1 = Model(input_words, decoded_iter1)\n",
    "\n",
    "# this model maps an input to its encoded representation\n",
    "encoder_iter1 = Model(input_words, encoded_iter1)\n",
    "\n",
    "# retrieve the last layer of the autoencoder model\n",
    "decoder_layer_iter1 = autoencoder_iter1.layers[-1]\n",
    "\n",
    "# create the decoder model\n",
    "decoder_iter1 = Model(encoded_input, decoder_layer_iter1(encoded_input))\n",
    "\n",
    "autoencoder_iter1.compile(optimizer='adam', loss='binary_crossentropy')\n",
    "\n",
    "autoencoder_iter1.summary()\n",
    "\n",
    "history_iter1 = autoencoder_iter1.fit(x_train, x_train,\n",
    "                epochs=20,\n",
    "                batch_size=256,\n",
    "                shuffle=True,\n",
    "                verbose=2,\n",
    "                validation_data=(x_test, x_test))\n",
    "\n",
    "\n",
    "loss_iter1 = history_iter1.history['loss']\n",
    "val_loss_iter1 = history_iter1.history['val_loss']\n",
    "\n",
    "Iter_tbl = Iter_tbl.iloc[0:0]\n",
    "Iter_tbl=Iter_tbl.append({'Iteration': 1, 'Descr': 'SingleEncoderDecoder', 'Activation': 'elu', 'Optimizer': 'adam', 'Loss_Function': 'binarycrossentropy', 'Training_Loss': loss_iter1[-1],'Validation_Loss': val_loss_iter1[-1]}, ignore_index=True)\t\t\t\t\t\t\t\t\n",
    "\n",
    "epochs_iter1 = range(1, len(loss_iter1) + 1)\n",
    "print(\"\\t\\t****** Iteration 1 ******\")\n",
    "print(\"\\t\\tSingle encoder decoder layer\")\n",
    "print(\"\\t\\tEncoder activation: elu\")\n",
    "print(\"\\t\\tDecoder activation: sigmoid\")\n",
    "print(\"\\t\\tOptimizer: adam\")\n",
    "print(\"\\t\\tloss: binary_crossentropy\")\n",
    "\n",
    "# \"bo\" is for \"blue dot\"\n",
    "plt.plot(epochs_iter1, loss_iter1, 'bo', label='Training loss')\n",
    "# b is for \"solid blue line\"\n",
    "plt.plot(epochs_iter1, val_loss_iter1, 'b', label='Validation loss')\n",
    "plt.title('Iteration 1: Training vs validation loss ')\n",
    "plt.xlabel('Epochs')\n",
    "plt.ylabel('Loss')\n",
    "plt.legend()\n",
    "\n",
    "plt.show()\n",
    "\n",
    "plot_model(autoencoder_iter1, show_shapes=True, to_file='autoencoder_iter1.png',show_layer_names=True)\n",
    "from IPython.display import Image\n",
    "Image(retina=True, filename='autoencoder_iter1.png')\n",
    "\n",
    "print(\"Iterations \", Iter_tbl, sep='\\n')\n",
    "\n",
    "encoded_words_test_iter1 = encoder_iter1.predict(x_test)\n",
    "decoded_words_iter1 = decoder_iter1.predict(encoded_words_test_iter1)\n",
    "  \n",
    "for i in range(1, 5, 1):\n",
    "    print(\"Encoded word with {} dimensions \\n {}\".format(encoding_dim, encoded_words_test_iter1[i]))\n",
    "    print(\"Decoded word with {} dimensions \\n {}\".format(inp_dim, decoded_words_iter1[i]))\n",
    "    \n",
    "    "
   ]
  },
  {
   "cell_type": "markdown",
   "metadata": {
    "colab_type": "text",
    "id": "M5TD9ibw4GxK"
   },
   "source": [
    "### Iteration 2"
   ]
  },
  {
   "cell_type": "code",
   "execution_count": 0,
   "metadata": {
    "colab": {
     "base_uri": "https://localhost:8080/",
     "height": 1000
    },
    "colab_type": "code",
    "id": "vmthftgndKHd",
    "outputId": "8cd8beac-2814-4575-b604-082cdb8590a7"
   },
   "outputs": [
    {
     "name": "stdout",
     "output_type": "stream",
     "text": [
      "_________________________________________________________________\n",
      "Layer (type)                 Output Shape              Param #   \n",
      "=================================================================\n",
      "input_1 (InputLayer)         (None, 5000)              0         \n",
      "_________________________________________________________________\n",
      "dense_3 (Dense)              (None, 50)                250050    \n",
      "_________________________________________________________________\n",
      "dense_4 (Dense)              (None, 5000)              255000    \n",
      "=================================================================\n",
      "Total params: 505,050\n",
      "Trainable params: 505,050\n",
      "Non-trainable params: 0\n",
      "_________________________________________________________________\n",
      "Train on 11314 samples, validate on 7532 samples\n",
      "Epoch 1/20\n",
      " - 1s - loss: 0.6448 - val_loss: 0.5112\n",
      "Epoch 2/20\n",
      " - 1s - loss: 0.3068 - val_loss: 0.1438\n",
      "Epoch 3/20\n",
      " - 1s - loss: 0.0886 - val_loss: 0.0573\n",
      "Epoch 4/20\n",
      " - 1s - loss: 0.0434 - val_loss: 0.0356\n",
      "Epoch 5/20\n",
      " - 1s - loss: 0.0294 - val_loss: 0.0265\n",
      "Epoch 6/20\n",
      " - 1s - loss: 0.0228 - val_loss: 0.0216\n",
      "Epoch 7/20\n",
      " - 1s - loss: 0.0191 - val_loss: 0.0186\n",
      "Epoch 8/20\n",
      " - 1s - loss: 0.0167 - val_loss: 0.0165\n",
      "Epoch 9/20\n",
      " - 1s - loss: 0.0151 - val_loss: 0.0151\n",
      "Epoch 10/20\n",
      " - 1s - loss: 0.0140 - val_loss: 0.0141\n",
      "Epoch 11/20\n",
      " - 1s - loss: 0.0131 - val_loss: 0.0133\n",
      "Epoch 12/20\n",
      " - 1s - loss: 0.0124 - val_loss: 0.0126\n",
      "Epoch 13/20\n",
      " - 1s - loss: 0.0119 - val_loss: 0.0121\n",
      "Epoch 14/20\n",
      " - 1s - loss: 0.0115 - val_loss: 0.0117\n",
      "Epoch 15/20\n",
      " - 1s - loss: 0.0111 - val_loss: 0.0113\n",
      "Epoch 16/20\n",
      " - 1s - loss: 0.0109 - val_loss: 0.0110\n",
      "Epoch 17/20\n",
      " - 1s - loss: 0.0106 - val_loss: 0.0108\n",
      "Epoch 18/20\n",
      " - 1s - loss: 0.0104 - val_loss: 0.0106\n",
      "Epoch 19/20\n",
      " - 1s - loss: 0.0102 - val_loss: 0.0104\n",
      "Epoch 20/20\n",
      " - 1s - loss: 0.0100 - val_loss: 0.0102\n",
      "\t\t****** Iteration 2 ******\n",
      "\t\tSingle encoder decoder layer\n",
      "\t\tEncoder activation: relu\n",
      "\t\tDecoder activation: sigmoid\n",
      "\t\tOptimizer: adam\n",
      "\t\tloss: binary_crossentropy\n"
     ]
    },
    {
     "data": {
      "text/plain": [
       "[<matplotlib.lines.Line2D at 0x1ab8e9664e0>]"
      ]
     },
     "execution_count": 21,
     "metadata": {
      "tags": []
     },
     "output_type": "execute_result"
    },
    {
     "data": {
      "text/plain": [
       "[<matplotlib.lines.Line2D at 0x1ab8d96f160>]"
      ]
     },
     "execution_count": 21,
     "metadata": {
      "tags": []
     },
     "output_type": "execute_result"
    },
    {
     "data": {
      "text/plain": [
       "Text(0.5, 1.0, 'Iteration 2: Training vs validation loss ')"
      ]
     },
     "execution_count": 21,
     "metadata": {
      "tags": []
     },
     "output_type": "execute_result"
    },
    {
     "data": {
      "text/plain": [
       "Text(0.5, 0, 'Epochs')"
      ]
     },
     "execution_count": 21,
     "metadata": {
      "tags": []
     },
     "output_type": "execute_result"
    },
    {
     "data": {
      "text/plain": [
       "Text(0, 0.5, 'Loss')"
      ]
     },
     "execution_count": 21,
     "metadata": {
      "tags": []
     },
     "output_type": "execute_result"
    },
    {
     "data": {
      "text/plain": [
       "<matplotlib.legend.Legend at 0x1ab8e958048>"
      ]
     },
     "execution_count": 21,
     "metadata": {
      "tags": []
     },
     "output_type": "execute_result"
    },
    {
     "data": {
      "image/png": "[encoded data removed]",
      "text/plain": [
       "<Figure size 432x288 with 1 Axes>"
      ]
     },
     "metadata": {
      "needs_background": "light",
      "tags": []
     },
     "output_type": "display_data"
    },
    {
     "data": {
      "image/png": "[encoded data removed]",
      "text/plain": [
       "<IPython.core.display.Image object>"
      ]
     },
     "execution_count": 21,
     "metadata": {
      "image/png": {
       "height": 147,
       "width": 186
      },
      "tags": []
     },
     "output_type": "execute_result"
    },
    {
     "name": "stdout",
     "output_type": "stream",
     "text": [
      "Iterations \n",
      "  Iteration                 Descr Activation Optimizer       Loss_Function  \\\n",
      "0         1  SingleEncoderDecoder        elu      adam  binarycrossentropy   \n",
      "1         2  SingleEncoderDecoder       relu      adam  binarycrossentropy   \n",
      "\n",
      "   Training_Loss  Validation_Loss  \n",
      "0       0.009811         0.009952  \n",
      "1       0.010033         0.010201  \n",
      "Encoded word with 50 dimensions \n",
      " [0.83936095 0.823496   0.85115683 0.8497699  0.8275435  0.84598637\n",
      " 0.8139154  0.86487603 0.8200104  0.8314624  0.82975334 0.8910989\n",
      " 0.81080055 0.88191795 0.80484915 0.84787136 0.81272125 0.81778586\n",
      " 0.8487797  0.8607253  0.853295   0.840057   0.80895317 0.84446394\n",
      " 0.82638764 0.82341003 0.8179772  0.87043303 0.80735576 0.82723355\n",
      " 0.8597252  0.86060727 0.80727416 0.8378857  0.87039185 0.8398746\n",
      " 0.87244034 0.8213335  0.829893   0.80299526 0.8306978  0.85228986\n",
      " 0.79761827 0.8459381  0.81448996 0.7968943  0.8210331  0.8392987\n",
      " 0.82317317 0.80631375]\n",
      "Decoded word with 5000 dimensions \n",
      " [0.00018474 0.00016782 0.00015011 ... 0.00016347 0.00014663 0.00015017]\n",
      "Encoded word with 50 dimensions \n",
      " [0.3001229  0.29337686 0.2949408  0.29753095 0.2920561  0.30964303\n",
      " 0.2920222  0.2993329  0.29005745 0.29275355 0.2967289  0.29855686\n",
      " 0.2970139  0.29127985 0.29186842 0.29218823 0.2938829  0.29235777\n",
      " 0.29714847 0.29169908 0.29187775 0.2961757  0.2943615  0.29670712\n",
      " 0.2948917  0.29384917 0.30206737 0.29336494 0.29352465 0.29467115\n",
      " 0.2934419  0.29500493 0.29061675 0.29741567 0.29201993 0.31056267\n",
      " 0.2982452  0.29433212 0.2976776  0.2926578  0.29835534 0.29670346\n",
      " 0.29323772 0.29211387 0.29292732 0.29552898 0.29412267 0.29003066\n",
      " 0.29801133 0.29277822]\n",
      "Decoded word with 5000 dimensions \n",
      " [0.04213712 0.04084191 0.03926182 ... 0.04054832 0.03908277 0.03926119]\n",
      "Encoded word with 50 dimensions \n",
      " [1.3355802 1.3923497 1.4011347 1.3623993 1.3653706 1.3960564 1.3611469\n",
      " 1.3823988 1.4069291 1.353886  1.3793585 1.3365409 1.3660239 1.3709965\n",
      " 1.3683908 1.3537817 1.3781388 1.3711525 1.3506854 1.3817812 1.3724654\n",
      " 1.3748541 1.3442808 1.3843179 1.3704636 1.3789918 1.4037349 1.3859854\n",
      " 1.3445822 1.3318733 1.3384798 1.3429599 1.394798  1.3678117 1.3497163\n",
      " 1.4017909 1.3893808 1.3954765 1.3923743 1.3597403 1.3613112 1.393969\n",
      " 1.3830724 1.3954973 1.379082  1.3577341 1.3525367 1.3879998 1.4028273\n",
      " 1.3711019]\n",
      "Decoded word with 5000 dimensions \n",
      " [7.748604e-07 6.854534e-07 5.662441e-07 ... 6.854534e-07 5.364418e-07\n",
      " 5.662441e-07]\n",
      "Encoded word with 50 dimensions \n",
      " [0.5983974  0.651119   0.56887627 0.61718243 0.62139976 0.62454593\n",
      " 0.6052772  0.6323584  0.59637713 0.62796247 0.6247475  0.65413034\n",
      " 0.6641276  0.6100739  0.64252675 0.61311936 0.65433395 0.6273289\n",
      " 0.6342817  0.59510446 0.6332587  0.6147814  0.60256636 0.63362896\n",
      " 0.6477344  0.6171232  0.6369866  0.6096059  0.6258667  0.5914257\n",
      " 0.6229315  0.6390723  0.6026483  0.6592532  0.6086371  0.6367196\n",
      " 0.6212493  0.6410439  0.62357426 0.6036235  0.628788   0.6518173\n",
      " 0.6440207  0.6328018  0.6213419  0.63912755 0.63785017 0.66678977\n",
      " 0.6320784  0.62310535]\n",
      "Decoded word with 5000 dimensions \n",
      " [0.00152361 0.00142351 0.00130787 ... 0.00139529 0.00129017 0.00131226]\n"
     ]
    }
   ],
   "source": [
    "#------------\n",
    "#Iteration 2: \n",
    "#------------\n",
    "    # Encoder activation: relu\n",
    "    # Decoder activation: sigmoid\n",
    "    # Optimizer: adam\n",
    "    # Loss: binary_crossentropy\n",
    "\n",
    "# Encoded Dense layer\n",
    "encoded_iter2 = Dense(encoding_dim, activation='relu')(input_words)\n",
    "\n",
    "# Decoded Dense layer\n",
    "decoded_iter2 = Dense(inp_dim, activation='sigmoid')(encoded_iter2)\n",
    "\n",
    "# this model maps an input to its reconstruction\n",
    "autoencoder_iter2 = Model(input_words, decoded_iter2)\n",
    "\n",
    "# this model maps an input to its encoded representation\n",
    "encoder_iter2 = Model(input_words, encoded_iter2)\n",
    "\n",
    "# retrieve the last layer of the autoencoder model\n",
    "decoder_layer_iter2 = autoencoder_iter2.layers[-1]\n",
    "\n",
    "# create the decoder model\n",
    "decoder_iter2 = Model(encoded_input, decoder_layer_iter2(encoded_input))\n",
    "\n",
    "autoencoder_iter2.compile(optimizer='adam', loss='binary_crossentropy')\n",
    "\n",
    "autoencoder_iter2.summary()\n",
    "\n",
    "history_iter2 = autoencoder_iter2.fit(x_train, x_train,\n",
    "                epochs=20,\n",
    "                batch_size=256,\n",
    "                shuffle=True,\n",
    "                verbose=2,\n",
    "                validation_data=(x_test, x_test))\n",
    "\t\t\t\t\t\t\t\t\n",
    "loss_iter2 = history_iter2.history['loss']\n",
    "val_loss_iter2 = history_iter2.history['val_loss']\n",
    "\n",
    "Iter_tbl=Iter_tbl.append({'Iteration': 2, 'Descr': 'SingleEncoderDecoder', 'Activation': 'relu', 'Optimizer': 'adam', 'Loss_Function': 'binarycrossentropy', 'Training_Loss': loss_iter2[-1],'Validation_Loss': val_loss_iter2[-1]}, ignore_index=True)\t\n",
    "\n",
    "epochs_iter2 = range(1, len(loss_iter2) + 1)\n",
    "\n",
    "print(\"\\t\\t****** Iteration 2 ******\")\n",
    "print(\"\\t\\tSingle encoder decoder layer\")\n",
    "print(\"\\t\\tEncoder activation: relu\")\n",
    "print(\"\\t\\tDecoder activation: sigmoid\")\n",
    "print(\"\\t\\tOptimizer: adam\")\n",
    "print(\"\\t\\tloss: binary_crossentropy\")\n",
    "\n",
    "# \"bo\" is for \"blue dot\"\n",
    "plt.plot(epochs_iter2, loss_iter2, 'bo', label='Training loss')\n",
    "# b is for \"solid blue line\"\n",
    "plt.plot(epochs_iter2, val_loss_iter2, 'b', label='Validation loss')\n",
    "plt.title('Iteration 2: Training vs validation loss ')\n",
    "plt.xlabel('Epochs')\n",
    "plt.ylabel('Loss')\n",
    "plt.legend()\n",
    "\n",
    "plt.show()\n",
    "\n",
    "plot_model(autoencoder_iter2, show_shapes=True, to_file='autoencoder_iter2.png',show_layer_names=True)\n",
    "from IPython.display import Image\n",
    "Image(retina=True, filename='autoencoder_iter2.png')\n",
    "\n",
    "print(\"Iterations \", Iter_tbl, sep='\\n')\n",
    "\n",
    "encoded_words_test_iter2 = encoder_iter2.predict(x_test)\n",
    "decoded_words_iter2 = decoder_iter2.predict(encoded_words_test_iter2)\n",
    "  \n",
    "for i in range(1, 5, 1):\n",
    "    print(\"Encoded word with {} dimensions \\n {}\".format(encoding_dim, encoded_words_test_iter2[i]))\n",
    "    print(\"Decoded word with {} dimensions \\n {}\".format(inp_dim, decoded_words_iter2[i]))\n"
   ]
  },
  {
   "cell_type": "markdown",
   "metadata": {
    "colab_type": "text",
    "id": "-Q_6aEVQ4GxN"
   },
   "source": [
    "### Iteration 3"
   ]
  },
  {
   "cell_type": "code",
   "execution_count": 0,
   "metadata": {
    "colab": {
     "base_uri": "https://localhost:8080/",
     "height": 1000
    },
    "colab_type": "code",
    "id": "psu66-0ykLgd",
    "outputId": "6232bf69-067b-4b95-f856-4d9052bc5860"
   },
   "outputs": [
    {
     "name": "stdout",
     "output_type": "stream",
     "text": [
      "_________________________________________________________________\n",
      "Layer (type)                 Output Shape              Param #   \n",
      "=================================================================\n",
      "input_1 (InputLayer)         (None, 5000)              0         \n",
      "_________________________________________________________________\n",
      "dense_5 (Dense)              (None, 50)                250050    \n",
      "_________________________________________________________________\n",
      "dense_6 (Dense)              (None, 5000)              255000    \n",
      "=================================================================\n",
      "Total params: 505,050\n",
      "Trainable params: 505,050\n",
      "Non-trainable params: 0\n",
      "_________________________________________________________________\n",
      "Train on 11314 samples, validate on 7532 samples\n",
      "Epoch 1/20\n",
      " - 1s - loss: 0.6921 - val_loss: 0.6909\n",
      "Epoch 2/20\n",
      " - 1s - loss: 0.6898 - val_loss: 0.6887\n",
      "Epoch 3/20\n",
      " - 1s - loss: 0.6876 - val_loss: 0.6864\n",
      "Epoch 4/20\n",
      " - 1s - loss: 0.6853 - val_loss: 0.6841\n",
      "Epoch 5/20\n",
      " - 1s - loss: 0.6830 - val_loss: 0.6818\n",
      "Epoch 6/20\n",
      " - 1s - loss: 0.6807 - val_loss: 0.6794\n",
      "Epoch 7/20\n",
      " - 1s - loss: 0.6782 - val_loss: 0.6769\n",
      "Epoch 8/20\n",
      " - 1s - loss: 0.6755 - val_loss: 0.6740\n",
      "Epoch 9/20\n",
      " - 1s - loss: 0.6724 - val_loss: 0.6705\n",
      "Epoch 10/20\n",
      " - 1s - loss: 0.6685 - val_loss: 0.6660\n",
      "Epoch 11/20\n",
      " - 1s - loss: 0.6631 - val_loss: 0.6596\n",
      "Epoch 12/20\n",
      " - 1s - loss: 0.6553 - val_loss: 0.6500\n",
      "Epoch 13/20\n",
      " - 1s - loss: 0.6433 - val_loss: 0.6348\n",
      "Epoch 14/20\n",
      " - 1s - loss: 0.6242 - val_loss: 0.6109\n",
      "Epoch 15/20\n",
      " - 1s - loss: 0.5943 - val_loss: 0.5738\n",
      "Epoch 16/20\n",
      " - 1s - loss: 0.5493 - val_loss: 0.5197\n",
      "Epoch 17/20\n",
      " - 1s - loss: 0.4867 - val_loss: 0.4482\n",
      "Epoch 18/20\n",
      " - 1s - loss: 0.4092 - val_loss: 0.3659\n",
      "Epoch 19/20\n",
      " - 1s - loss: 0.3264 - val_loss: 0.2850\n",
      "Epoch 20/20\n",
      " - 1s - loss: 0.2506 - val_loss: 0.2161\n",
      "\t\t****** Iteration 3 ******\n",
      "\t\tSingle encoder decoder layer\n",
      "\t\tEncoder activation: relu\n",
      "\t\tDecoder activation: sigmoid\n",
      "\t\tOptimizer: adadelta\n",
      "\t\tloss: binary_crossentropy\n"
     ]
    },
    {
     "data": {
      "text/plain": [
       "[<matplotlib.lines.Line2D at 0x1ab8e560be0>]"
      ]
     },
     "execution_count": 22,
     "metadata": {
      "tags": []
     },
     "output_type": "execute_result"
    },
    {
     "data": {
      "text/plain": [
       "[<matplotlib.lines.Line2D at 0x1ab8df728d0>]"
      ]
     },
     "execution_count": 22,
     "metadata": {
      "tags": []
     },
     "output_type": "execute_result"
    },
    {
     "data": {
      "text/plain": [
       "Text(0.5, 1.0, 'Iteration 3: Training vs validation loss ')"
      ]
     },
     "execution_count": 22,
     "metadata": {
      "tags": []
     },
     "output_type": "execute_result"
    },
    {
     "data": {
      "text/plain": [
       "Text(0.5, 0, 'Epochs')"
      ]
     },
     "execution_count": 22,
     "metadata": {
      "tags": []
     },
     "output_type": "execute_result"
    },
    {
     "data": {
      "text/plain": [
       "Text(0, 0.5, 'Loss')"
      ]
     },
     "execution_count": 22,
     "metadata": {
      "tags": []
     },
     "output_type": "execute_result"
    },
    {
     "data": {
      "text/plain": [
       "<matplotlib.legend.Legend at 0x1ab8e560f60>"
      ]
     },
     "execution_count": 22,
     "metadata": {
      "tags": []
     },
     "output_type": "execute_result"
    },
    {
     "data": {
      "image/png": "[encoded data removed]",
      "text/plain": [
       "<Figure size 432x288 with 1 Axes>"
      ]
     },
     "metadata": {
      "needs_background": "light",
      "tags": []
     },
     "output_type": "display_data"
    },
    {
     "data": {
      "image/png": "[encoded data removed]",
      "text/plain": [
       "<IPython.core.display.Image object>"
      ]
     },
     "execution_count": 22,
     "metadata": {
      "image/png": {
       "height": 147,
       "width": 186
      },
      "tags": []
     },
     "output_type": "execute_result"
    },
    {
     "name": "stdout",
     "output_type": "stream",
     "text": [
      "Iterations \n",
      "  Iteration                 Descr Activation Optimizer       Loss_Function  \\\n",
      "0         1  SingleEncoderDecoder        elu      adam  binarycrossentropy   \n",
      "1         2  SingleEncoderDecoder       relu      adam  binarycrossentropy   \n",
      "2         3  SingleEncoderDecoder       relu  adadelta  binarycrossentropy   \n",
      "\n",
      "   Training_Loss  Validation_Loss  \n",
      "0       0.009811         0.009952  \n",
      "1       0.010033         0.010201  \n",
      "2       0.250595         0.216126  \n",
      "Encoded word with 50 dimensions \n",
      " [1.3886348e+00 1.4998474e+00 2.0697750e-03 2.2911830e+00 4.2601101e-02\n",
      " 2.8154230e+00 3.0494234e-02 1.8800530e-01 2.0318103e+00 2.0446165e+00\n",
      " 1.8318466e+00 5.2833661e-02 3.8065112e-01 2.9141808e+00 3.4679659e-04\n",
      " 2.9366684e+00 3.1598441e-02 1.4548991e+00 1.7083408e-01 2.3238392e+00\n",
      " 0.0000000e+00 0.0000000e+00 0.0000000e+00 9.5966369e-01 2.7027576e+00\n",
      " 0.0000000e+00 1.4338275e+00 1.2113404e+00 1.2384583e-01 4.3763998e-01\n",
      " 0.0000000e+00 6.6866703e-02 4.1003283e-03 3.4827596e-01 0.0000000e+00\n",
      " 0.0000000e+00 2.6058071e+00 9.3602705e-01 0.0000000e+00 0.0000000e+00\n",
      " 1.2676841e+00 0.0000000e+00 3.3535628e+00 0.0000000e+00 1.0871942e+00\n",
      " 1.0537280e+00 1.2833427e+00 0.0000000e+00 0.0000000e+00 7.4498080e-02]\n",
      "Decoded word with 5000 dimensions \n",
      " [0.23413196 0.19501796 0.2217705  ... 0.19249514 0.19251263 0.1808542 ]\n",
      "Encoded word with 50 dimensions \n",
      " [1.337412   1.517797   0.         2.254752   0.02006764 2.7533572\n",
      " 0.02852841 0.17757103 1.9794948  2.0127513  1.809589   0.05321892\n",
      " 0.3916268  2.8456311  0.         2.9265785  0.         1.4490649\n",
      " 0.17977199 2.2555776  0.         0.         0.         0.95371115\n",
      " 2.6745827  0.         1.4233128  1.2171882  0.13879032 0.42670158\n",
      " 0.         0.05940906 0.         0.30211923 0.         0.00554634\n",
      " 2.5578887  0.94598126 0.         0.         1.279161   0.\n",
      " 3.316429   0.         1.1077598  1.0343481  1.2759496  0.\n",
      " 0.         0.09475336]\n",
      "Decoded word with 5000 dimensions \n",
      " [0.23644614 0.1975283  0.22422469 ... 0.19524652 0.19572735 0.18290639]\n",
      "Encoded word with 50 dimensions \n",
      " [1.37791777e+00 1.57055247e+00 0.00000000e+00 2.31927919e+00\n",
      " 4.84409295e-02 2.86595607e+00 3.18212733e-02 1.83394730e-01\n",
      " 2.04043961e+00 2.09904122e+00 1.87286770e+00 5.02994545e-02\n",
      " 4.05337930e-01 2.96173000e+00 0.00000000e+00 3.02952647e+00\n",
      " 0.00000000e+00 1.52549636e+00 1.74728394e-01 2.37943983e+00\n",
      " 1.50618143e-03 3.64312623e-03 1.20756505e-02 9.97214675e-01\n",
      " 2.80048323e+00 0.00000000e+00 1.47964752e+00 1.28862631e+00\n",
      " 1.25134796e-01 4.66215789e-01 0.00000000e+00 5.25511876e-02\n",
      " 0.00000000e+00 2.92811334e-01 0.00000000e+00 0.00000000e+00\n",
      " 2.61522484e+00 9.55839932e-01 0.00000000e+00 0.00000000e+00\n",
      " 1.31640124e+00 0.00000000e+00 3.43467069e+00 0.00000000e+00\n",
      " 1.16625583e+00 1.04977369e+00 1.33083320e+00 0.00000000e+00\n",
      " 0.00000000e+00 1.18238606e-01]\n",
      "Decoded word with 5000 dimensions \n",
      " [0.22931114 0.19001311 0.21738905 ... 0.18727943 0.18781981 0.1751984 ]\n",
      "Encoded word with 50 dimensions \n",
      " [1.33148611e+00 1.54903758e+00 0.00000000e+00 2.32353687e+00\n",
      " 3.39511260e-02 2.79288960e+00 3.08931880e-02 2.10381210e-01\n",
      " 2.02014279e+00 2.03774333e+00 1.83037782e+00 1.00765809e-01\n",
      " 3.79781097e-01 2.84548044e+00 0.00000000e+00 2.95519519e+00\n",
      " 0.00000000e+00 1.48303175e+00 2.08537802e-01 2.28063202e+00\n",
      " 0.00000000e+00 0.00000000e+00 1.23433610e-02 9.89275694e-01\n",
      " 2.71047616e+00 0.00000000e+00 1.41823423e+00 1.20220959e+00\n",
      " 1.10120654e-01 4.32947606e-01 0.00000000e+00 5.16208820e-02\n",
      " 0.00000000e+00 2.95121670e-01 0.00000000e+00 0.00000000e+00\n",
      " 2.54402065e+00 9.53488290e-01 0.00000000e+00 0.00000000e+00\n",
      " 1.27645648e+00 0.00000000e+00 3.36119580e+00 0.00000000e+00\n",
      " 1.13432491e+00 1.06764257e+00 1.28348875e+00 1.07042119e-03\n",
      " 3.97343338e-02 9.04247910e-02]\n",
      "Decoded word with 5000 dimensions \n",
      " [0.23355922 0.1948461  0.2220611  ... 0.19328111 0.19343916 0.18116048]\n"
     ]
    }
   ],
   "source": [
    "#------------\n",
    "#Iteration 3: \n",
    "#------------\n",
    "    # Encoder activation: relu\n",
    "    # Decoder activation: sigmoid\n",
    "    # Optimizer: adadelta\n",
    "    # Loss: binary_crossentropy\n",
    "\n",
    "# Encoded Dense layer\n",
    "encoded_iter3 = Dense(encoding_dim, activation='relu')(input_words)\n",
    "\n",
    "# Decoded Dense layer\n",
    "decoded_iter3 = Dense(inp_dim, activation='sigmoid')(encoded_iter3)\n",
    "\n",
    "# this model maps an input to its reconstruction\n",
    "autoencoder_iter3 = Model(input_words, decoded_iter3)\n",
    "\n",
    "# this model maps an input to its encoded representation\n",
    "encoder_iter3 = Model(input_words, encoded_iter3)\n",
    "\n",
    "# retrieve the last layer of the autoencoder model\n",
    "decoder_layer_iter3 = autoencoder_iter3.layers[-1]\n",
    "\n",
    "# create the decoder model\n",
    "decoder_iter3 = Model(encoded_input, decoder_layer_iter3(encoded_input))\n",
    "\n",
    "autoencoder_iter3.compile(optimizer='adadelta', loss='binary_crossentropy')\n",
    "\n",
    "autoencoder_iter3.summary()\n",
    "\n",
    "history_iter3 = autoencoder_iter3.fit(x_train, x_train,\n",
    "                epochs=20,\n",
    "                batch_size=256,\n",
    "                shuffle=True,\n",
    "                verbose=2,\n",
    "                validation_data=(x_test, x_test))\n",
    "\t\t\t\t\t\t\t\t\n",
    "loss_iter3 = history_iter3.history['loss']\n",
    "val_loss_iter3 = history_iter3.history['val_loss']\n",
    "\n",
    "Iter_tbl=Iter_tbl.append({'Iteration': 3, 'Descr': 'SingleEncoderDecoder', 'Activation': 'relu', 'Optimizer': 'adadelta', 'Loss_Function': 'binarycrossentropy', 'Training_Loss': loss_iter3[-1],'Validation_Loss': val_loss_iter3[-1]}, ignore_index=True)\t\n",
    "\n",
    "epochs_iter3 = range(1, len(loss_iter3) + 1)\n",
    "\n",
    "print(\"\\t\\t****** Iteration 3 ******\")\n",
    "print(\"\\t\\tSingle encoder decoder layer\")\n",
    "print(\"\\t\\tEncoder activation: relu\")\n",
    "print(\"\\t\\tDecoder activation: sigmoid\")\n",
    "print(\"\\t\\tOptimizer: adadelta\")\n",
    "print(\"\\t\\tloss: binary_crossentropy\")\n",
    "\n",
    "# \"bo\" is for \"blue dot\"\n",
    "plt.plot(epochs_iter3, loss_iter3, 'bo', label='Training loss')\n",
    "# b is for \"solid blue line\"\n",
    "plt.plot(epochs_iter3, val_loss_iter3, 'b', label='Validation loss')\n",
    "plt.title('Iteration 3: Training vs validation loss ')\n",
    "plt.xlabel('Epochs')\n",
    "plt.ylabel('Loss')\n",
    "plt.legend()\n",
    "\n",
    "plt.show()\n",
    "\n",
    "plot_model(autoencoder_iter3, show_shapes=True, to_file='autoencoder_iter3.png',show_layer_names=True)\n",
    "from IPython.display import Image\n",
    "Image(retina=True, filename='autoencoder_iter3.png')\n",
    "\n",
    "print(\"Iterations \", Iter_tbl, sep='\\n')\n",
    "\n",
    "encoded_words_test_iter3 = encoder_iter3.predict(x_test)\n",
    "decoded_words_iter3 = decoder_iter3.predict(encoded_words_test_iter3)\n",
    "  \n",
    "for i in range(1, 5, 1):\n",
    "    print(\"Encoded word with {} dimensions \\n {}\".format(encoding_dim, encoded_words_test_iter3[i]))\n",
    "    print(\"Decoded word with {} dimensions \\n {}\".format(inp_dim, decoded_words_iter3[i]))\n",
    "\n",
    "\n",
    "\t"
   ]
  },
  {
   "cell_type": "markdown",
   "metadata": {
    "colab_type": "text",
    "id": "3ck3pSNI4GxR"
   },
   "source": [
    "### Iteration 4"
   ]
  },
  {
   "cell_type": "code",
   "execution_count": 0,
   "metadata": {
    "colab": {
     "base_uri": "https://localhost:8080/",
     "height": 1000
    },
    "colab_type": "code",
    "id": "qRAr0hrFopb0",
    "outputId": "5abfc278-7206-4a50-b788-1d1427545f09"
   },
   "outputs": [
    {
     "name": "stdout",
     "output_type": "stream",
     "text": [
      "_________________________________________________________________\n",
      "Layer (type)                 Output Shape              Param #   \n",
      "=================================================================\n",
      "input_1 (InputLayer)         (None, 5000)              0         \n",
      "_________________________________________________________________\n",
      "dense_7 (Dense)              (None, 50)                250050    \n",
      "_________________________________________________________________\n",
      "dense_8 (Dense)              (None, 5000)              255000    \n",
      "=================================================================\n",
      "Total params: 505,050\n",
      "Trainable params: 505,050\n",
      "Non-trainable params: 0\n",
      "_________________________________________________________________\n",
      "Train on 11314 samples, validate on 7532 samples\n",
      "Epoch 1/20\n",
      " - 1s - loss: 0.2311 - val_loss: 0.1777\n",
      "Epoch 2/20\n",
      " - 1s - loss: 0.0918 - val_loss: 0.0317\n",
      "Epoch 3/20\n",
      " - 1s - loss: 0.0180 - val_loss: 0.0113\n",
      "Epoch 4/20\n",
      " - 1s - loss: 0.0082 - val_loss: 0.0067\n",
      "Epoch 5/20\n",
      " - 1s - loss: 0.0053 - val_loss: 0.0047\n",
      "Epoch 6/20\n",
      " - 1s - loss: 0.0038 - val_loss: 0.0036\n",
      "Epoch 7/20\n",
      " - 1s - loss: 0.0029 - val_loss: 0.0029\n",
      "Epoch 8/20\n",
      " - 1s - loss: 0.0024 - val_loss: 0.0024\n",
      "Epoch 9/20\n",
      " - 1s - loss: 0.0020 - val_loss: 0.0020\n",
      "Epoch 10/20\n",
      " - 1s - loss: 0.0017 - val_loss: 0.0017\n",
      "Epoch 11/20\n",
      " - 1s - loss: 0.0014 - val_loss: 0.0015\n",
      "Epoch 12/20\n",
      " - 1s - loss: 0.0013 - val_loss: 0.0013\n",
      "Epoch 13/20\n",
      " - 1s - loss: 0.0011 - val_loss: 0.0012\n",
      "Epoch 14/20\n",
      " - 1s - loss: 9.9557e-04 - val_loss: 0.0010\n",
      "Epoch 15/20\n",
      " - 1s - loss: 8.9828e-04 - val_loss: 9.4475e-04\n",
      "Epoch 16/20\n",
      " - 1s - loss: 8.1768e-04 - val_loss: 8.6138e-04\n",
      "Epoch 17/20\n",
      " - 1s - loss: 7.4945e-04 - val_loss: 7.9121e-04\n",
      "Epoch 18/20\n",
      " - 1s - loss: 6.9167e-04 - val_loss: 7.3136e-04\n",
      "Epoch 19/20\n",
      " - 1s - loss: 6.4195e-04 - val_loss: 6.7976e-04\n",
      "Epoch 20/20\n",
      " - 1s - loss: 5.9913e-04 - val_loss: 6.3281e-04\n",
      "\t\t****** Iteration 4 ******\n",
      "\t\tSingle encoder decoder layer\n",
      "\t\tEncoder activation: relu\n",
      "\t\tDecoder activation: sigmoid\n",
      "\t\tOptimizer: adam\n",
      "\t\tloss: mse\n"
     ]
    },
    {
     "data": {
      "text/plain": [
       "[<matplotlib.lines.Line2D at 0x1ab8eae8f60>]"
      ]
     },
     "execution_count": 23,
     "metadata": {
      "tags": []
     },
     "output_type": "execute_result"
    },
    {
     "data": {
      "text/plain": [
       "[<matplotlib.lines.Line2D at 0x1ab8df81780>]"
      ]
     },
     "execution_count": 23,
     "metadata": {
      "tags": []
     },
     "output_type": "execute_result"
    },
    {
     "data": {
      "text/plain": [
       "Text(0.5, 1.0, 'Iteration 4: Training vs validation loss ')"
      ]
     },
     "execution_count": 23,
     "metadata": {
      "tags": []
     },
     "output_type": "execute_result"
    },
    {
     "data": {
      "text/plain": [
       "Text(0.5, 0, 'Epochs')"
      ]
     },
     "execution_count": 23,
     "metadata": {
      "tags": []
     },
     "output_type": "execute_result"
    },
    {
     "data": {
      "text/plain": [
       "Text(0, 0.5, 'Loss')"
      ]
     },
     "execution_count": 23,
     "metadata": {
      "tags": []
     },
     "output_type": "execute_result"
    },
    {
     "data": {
      "text/plain": [
       "<matplotlib.legend.Legend at 0x1ab8eaf1710>"
      ]
     },
     "execution_count": 23,
     "metadata": {
      "tags": []
     },
     "output_type": "execute_result"
    },
    {
     "data": {
      "image/png": "[encoded data removed]",
      "text/plain": [
       "<Figure size 432x288 with 1 Axes>"
      ]
     },
     "metadata": {
      "needs_background": "light",
      "tags": []
     },
     "output_type": "display_data"
    },
    {
     "data": {
      "image/png": "[encoded data removed]",
      "text/plain": [
       "<IPython.core.display.Image object>"
      ]
     },
     "execution_count": 23,
     "metadata": {
      "image/png": {
       "height": 147,
       "width": 186
      },
      "tags": []
     },
     "output_type": "execute_result"
    },
    {
     "name": "stdout",
     "output_type": "stream",
     "text": [
      "Iterations \n",
      "  Iteration                 Descr Activation Optimizer       Loss_Function  \\\n",
      "0         1  SingleEncoderDecoder        elu      adam  binarycrossentropy   \n",
      "1         2  SingleEncoderDecoder       relu      adam  binarycrossentropy   \n",
      "2         3  SingleEncoderDecoder       relu  adadelta  binarycrossentropy   \n",
      "3         4  SingleEncoderDecoder       relu      adam                 mse   \n",
      "\n",
      "   Training_Loss  Validation_Loss  \n",
      "0       0.009811         0.009952  \n",
      "1       0.010033         0.010201  \n",
      "2       0.250595         0.216126  \n",
      "3       0.000599         0.000633  \n",
      "Encoded word with 50 dimensions \n",
      " [0.7416376  0.7073101  0.7347326  0.7374542  0.7305501  0.76399696\n",
      " 0.7173432  0.74372125 0.7602577  0.73788524 0.7293359  0.7299783\n",
      " 0.70709324 0.72796845 0.7483827  0.75199413 0.6897303  0.7813852\n",
      " 0.73384064 0.7181903  0.7519713  0.73631465 0.7147429  0.6885512\n",
      " 0.75162697 0.76261514 0.71775115 0.7148669  0.7508162  0.7508618\n",
      " 0.68784595 0.7125083  0.70002854 0.74164927 0.7543354  0.7541431\n",
      " 0.6772101  0.69721246 0.74532294 0.77737623 0.7119198  0.69780695\n",
      " 0.75343776 0.72739005 0.72999495 0.7219342  0.69617426 0.71149755\n",
      " 0.758434   0.712373  ]\n",
      "Decoded word with 5000 dimensions \n",
      " [0.0021247  0.00216416 0.00224626 ... 0.00222898 0.00239941 0.0021657 ]\n",
      "Encoded word with 50 dimensions \n",
      " [0.2593648  0.25790313 0.26438335 0.2649443  0.25964537 0.26299444\n",
      " 0.2643533  0.2591171  0.2736893  0.2601661  0.26452467 0.2641629\n",
      " 0.25759408 0.2572485  0.26307216 0.27136755 0.2626597  0.2701449\n",
      " 0.26276696 0.2538944  0.25838655 0.25680816 0.26082423 0.25814474\n",
      " 0.2645925  0.25575066 0.2587304  0.26680183 0.27814335 0.2617613\n",
      " 0.26323372 0.26031846 0.26313058 0.25200957 0.25921217 0.26581064\n",
      " 0.26008677 0.25598127 0.26335728 0.26150513 0.26599923 0.25714985\n",
      " 0.26753578 0.27653274 0.26076856 0.26263565 0.25935972 0.26424262\n",
      " 0.27233726 0.26150516]\n",
      "Decoded word with 5000 dimensions \n",
      " [0.09262303 0.09304801 0.09406665 ... 0.09391218 0.09600359 0.09315827]\n",
      "Encoded word with 50 dimensions \n",
      " [1.2369057 1.2054073 1.2077276 1.2345445 1.20678   1.2210145 1.2065643\n",
      " 1.2760193 1.2304031 1.1991968 1.2587506 1.2444377 1.201983  1.2253063\n",
      " 1.2059518 1.2296755 1.2400125 1.2056607 1.2215447 1.2409647 1.1931618\n",
      " 1.226924  1.2290344 1.2285135 1.2036625 1.2182717 1.2209557 1.2342126\n",
      " 1.2693524 1.2034961 1.2484524 1.186096  1.2517937 1.2158071 1.2208488\n",
      " 1.2490172 1.2178403 1.2052503 1.2389097 1.2134092 1.2637601 1.233919\n",
      " 1.1866153 1.2288358 1.2601473 1.2490678 1.2125789 1.219779  1.253731\n",
      " 1.2144594]\n",
      "Decoded word with 5000 dimensions \n",
      " [3.5464764e-05 3.6358833e-05 3.8266182e-05 ... 3.8206577e-05 4.3004751e-05\n",
      " 3.6597252e-05]\n",
      "Encoded word with 50 dimensions \n",
      " [0.5573761  0.5815729  0.5843427  0.55010796 0.5719702  0.5459294\n",
      " 0.56815183 0.50019526 0.57898295 0.5311802  0.5388131  0.5280689\n",
      " 0.5547749  0.56266916 0.54151    0.5868746  0.5350063  0.572482\n",
      " 0.57652885 0.5345206  0.56024057 0.5172831  0.5266088  0.54070455\n",
      " 0.5174445  0.53685576 0.5608289  0.56933606 0.55596715 0.5591985\n",
      " 0.5281378  0.5476301  0.56005776 0.5665085  0.56218684 0.54851997\n",
      " 0.5205122  0.50808835 0.5379709  0.54953897 0.5461794  0.51901317\n",
      " 0.57472485 0.58910525 0.5809132  0.5995953  0.5713989  0.50736713\n",
      " 0.5168983  0.5325837 ]\n",
      "Decoded word with 5000 dimensions \n",
      " [0.00936133 0.0094693  0.00970626 ... 0.009671   0.01020491 0.00947362]\n"
     ]
    }
   ],
   "source": [
    "#------------\n",
    "#Iteration 4: \n",
    "#------------\n",
    "    # Encoder activation: relu\n",
    "    # Decoder activation: sigmoid\n",
    "    # Optimizer: adam\n",
    "    # Loss: mse\n",
    "\n",
    "# Encoded Dense layer\n",
    "encoded_iter4 = Dense(encoding_dim, activation='relu')(input_words)\n",
    "\n",
    "# Decoded Dense layer\n",
    "decoded_iter4 = Dense(inp_dim, activation='sigmoid')(encoded_iter4)\n",
    "\n",
    "# this model maps an input to its reconstruction\n",
    "autoencoder_iter4 = Model(input_words, decoded_iter4)\n",
    "\n",
    "# this model maps an input to its encoded representation\n",
    "encoder_iter4 = Model(input_words, encoded_iter4)\n",
    "\n",
    "# retrieve the last layer of the autoencoder model\n",
    "decoder_layer_iter4 = autoencoder_iter4.layers[-1]\n",
    "\n",
    "# create the decoder model\n",
    "decoder_iter4 = Model(encoded_input, decoder_layer_iter4(encoded_input))\n",
    "\n",
    "autoencoder_iter4.compile(optimizer='adam', loss='mse')\n",
    "\n",
    "autoencoder_iter4.summary()\n",
    "\n",
    "history_iter4 = autoencoder_iter4.fit(x_train, x_train,\n",
    "                epochs=20,\n",
    "                batch_size=256,\n",
    "                shuffle=True,\n",
    "                verbose=2,\n",
    "                validation_data=(x_test, x_test))\n",
    "\t\t\t\t\t\t\t\t\n",
    "loss_iter4 = history_iter4.history['loss']\n",
    "val_loss_iter4 = history_iter4.history['val_loss']\n",
    "\n",
    "Iter_tbl=Iter_tbl.append({'Iteration': 4, 'Descr': 'SingleEncoderDecoder', 'Activation': 'relu', 'Optimizer': 'adam', 'Loss_Function': 'mse', 'Training_Loss': loss_iter4[-1],'Validation_Loss': val_loss_iter4[-1]}, ignore_index=True)\t\n",
    "\n",
    "epochs_iter4 = range(1, len(loss_iter4) + 1)\n",
    "\n",
    "print(\"\\t\\t****** Iteration 4 ******\")\n",
    "print(\"\\t\\tSingle encoder decoder layer\")\n",
    "print(\"\\t\\tEncoder activation: relu\")\n",
    "print(\"\\t\\tDecoder activation: sigmoid\")\n",
    "print(\"\\t\\tOptimizer: adam\")\n",
    "print(\"\\t\\tloss: mse\")\n",
    "\n",
    "# \"bo\" is for \"blue dot\"\n",
    "plt.plot(epochs_iter4, loss_iter4, 'bo', label='Training loss')\n",
    "# b is for \"solid blue line\"\n",
    "plt.plot(epochs_iter4, val_loss_iter4, 'b', label='Validation loss')\n",
    "plt.title('Iteration 4: Training vs validation loss ')\n",
    "plt.xlabel('Epochs')\n",
    "plt.ylabel('Loss')\n",
    "plt.legend()\n",
    "\n",
    "plt.show()\n",
    "\n",
    "plot_model(autoencoder_iter4, show_shapes=True, to_file='autoencoder_iter4.png',show_layer_names=True)\n",
    "from IPython.display import Image\n",
    "Image(retina=True, filename='autoencoder_iter4.png')\n",
    "\n",
    "print(\"Iterations \", Iter_tbl, sep='\\n')\n",
    "\n",
    "encoded_words_test_iter4 = encoder_iter4.predict(x_test)\n",
    "decoded_words_iter4 = decoder_iter4.predict(encoded_words_test_iter4)\n",
    "  \n",
    "for i in range(1, 5, 1):\n",
    "    print(\"Encoded word with {} dimensions \\n {}\".format(encoding_dim, encoded_words_test_iter4[i]))\n",
    "    print(\"Decoded word with {} dimensions \\n {}\".format(inp_dim, decoded_words_iter4[i]))\n",
    "\n",
    "\n",
    "\t"
   ]
  },
  {
   "cell_type": "markdown",
   "metadata": {
    "colab_type": "text",
    "id": "VnD3qblg4GxU"
   },
   "source": [
    "### Iteration 5"
   ]
  },
  {
   "cell_type": "code",
   "execution_count": 0,
   "metadata": {
    "colab": {
     "base_uri": "https://localhost:8080/",
     "height": 1000
    },
    "colab_type": "code",
    "id": "ENi0TvqipcPY",
    "outputId": "c4e55cf0-3cd8-4c6c-80d3-a7241878a222"
   },
   "outputs": [
    {
     "name": "stdout",
     "output_type": "stream",
     "text": [
      "_________________________________________________________________\n",
      "Layer (type)                 Output Shape              Param #   \n",
      "=================================================================\n",
      "input_1 (InputLayer)         (None, 5000)              0         \n",
      "_________________________________________________________________\n",
      "dense_9 (Dense)              (None, 50)                250050    \n",
      "_________________________________________________________________\n",
      "dense_10 (Dense)             (None, 5000)              255000    \n",
      "=================================================================\n",
      "Total params: 505,050\n",
      "Trainable params: 505,050\n",
      "Non-trainable params: 0\n",
      "_________________________________________________________________\n",
      "Train on 11314 samples, validate on 7532 samples\n",
      "Epoch 1/20\n",
      " - 1s - loss: 0.2491 - val_loss: 0.2488\n",
      "Epoch 2/20\n",
      " - 1s - loss: 0.2485 - val_loss: 0.2482\n",
      "Epoch 3/20\n",
      " - 1s - loss: 0.2479 - val_loss: 0.2477\n",
      "Epoch 4/20\n",
      " - 1s - loss: 0.2474 - val_loss: 0.2471\n",
      "Epoch 5/20\n",
      " - 1s - loss: 0.2468 - val_loss: 0.2465\n",
      "Epoch 6/20\n",
      " - 1s - loss: 0.2462 - val_loss: 0.2460\n",
      "Epoch 7/20\n",
      " - 1s - loss: 0.2457 - val_loss: 0.2454\n",
      "Epoch 8/20\n",
      " - 1s - loss: 0.2451 - val_loss: 0.2448\n",
      "Epoch 9/20\n",
      " - 1s - loss: 0.2445 - val_loss: 0.2442\n",
      "Epoch 10/20\n",
      " - 1s - loss: 0.2439 - val_loss: 0.2436\n",
      "Epoch 11/20\n",
      " - 1s - loss: 0.2433 - val_loss: 0.2430\n",
      "Epoch 12/20\n",
      " - 1s - loss: 0.2427 - val_loss: 0.2424\n",
      "Epoch 13/20\n",
      " - 1s - loss: 0.2421 - val_loss: 0.2418\n",
      "Epoch 14/20\n",
      " - 1s - loss: 0.2414 - val_loss: 0.2411\n",
      "Epoch 15/20\n",
      " - 1s - loss: 0.2407 - val_loss: 0.2403\n",
      "Epoch 16/20\n",
      " - 1s - loss: 0.2399 - val_loss: 0.2395\n",
      "Epoch 17/20\n",
      " - 1s - loss: 0.2391 - val_loss: 0.2386\n",
      "Epoch 18/20\n",
      " - 1s - loss: 0.2381 - val_loss: 0.2376\n",
      "Epoch 19/20\n",
      " - 1s - loss: 0.2370 - val_loss: 0.2363\n",
      "Epoch 20/20\n",
      " - 1s - loss: 0.2357 - val_loss: 0.2349\n",
      "\t\t****** Iteration 5 ******\n",
      "\t\tSingle encoder decoder layer\n",
      "\t\tEncoder activation: relu\n",
      "\t\tDecoder activation: sigmoid\n",
      "\t\tOptimizer: adadelta\n",
      "\t\tloss: mse\n"
     ]
    },
    {
     "data": {
      "text/plain": [
       "[<matplotlib.lines.Line2D at 0x1abf87cd0f0>]"
      ]
     },
     "execution_count": 24,
     "metadata": {
      "tags": []
     },
     "output_type": "execute_result"
    },
    {
     "data": {
      "text/plain": [
       "[<matplotlib.lines.Line2D at 0x1ab8eb1f278>]"
      ]
     },
     "execution_count": 24,
     "metadata": {
      "tags": []
     },
     "output_type": "execute_result"
    },
    {
     "data": {
      "text/plain": [
       "Text(0.5, 1.0, 'Iteration 5: Training vs validation loss ')"
      ]
     },
     "execution_count": 24,
     "metadata": {
      "tags": []
     },
     "output_type": "execute_result"
    },
    {
     "data": {
      "text/plain": [
       "Text(0.5, 0, 'Epochs')"
      ]
     },
     "execution_count": 24,
     "metadata": {
      "tags": []
     },
     "output_type": "execute_result"
    },
    {
     "data": {
      "text/plain": [
       "Text(0, 0.5, 'Loss')"
      ]
     },
     "execution_count": 24,
     "metadata": {
      "tags": []
     },
     "output_type": "execute_result"
    },
    {
     "data": {
      "text/plain": [
       "<matplotlib.legend.Legend at 0x1abf87acc18>"
      ]
     },
     "execution_count": 24,
     "metadata": {
      "tags": []
     },
     "output_type": "execute_result"
    },
    {
     "data": {
      "image/png": "[encoded data removed]",
      "text/plain": [
       "<Figure size 432x288 with 1 Axes>"
      ]
     },
     "metadata": {
      "needs_background": "light",
      "tags": []
     },
     "output_type": "display_data"
    },
    {
     "data": {
      "image/png": "[encoded data removed]",
      "text/plain": [
       "<IPython.core.display.Image object>"
      ]
     },
     "execution_count": 24,
     "metadata": {
      "image/png": {
       "height": 147,
       "width": 186
      },
      "tags": []
     },
     "output_type": "execute_result"
    },
    {
     "name": "stdout",
     "output_type": "stream",
     "text": [
      "Iterations \n",
      "  Iteration                 Descr Activation Optimizer       Loss_Function  \\\n",
      "0         1  SingleEncoderDecoder        elu      adam  binarycrossentropy   \n",
      "1         2  SingleEncoderDecoder       relu      adam  binarycrossentropy   \n",
      "2         3  SingleEncoderDecoder       relu  adadelta  binarycrossentropy   \n",
      "3         4  SingleEncoderDecoder       relu      adam                 mse   \n",
      "4         5  SingleEncoderDecoder       relu  adadelta                 mse   \n",
      "\n",
      "   Training_Loss  Validation_Loss  \n",
      "0       0.009811         0.009952  \n",
      "1       0.010033         0.010201  \n",
      "2       0.250595         0.216126  \n",
      "3       0.000599         0.000633  \n",
      "4       0.235660         0.234895  \n",
      "Encoded word with 50 dimensions \n",
      " [0.11498644 0.         0.0060124  0.12503038 0.         0.04686756\n",
      " 0.28506374 0.33753756 0.02461286 0.11275057 0.01447946 0.03174128\n",
      " 0.04163202 0.02450487 0.         0.09888883 0.11278731 0.\n",
      " 0.16809613 0.13983217 0.20690535 0.03322712 0.31566513 0.2281313\n",
      " 0.08559862 0.10478897 0.0874984  0.25642052 0.05872008 0.0359088\n",
      " 0.10972407 0.         0.24069645 0.03704597 0.         0.\n",
      " 0.24489012 0.         0.         0.10260834 0.         0.\n",
      " 0.         0.20326379 0.00224117 0.         0.4052224  0.19354448\n",
      " 0.0300818  0.00040577]\n",
      "Decoded word with 5000 dimensions \n",
      " [0.47764108 0.48913723 0.48404646 ... 0.47986373 0.48638952 0.48666963]\n",
      "Encoded word with 50 dimensions \n",
      " [0.09892474 0.         0.         0.11861871 0.0080039  0.03757961\n",
      " 0.25726303 0.3291027  0.02174676 0.10039467 0.00058639 0.03730637\n",
      " 0.00829473 0.         0.         0.08844098 0.10411368 0.\n",
      " 0.15377916 0.18171516 0.18369457 0.00206259 0.35487446 0.2279271\n",
      " 0.09164244 0.11240726 0.10636442 0.27902716 0.06793309 0.\n",
      " 0.08520742 0.         0.23582177 0.03277794 0.         0.\n",
      " 0.23411694 0.         0.         0.13382623 0.         0.\n",
      " 0.         0.20998435 0.         0.         0.40702155 0.15814975\n",
      " 0.01553186 0.        ]\n",
      "Decoded word with 5000 dimensions \n",
      " [0.47691014 0.49017352 0.48443496 ... 0.47976008 0.48600245 0.48647666]\n",
      "Encoded word with 50 dimensions \n",
      " [0.08706945 0.         0.00975766 0.07814039 0.00276352 0.00070016\n",
      " 0.29969952 0.3481312  0.00212394 0.08984026 0.         0.05690963\n",
      " 0.02211336 0.         0.0218843  0.08328938 0.1184247  0.\n",
      " 0.17130193 0.20383362 0.22887681 0.02219014 0.3752573  0.19737875\n",
      " 0.09221002 0.11541351 0.11585584 0.30456388 0.07567989 0.\n",
      " 0.11690962 0.         0.24421786 0.04877616 0.         0.\n",
      " 0.2640465  0.         0.         0.12645924 0.         0.\n",
      " 0.0008299  0.22371937 0.         0.00330536 0.444192   0.13653739\n",
      " 0.03688525 0.01191779]\n",
      "Decoded word with 5000 dimensions \n",
      " [0.47614014 0.48993504 0.48331085 ... 0.4791954  0.4847912  0.48719096]\n",
      "Encoded word with 50 dimensions \n",
      " [0.08112283 0.         0.03761349 0.08929022 0.01283269 0.00660137\n",
      " 0.30982706 0.31835258 0.01867638 0.13710786 0.02182427 0.05789245\n",
      " 0.         0.00774418 0.01249721 0.12333657 0.10370873 0.\n",
      " 0.12203886 0.1556922  0.22259721 0.03246972 0.37522465 0.2665386\n",
      " 0.11869533 0.14961001 0.11311853 0.28138146 0.09470382 0.\n",
      " 0.10071956 0.         0.19405892 0.0190894  0.         0.\n",
      " 0.24628887 0.         0.         0.12331685 0.         0.\n",
      " 0.         0.21280944 0.         0.         0.42099646 0.17534728\n",
      " 0.         0.        ]\n",
      "Decoded word with 5000 dimensions \n",
      " [0.47759256 0.49016932 0.4835766  ... 0.47976822 0.48532212 0.48623088]\n"
     ]
    }
   ],
   "source": [
    "#------------\n",
    "#Iteration 5: \n",
    "#------------\n",
    "    # Encoder activation: relu\n",
    "    # Decoder activation: sigmoid\n",
    "    # Optimizer: adadelta\n",
    "    # Loss: mse\n",
    "\n",
    "# Encoded Dense layer\n",
    "encoded_iter5 = Dense(encoding_dim, activation='relu')(input_words)\n",
    "\n",
    "# Decoded Dense layer\n",
    "decoded_iter5 = Dense(inp_dim, activation='sigmoid')(encoded_iter5)\n",
    "\n",
    "# this model maps an input to its reconstruction\n",
    "autoencoder_iter5 = Model(input_words, decoded_iter5)\n",
    "\n",
    "# this model maps an input to its encoded representation\n",
    "encoder_iter5 = Model(input_words, encoded_iter5)\n",
    "\n",
    "# retrieve the last layer of the autoencoder model\n",
    "decoder_layer_iter5 = autoencoder_iter5.layers[-1]\n",
    "\n",
    "# create the decoder model\n",
    "decoder_iter5 = Model(encoded_input, decoder_layer_iter5(encoded_input))\n",
    "\n",
    "autoencoder_iter5.compile(optimizer='adadelta', loss='mse')\n",
    "\n",
    "autoencoder_iter5.summary()\n",
    "\n",
    "history_iter5 = autoencoder_iter5.fit(x_train, x_train,\n",
    "                epochs=20,\n",
    "                batch_size=256,\n",
    "                shuffle=True,\n",
    "                verbose=2,\n",
    "                validation_data=(x_test, x_test))\n",
    "\t\t\t\t\t\t\t\t\n",
    "loss_iter5 = history_iter5.history['loss']\n",
    "val_loss_iter5 = history_iter5.history['val_loss']\n",
    "\n",
    "Iter_tbl=Iter_tbl.append({'Iteration': 5, 'Descr': 'SingleEncoderDecoder', 'Activation': 'relu', 'Optimizer': 'adadelta', 'Loss_Function': 'mse', 'Training_Loss': loss_iter5[-1],'Validation_Loss': val_loss_iter5[-1]}, ignore_index=True)\t\n",
    "\n",
    "epochs_iter5 = range(1, len(loss_iter5) + 1)\n",
    "\n",
    "print(\"\\t\\t****** Iteration 5 ******\")\n",
    "print(\"\\t\\tSingle encoder decoder layer\")\n",
    "print(\"\\t\\tEncoder activation: relu\")\n",
    "print(\"\\t\\tDecoder activation: sigmoid\")\n",
    "print(\"\\t\\tOptimizer: adadelta\")\n",
    "print(\"\\t\\tloss: mse\")\n",
    "\n",
    "# \"bo\" is for \"blue dot\"\n",
    "plt.plot(epochs_iter5, loss_iter5, 'bo', label='Training loss')\n",
    "# b is for \"solid blue line\"\n",
    "plt.plot(epochs_iter5, val_loss_iter5, 'b', label='Validation loss')\n",
    "plt.title('Iteration 5: Training vs validation loss ')\n",
    "plt.xlabel('Epochs')\n",
    "plt.ylabel('Loss')\n",
    "plt.legend()\n",
    "\n",
    "plt.show()\n",
    "\n",
    "plot_model(autoencoder_iter5, show_shapes=True, to_file='autoencoder_iter5.png',show_layer_names=True)\n",
    "from IPython.display import Image\n",
    "Image(retina=True, filename='autoencoder_iter5.png')\n",
    "\n",
    "print(\"Iterations \", Iter_tbl, sep='\\n')\n",
    "\n",
    "encoded_words_test_iter5 = encoder_iter5.predict(x_test)\n",
    "decoded_words_iter5 = decoder_iter5.predict(encoded_words_test_iter5)\n",
    "  \n",
    "for i in range(1, 5, 1):\n",
    "    print(\"Encoded word with {} dimensions \\n {}\".format(encoding_dim, encoded_words_test_iter5[i]))\n",
    "    print(\"Decoded word with {} dimensions \\n {}\".format(inp_dim, decoded_words_iter5[i]))\n",
    "\n",
    "\n",
    "\t"
   ]
  },
  {
   "cell_type": "markdown",
   "metadata": {
    "colab_type": "text",
    "id": "-5PLGcrm4GxY"
   },
   "source": [
    "### Iteration 6"
   ]
  },
  {
   "cell_type": "code",
   "execution_count": 0,
   "metadata": {
    "colab": {
     "base_uri": "https://localhost:8080/",
     "height": 1000
    },
    "colab_type": "code",
    "id": "e3X2veWOqU5E",
    "outputId": "2391d57a-44d1-4f88-cacb-13928b901c84"
   },
   "outputs": [
    {
     "name": "stdout",
     "output_type": "stream",
     "text": [
      "_________________________________________________________________\n",
      "Layer (type)                 Output Shape              Param #   \n",
      "=================================================================\n",
      "input_1 (InputLayer)         (None, 5000)              0         \n",
      "_________________________________________________________________\n",
      "dense_11 (Dense)             (None, 50)                250050    \n",
      "_________________________________________________________________\n",
      "dense_12 (Dense)             (None, 5000)              255000    \n",
      "=================================================================\n",
      "Total params: 505,050\n",
      "Trainable params: 505,050\n",
      "Non-trainable params: 0\n",
      "_________________________________________________________________\n",
      "Train on 11314 samples, validate on 7532 samples\n",
      "Epoch 1/20\n",
      " - 1s - loss: 0.2491 - val_loss: 0.2488\n",
      "Epoch 2/20\n",
      " - 1s - loss: 0.2485 - val_loss: 0.2482\n",
      "Epoch 3/20\n",
      " - 1s - loss: 0.2479 - val_loss: 0.2476\n",
      "Epoch 4/20\n",
      " - 1s - loss: 0.2473 - val_loss: 0.2471\n",
      "Epoch 5/20\n",
      " - 1s - loss: 0.2468 - val_loss: 0.2465\n",
      "Epoch 6/20\n",
      " - 1s - loss: 0.2462 - val_loss: 0.2459\n",
      "Epoch 7/20\n",
      " - 1s - loss: 0.2456 - val_loss: 0.2453\n",
      "Epoch 8/20\n",
      " - 1s - loss: 0.2450 - val_loss: 0.2447\n",
      "Epoch 9/20\n",
      " - 1s - loss: 0.2444 - val_loss: 0.2440\n",
      "Epoch 10/20\n",
      " - 1s - loss: 0.2437 - val_loss: 0.2434\n",
      "Epoch 11/20\n",
      " - 1s - loss: 0.2430 - val_loss: 0.2427\n",
      "Epoch 12/20\n",
      " - 1s - loss: 0.2423 - val_loss: 0.2420\n",
      "Epoch 13/20\n",
      " - 1s - loss: 0.2416 - val_loss: 0.2411\n",
      "Epoch 14/20\n",
      " - 1s - loss: 0.2407 - val_loss: 0.2403\n",
      "Epoch 15/20\n",
      " - 1s - loss: 0.2398 - val_loss: 0.2393\n",
      "Epoch 16/20\n",
      " - 1s - loss: 0.2387 - val_loss: 0.2381\n",
      "Epoch 17/20\n",
      " - 1s - loss: 0.2375 - val_loss: 0.2368\n",
      "Epoch 18/20\n",
      " - 1s - loss: 0.2361 - val_loss: 0.2353\n",
      "Epoch 19/20\n",
      " - 1s - loss: 0.2344 - val_loss: 0.2334\n",
      "Epoch 20/20\n",
      " - 1s - loss: 0.2324 - val_loss: 0.2312\n",
      "\t\t****** Iteration 6 ******\n",
      "\t\tSingle encoder decoder layer\n",
      "\t\tEncoder activation: elu\n",
      "\t\tDecoder activation: sigmoid\n",
      "\t\tOptimizer: adadelta\n",
      "\t\tloss: mse\n"
     ]
    },
    {
     "data": {
      "text/plain": [
       "[<matplotlib.lines.Line2D at 0x1ab8d987d68>]"
      ]
     },
     "execution_count": 25,
     "metadata": {
      "tags": []
     },
     "output_type": "execute_result"
    },
    {
     "data": {
      "text/plain": [
       "[<matplotlib.lines.Line2D at 0x1abf898ddd8>]"
      ]
     },
     "execution_count": 25,
     "metadata": {
      "tags": []
     },
     "output_type": "execute_result"
    },
    {
     "data": {
      "text/plain": [
       "Text(0.5, 1.0, 'Iteration 6: Training vs validation loss ')"
      ]
     },
     "execution_count": 25,
     "metadata": {
      "tags": []
     },
     "output_type": "execute_result"
    },
    {
     "data": {
      "text/plain": [
       "Text(0.5, 0, 'Epochs')"
      ]
     },
     "execution_count": 25,
     "metadata": {
      "tags": []
     },
     "output_type": "execute_result"
    },
    {
     "data": {
      "text/plain": [
       "Text(0, 0.5, 'Loss')"
      ]
     },
     "execution_count": 25,
     "metadata": {
      "tags": []
     },
     "output_type": "execute_result"
    },
    {
     "data": {
      "text/plain": [
       "<matplotlib.legend.Legend at 0x1ab8d95dcc0>"
      ]
     },
     "execution_count": 25,
     "metadata": {
      "tags": []
     },
     "output_type": "execute_result"
    },
    {
     "data": {
      "image/png": "[encoded data removed]",
      "text/plain": [
       "<Figure size 432x288 with 1 Axes>"
      ]
     },
     "metadata": {
      "needs_background": "light",
      "tags": []
     },
     "output_type": "display_data"
    },
    {
     "data": {
      "image/png": "[encoded data removed]",
      "text/plain": [
       "<IPython.core.display.Image object>"
      ]
     },
     "execution_count": 25,
     "metadata": {
      "image/png": {
       "height": 147,
       "width": 186
      },
      "tags": []
     },
     "output_type": "execute_result"
    },
    {
     "name": "stdout",
     "output_type": "stream",
     "text": [
      "Iterations \n",
      "  Iteration                 Descr Activation Optimizer       Loss_Function  \\\n",
      "0         1  SingleEncoderDecoder        elu      adam  binarycrossentropy   \n",
      "1         2  SingleEncoderDecoder       relu      adam  binarycrossentropy   \n",
      "2         3  SingleEncoderDecoder       relu  adadelta  binarycrossentropy   \n",
      "3         4  SingleEncoderDecoder       relu      adam                 mse   \n",
      "4         5  SingleEncoderDecoder       relu  adadelta                 mse   \n",
      "5         6  SingleEncoderDecoder        elu  adadelta                 mse   \n",
      "\n",
      "   Training_Loss  Validation_Loss  \n",
      "0       0.009811         0.009952  \n",
      "1       0.010033         0.010201  \n",
      "2       0.250595         0.216126  \n",
      "3       0.000599         0.000633  \n",
      "4       0.235660         0.234895  \n",
      "5       0.232404         0.231227  \n",
      "Encoded word with 50 dimensions \n",
      " [-0.0240981  -0.05903643  0.21028262 -0.08253807 -0.07391864  0.4259744\n",
      " -0.15139103 -0.24194354 -0.0255239   0.04049413 -0.12719572  0.13831052\n",
      " -0.14149427  0.23694432  0.06317019  0.34055838 -0.2050404   0.22150663\n",
      "  0.10815127 -0.28307253 -0.00252628 -0.06457072  0.0938128   0.22406219\n",
      "  0.0426393  -0.05446357 -0.28052878 -0.01144242  0.40269133  0.1650193\n",
      " -0.0732407  -0.02129257 -0.01678193 -0.01163983 -0.12071961  0.04832786\n",
      "  0.4160142  -0.00279605  0.36572728  0.18848129  0.04318644 -0.30094886\n",
      "  0.25250113 -0.10227114 -0.26113105 -0.33219135  0.03620791 -0.03746539\n",
      " -0.21930778  0.15223749]\n",
      "Decoded word with 5000 dimensions \n",
      " [0.48356304 0.4910599  0.4803939  ... 0.47852278 0.4878886  0.5045864 ]\n",
      "Encoded word with 50 dimensions \n",
      " [-0.0065608  -0.1016795   0.18322928 -0.07499564 -0.05210614  0.44424012\n",
      " -0.15320522 -0.24359334 -0.02699018  0.03175281 -0.09085536  0.15476345\n",
      " -0.15879238  0.24035063  0.03482792  0.33851436 -0.19429755  0.22337745\n",
      "  0.14496154 -0.30119443  0.0379087  -0.05120784  0.08718618  0.20489188\n",
      "  0.03058931 -0.05630285 -0.26893675 -0.00843096  0.41102293  0.17972435\n",
      " -0.05536628  0.01250404  0.00171608 -0.0310998  -0.12359506  0.04984615\n",
      "  0.39413357 -0.03978759  0.382129    0.18193708  0.0511543  -0.3062712\n",
      "  0.26601472 -0.09712178 -0.24862713 -0.34900737  0.02450536 -0.05106539\n",
      " -0.21735084  0.11519603]\n",
      "Decoded word with 5000 dimensions \n",
      " [0.48413706 0.49185836 0.48052016 ... 0.4778902  0.48921505 0.5043172 ]\n",
      "Encoded word with 50 dimensions \n",
      " [ 0.02742013 -0.1222083   0.1637432  -0.1358056  -0.06511658  0.46640846\n",
      " -0.12593096 -0.24105811 -0.01756507  0.05780541 -0.0931114   0.18120228\n",
      " -0.14926755  0.30097723  0.02129416  0.34571928 -0.16967738  0.24679704\n",
      "  0.15774786 -0.32223475  0.05709558 -0.06502122  0.1022696   0.21829678\n",
      "  0.03539219 -0.06523013 -0.2785958  -0.02819157  0.42605096  0.17134501\n",
      " -0.07050985 -0.00571156 -0.04376799 -0.02144319 -0.13260472  0.04703044\n",
      "  0.43395382 -0.03831196  0.40329397  0.15106133  0.0612822  -0.30209154\n",
      "  0.29364163 -0.10556501 -0.24619853 -0.36244398 -0.04182029 -0.0772779\n",
      " -0.22809511  0.1214942 ]\n",
      "Decoded word with 5000 dimensions \n",
      " [0.48347276 0.49190983 0.4806128  ... 0.47782007 0.4894498  0.5056861 ]\n",
      "Encoded word with 50 dimensions \n",
      " [ 4.11193818e-04 -1.17600679e-01  2.00654909e-01 -6.85513616e-02\n",
      " -1.32169724e-02  4.71646696e-01 -1.40210629e-01 -2.30959654e-01\n",
      " -5.94233871e-02  9.03811119e-03 -1.37630403e-01  1.71048135e-01\n",
      " -1.41666234e-01  2.39394039e-01  1.67149864e-02  3.80145758e-01\n",
      " -1.50811017e-01  2.31531128e-01  1.25368461e-01 -2.95429826e-01\n",
      "  4.64342535e-02 -5.19133210e-02  1.09964684e-01  2.08446801e-01\n",
      "  2.72330046e-02 -6.44403696e-02 -2.84918666e-01 -2.44327188e-02\n",
      "  3.68225694e-01  2.07559928e-01 -6.47014976e-02  1.34308180e-02\n",
      "  7.29919551e-03 -3.83706689e-02 -1.56207502e-01  4.25974950e-02\n",
      "  3.93135160e-01 -3.16667557e-02  4.08549488e-01  1.61044165e-01\n",
      "  4.12998758e-02 -3.01303327e-01  3.03066880e-01 -1.36662066e-01\n",
      " -2.46767044e-01 -3.26929986e-01  3.52085941e-02 -3.52396965e-02\n",
      " -2.14238167e-01  1.18101746e-01]\n",
      "Decoded word with 5000 dimensions \n",
      " [0.4846024  0.49127176 0.48057148 ... 0.47787726 0.48994318 0.50415033]\n"
     ]
    }
   ],
   "source": [
    "#------------\n",
    "#Iteration 6: \n",
    "#------------\n",
    "    # Encoder activation: elu\n",
    "    # Decoder activation: sigmoid\n",
    "    # Optimizer: adadelta\n",
    "    # Loss: mse\n",
    "\n",
    "# Encoded Dense layer\n",
    "encoded_iter6 = Dense(encoding_dim, activation='elu')(input_words)\n",
    "\n",
    "# Decoded Dense layer\n",
    "decoded_iter6 = Dense(inp_dim, activation='sigmoid')(encoded_iter6)\n",
    "\n",
    "# this model maps an input to its reconstruction\n",
    "autoencoder_iter6 = Model(input_words, decoded_iter6)\n",
    "\n",
    "# this model maps an input to its encoded representation\n",
    "encoder_iter6 = Model(input_words, encoded_iter6)\n",
    "\n",
    "# retrieve the last layer of the autoencoder model\n",
    "decoder_layer_iter6 = autoencoder_iter6.layers[-1]\n",
    "\n",
    "# create the decoder model\n",
    "decoder_iter6 = Model(encoded_input, decoder_layer_iter6(encoded_input))\n",
    "\n",
    "autoencoder_iter6.compile(optimizer='adadelta', loss='mse')\n",
    "\n",
    "autoencoder_iter6.summary()\n",
    "\n",
    "history_iter6 = autoencoder_iter6.fit(x_train, x_train,\n",
    "                epochs=20,\n",
    "                batch_size=256,\n",
    "                shuffle=True,\n",
    "                verbose=2,\n",
    "                validation_data=(x_test, x_test))\n",
    "\t\t\t\t\t\t\t\t\n",
    "loss_iter6 = history_iter6.history['loss']\n",
    "val_loss_iter6 = history_iter6.history['val_loss']\n",
    "\n",
    "Iter_tbl=Iter_tbl.append({'Iteration': 6, 'Descr': 'SingleEncoderDecoder', 'Activation': 'elu', 'Optimizer': 'adadelta', 'Loss_Function': 'mse', 'Training_Loss': loss_iter6[-1],'Validation_Loss': val_loss_iter6[-1]}, ignore_index=True)\t\n",
    "\n",
    "epochs_iter6 = range(1, len(loss_iter6) + 1)\n",
    "\n",
    "print(\"\\t\\t****** Iteration 6 ******\")\n",
    "print(\"\\t\\tSingle encoder decoder layer\")\n",
    "print(\"\\t\\tEncoder activation: elu\")\n",
    "print(\"\\t\\tDecoder activation: sigmoid\")\n",
    "print(\"\\t\\tOptimizer: adadelta\")\n",
    "print(\"\\t\\tloss: mse\")\n",
    "\n",
    "# \"bo\" is for \"blue dot\"\n",
    "plt.plot(epochs_iter6, loss_iter6, 'bo', label='Training loss')\n",
    "# b is for \"solid blue line\"\n",
    "plt.plot(epochs_iter6, val_loss_iter6, 'b', label='Validation loss')\n",
    "plt.title('Iteration 6: Training vs validation loss ')\n",
    "plt.xlabel('Epochs')\n",
    "plt.ylabel('Loss')\n",
    "plt.legend()\n",
    "\n",
    "plt.show()\n",
    "\n",
    "plot_model(autoencoder_iter6, show_shapes=True, to_file='autoencoder_iter6.png',show_layer_names=True)\n",
    "from IPython.display import Image\n",
    "Image(retina=True, filename='autoencoder_iter6.png')\n",
    "\n",
    "print(\"Iterations \", Iter_tbl, sep='\\n')\n",
    "\n",
    "encoded_words_test_iter6 = encoder_iter6.predict(x_test)\n",
    "decoded_words_iter6 = decoder_iter6.predict(encoded_words_test_iter6)\n",
    "  \n",
    "for i in range(1, 5, 1):\n",
    "    print(\"Encoded word with {} dimensions \\n {}\".format(encoding_dim, encoded_words_test_iter6[i]))\n",
    "    print(\"Decoded word with {} dimensions \\n {}\".format(inp_dim, decoded_words_iter6[i]))\n",
    "\n",
    "\n",
    "\t"
   ]
  },
  {
   "cell_type": "markdown",
   "metadata": {
    "colab_type": "text",
    "id": "oYzu5SQY4Gxc"
   },
   "source": [
    "### Iteration 7"
   ]
  },
  {
   "cell_type": "code",
   "execution_count": 0,
   "metadata": {
    "colab": {
     "base_uri": "https://localhost:8080/",
     "height": 1000
    },
    "colab_type": "code",
    "id": "sveQQIvUhTn4",
    "outputId": "5123dd42-1598-42ca-c1e7-4c81a2dc7104"
   },
   "outputs": [
    {
     "name": "stdout",
     "output_type": "stream",
     "text": [
      "_________________________________________________________________\n",
      "Layer (type)                 Output Shape              Param #   \n",
      "=================================================================\n",
      "input_1 (InputLayer)         (None, 5000)              0         \n",
      "_________________________________________________________________\n",
      "dense_13 (Dense)             (None, 5000)              25005000  \n",
      "_________________________________________________________________\n",
      "dense_14 (Dense)             (None, 5000)              25005000  \n",
      "_________________________________________________________________\n",
      "dense_15 (Dense)             (None, 1000)              5001000   \n",
      "_________________________________________________________________\n",
      "dense_16 (Dense)             (None, 200)               200200    \n",
      "_________________________________________________________________\n",
      "dense_17 (Dense)             (None, 100)               20100     \n",
      "_________________________________________________________________\n",
      "dense_18 (Dense)             (None, 50)                5050      \n",
      "_________________________________________________________________\n",
      "dense_19 (Dense)             (None, 100)               5100      \n",
      "_________________________________________________________________\n",
      "dense_20 (Dense)             (None, 200)               20200     \n",
      "_________________________________________________________________\n",
      "dense_21 (Dense)             (None, 1000)              201000    \n",
      "_________________________________________________________________\n",
      "dense_22 (Dense)             (None, 5000)              5005000   \n",
      "_________________________________________________________________\n",
      "dense_23 (Dense)             (None, 5000)              25005000  \n",
      "=================================================================\n",
      "Total params: 85,472,650\n",
      "Trainable params: 85,472,650\n",
      "Non-trainable params: 0\n",
      "_________________________________________________________________\n",
      "Train on 11314 samples, validate on 7532 samples\n",
      "Epoch 1/20\n",
      " - 7s - loss: 0.2490 - val_loss: 0.2485\n",
      "Epoch 2/20\n",
      " - 4s - loss: 0.2481 - val_loss: 0.2477\n",
      "Epoch 3/20\n",
      " - 4s - loss: 0.2472 - val_loss: 0.2467\n",
      "Epoch 4/20\n",
      " - 4s - loss: 0.2461 - val_loss: 0.2455\n",
      "Epoch 5/20\n",
      " - 4s - loss: 0.2448 - val_loss: 0.2439\n",
      "Epoch 6/20\n",
      " - 4s - loss: 0.2426 - val_loss: 0.2410\n",
      "Epoch 7/20\n",
      " - 4s - loss: 0.2376 - val_loss: 0.2306\n",
      "Epoch 8/20\n",
      " - 4s - loss: 0.1262 - val_loss: 9.1630e-04\n",
      "Epoch 9/20\n",
      " - 4s - loss: 4.4842e-04 - val_loss: 2.8771e-04\n",
      "Epoch 10/20\n",
      " - 4s - loss: 2.5648e-04 - val_loss: 2.3447e-04\n",
      "Epoch 11/20\n",
      " - 4s - loss: 2.2539e-04 - val_loss: 2.1722e-04\n",
      "Epoch 12/20\n",
      " - 4s - loss: 2.1342e-04 - val_loss: 2.0914e-04\n",
      "Epoch 13/20\n",
      " - 4s - loss: 2.0730e-04 - val_loss: 2.0459e-04\n",
      "Epoch 14/20\n",
      " - 4s - loss: 2.0367e-04 - val_loss: 2.0172e-04\n",
      "Epoch 15/20\n",
      " - 4s - loss: 2.0128e-04 - val_loss: 1.9975e-04\n",
      "Epoch 16/20\n",
      " - 4s - loss: 1.9962e-04 - val_loss: 1.9834e-04\n",
      "Epoch 17/20\n",
      " - 4s - loss: 1.9840e-04 - val_loss: 1.9728e-04\n",
      "Epoch 18/20\n",
      " - 4s - loss: 1.9747e-04 - val_loss: 1.9647e-04\n",
      "Epoch 19/20\n",
      " - 4s - loss: 1.9674e-04 - val_loss: 1.9582e-04\n",
      "Epoch 20/20\n",
      " - 4s - loss: 1.9615e-04 - val_loss: 1.9529e-04\n",
      "\t\t****** Iteration 7 ******\n",
      "\t\tMulti-layer encoder decoder\n",
      "\t\tEncoder activation: relu\n",
      "\t\tDecoder activation: sigmoid\n",
      "\t\tOptimizer: adadelta\n",
      "\t\tloss: mse\n"
     ]
    },
    {
     "data": {
      "text/plain": [
       "[<matplotlib.lines.Line2D at 0x1ad6cc50cf8>]"
      ]
     },
     "execution_count": 26,
     "metadata": {
      "tags": []
     },
     "output_type": "execute_result"
    },
    {
     "data": {
      "text/plain": [
       "[<matplotlib.lines.Line2D at 0x1abf8ed4eb8>]"
      ]
     },
     "execution_count": 26,
     "metadata": {
      "tags": []
     },
     "output_type": "execute_result"
    },
    {
     "data": {
      "text/plain": [
       "Text(0.5, 1.0, 'Iteration 7: Training vs validation loss ')"
      ]
     },
     "execution_count": 26,
     "metadata": {
      "tags": []
     },
     "output_type": "execute_result"
    },
    {
     "data": {
      "text/plain": [
       "Text(0.5, 0, 'Epochs')"
      ]
     },
     "execution_count": 26,
     "metadata": {
      "tags": []
     },
     "output_type": "execute_result"
    },
    {
     "data": {
      "text/plain": [
       "Text(0, 0.5, 'Loss')"
      ]
     },
     "execution_count": 26,
     "metadata": {
      "tags": []
     },
     "output_type": "execute_result"
    },
    {
     "data": {
      "text/plain": [
       "<matplotlib.legend.Legend at 0x1ad6cc43860>"
      ]
     },
     "execution_count": 26,
     "metadata": {
      "tags": []
     },
     "output_type": "execute_result"
    },
    {
     "data": {
      "image/png": "[encoded data removed]",
      "text/plain": [
       "<Figure size 432x288 with 1 Axes>"
      ]
     },
     "metadata": {
      "needs_background": "light",
      "tags": []
     },
     "output_type": "display_data"
    },
    {
     "data": {
      "image/png": "[encoded data removed]",
      "text/plain": [
       "<IPython.core.display.Image object>"
      ]
     },
     "execution_count": 26,
     "metadata": {
      "image/png": {
       "height": 645,
       "width": 186
      },
      "tags": []
     },
     "output_type": "execute_result"
    },
    {
     "name": "stdout",
     "output_type": "stream",
     "text": [
      "Iterations \n",
      "  Iteration                 Descr Activation Optimizer       Loss_Function  \\\n",
      "0         1  SingleEncoderDecoder        elu      adam  binarycrossentropy   \n",
      "1         2  SingleEncoderDecoder       relu      adam  binarycrossentropy   \n",
      "2         3  SingleEncoderDecoder       relu  adadelta  binarycrossentropy   \n",
      "3         4  SingleEncoderDecoder       relu      adam                 mse   \n",
      "4         5  SingleEncoderDecoder       relu  adadelta                 mse   \n",
      "5         6  SingleEncoderDecoder        elu  adadelta                 mse   \n",
      "6         7   MultiEncoderDecoder       relu  adadelta                 mse   \n",
      "\n",
      "   Training_Loss  Validation_Loss  \n",
      "0       0.009811         0.009952  \n",
      "1       0.010033         0.010201  \n",
      "2       0.250595         0.216126  \n",
      "3       0.000599         0.000633  \n",
      "4       0.235660         0.234895  \n",
      "5       0.232404         0.231227  \n",
      "6       0.000196         0.000195  \n",
      "Encoded word with 50 dimensions \n",
      " [0.0000000e+00 0.0000000e+00 2.3865514e-01 1.1772912e+00 4.0479436e+00\n",
      " 2.8628454e+00 0.0000000e+00 3.5595465e-01 1.9358445e+00 1.4495816e+00\n",
      " 5.8529270e-01 0.0000000e+00 6.7567873e-01 0.0000000e+00 0.0000000e+00\n",
      " 0.0000000e+00 2.3035780e-03 0.0000000e+00 3.5442557e+00 9.0340722e-01\n",
      " 4.2090711e-01 0.0000000e+00 0.0000000e+00 2.5500133e+00 3.5429293e-01\n",
      " 0.0000000e+00 7.2682667e-01 0.0000000e+00 9.2799500e-02 2.9311376e+00\n",
      " 5.3635721e+00 0.0000000e+00 0.0000000e+00 1.7429194e+00 0.0000000e+00\n",
      " 4.3851790e+00 1.2449687e+00 1.6167452e+00 0.0000000e+00 1.6410630e+00\n",
      " 0.0000000e+00 3.1707478e+00 0.0000000e+00 2.8372614e+00 0.0000000e+00\n",
      " 7.5993466e-01 0.0000000e+00 1.1784793e+00 4.1772785e+00 2.9525166e+00]\n",
      "Decoded word with 5000 dimensions \n",
      " [6.1708503e+00 0.0000000e+00 0.0000000e+00 3.1850405e+00 3.0901430e+00\n",
      " 0.0000000e+00 0.0000000e+00 2.6484590e+00 2.0874879e+00 0.0000000e+00\n",
      " 0.0000000e+00 0.0000000e+00 1.3906270e-01 0.0000000e+00 7.0793624e+00\n",
      " 0.0000000e+00 0.0000000e+00 1.4248005e+00 2.1412361e+00 0.0000000e+00\n",
      " 1.1948934e+00 1.5371929e+00 5.0093298e+00 2.2242721e-03 5.0635042e+00\n",
      " 0.0000000e+00 4.2768016e+00 3.3066237e+00 7.9484506e+00 1.4759645e+00\n",
      " 0.0000000e+00 0.0000000e+00 0.0000000e+00 0.0000000e+00 1.7694694e+00\n",
      " 0.0000000e+00 0.0000000e+00 0.0000000e+00 2.3440840e+00 2.1940546e-01\n",
      " 0.0000000e+00 1.6933173e+00 0.0000000e+00 0.0000000e+00 8.1666511e-01\n",
      " 0.0000000e+00 0.0000000e+00 3.2124889e-01 0.0000000e+00 6.8674475e-01\n",
      " 3.8370869e-01 0.0000000e+00 1.6905502e+00 5.6643372e+00 3.5690480e-01\n",
      " 1.2413632e+00 0.0000000e+00 0.0000000e+00 0.0000000e+00 2.2891955e+00\n",
      " 5.8235639e-01 0.0000000e+00 3.2283299e+00 3.8035116e+00 6.9381461e-02\n",
      " 3.8340661e-01 0.0000000e+00 3.2652254e+00 4.0192127e+00 7.1760666e-01\n",
      " 0.0000000e+00 0.0000000e+00 0.0000000e+00 4.0746207e+00 3.6428804e+00\n",
      " 0.0000000e+00 4.5972514e+00 3.1020494e+00 9.7730321e-01 1.8434974e+00\n",
      " 2.5845971e+00 3.3670006e+00 5.9091806e-02 2.0906160e+00 1.8105013e+00\n",
      " 0.0000000e+00 0.0000000e+00 4.9185872e+00 1.6802905e+00 1.2635171e+00\n",
      " 8.8389128e-02 0.0000000e+00 4.4605589e+00 0.0000000e+00 4.2804117e+00\n",
      " 2.0168349e-04 0.0000000e+00 0.0000000e+00 0.0000000e+00 0.0000000e+00]\n",
      "Encoded word with 50 dimensions \n",
      " [0.         0.         0.22734906 1.1306732  3.8882384  2.7466059\n",
      " 0.         0.3389266  1.8478731  1.3908892  0.55627316 0.\n",
      " 0.6534832  0.         0.         0.         0.         0.\n",
      " 3.3899267  0.85504323 0.39809132 0.         0.         2.4519336\n",
      " 0.34473762 0.         0.7056017  0.         0.08944142 2.8114185\n",
      " 5.144321   0.         0.         1.676542   0.         4.2095404\n",
      " 1.1945233  1.5395162  0.         1.5603554  0.         3.0425017\n",
      " 0.         2.721953   0.         0.72276247 0.         1.1219764\n",
      " 4.00378    2.8351285 ]\n",
      "Decoded word with 5000 dimensions \n",
      " [5.9217920e+00 0.0000000e+00 0.0000000e+00 3.0579197e+00 2.9637117e+00\n",
      " 0.0000000e+00 0.0000000e+00 2.5463681e+00 1.9991710e+00 0.0000000e+00\n",
      " 0.0000000e+00 0.0000000e+00 1.3941723e-01 0.0000000e+00 6.8013530e+00\n",
      " 0.0000000e+00 0.0000000e+00 1.3637830e+00 2.0580308e+00 0.0000000e+00\n",
      " 1.1509364e+00 1.4777224e+00 4.8109756e+00 3.7852479e-03 4.8573170e+00\n",
      " 0.0000000e+00 4.0977812e+00 3.1695220e+00 7.6350188e+00 1.4164644e+00\n",
      " 0.0000000e+00 0.0000000e+00 0.0000000e+00 0.0000000e+00 1.6932367e+00\n",
      " 0.0000000e+00 0.0000000e+00 0.0000000e+00 2.2515206e+00 2.0940086e-01\n",
      " 0.0000000e+00 1.6268231e+00 1.1589862e-03 0.0000000e+00 7.8953391e-01\n",
      " 0.0000000e+00 0.0000000e+00 3.1373665e-01 0.0000000e+00 6.5828925e-01\n",
      " 3.7206060e-01 0.0000000e+00 1.6218529e+00 5.4397507e+00 3.4186548e-01\n",
      " 1.1841643e+00 0.0000000e+00 0.0000000e+00 0.0000000e+00 2.1962867e+00\n",
      " 5.4961145e-01 0.0000000e+00 3.1010227e+00 3.6536331e+00 6.1142702e-02\n",
      " 3.5982627e-01 0.0000000e+00 3.1311696e+00 3.8556073e+00 6.8752527e-01\n",
      " 0.0000000e+00 0.0000000e+00 0.0000000e+00 3.9145663e+00 3.4997401e+00\n",
      " 0.0000000e+00 4.4151201e+00 2.9796498e+00 9.3731427e-01 1.7644153e+00\n",
      " 2.4829423e+00 3.2346897e+00 5.3911045e-02 2.0009758e+00 1.7400336e+00\n",
      " 0.0000000e+00 0.0000000e+00 4.7234483e+00 1.6124450e+00 1.2152841e+00\n",
      " 9.0865791e-02 0.0000000e+00 4.2840686e+00 0.0000000e+00 4.1108651e+00\n",
      " 2.1788329e-03 0.0000000e+00 0.0000000e+00 0.0000000e+00 0.0000000e+00]\n",
      "Encoded word with 50 dimensions \n",
      " [0.         0.         0.24207217 1.1836845  4.091075   2.8944798\n",
      " 0.         0.35882926 1.9462665  1.4664211  0.5773347  0.\n",
      " 0.68293613 0.         0.         0.         0.         0.\n",
      " 3.581016   0.89673406 0.42744768 0.         0.         2.5800807\n",
      " 0.358373   0.         0.73714817 0.         0.09139605 2.9663572\n",
      " 5.411632   0.         0.         1.7645605  0.         4.4345245\n",
      " 1.2404196  1.6257536  0.         1.6438576  0.         3.2024374\n",
      " 0.         2.8571088  0.         0.7612934  0.         1.1780484\n",
      " 4.221962   2.9863327 ]\n",
      "Decoded word with 5000 dimensions \n",
      " [6.2292991e+00 0.0000000e+00 6.8467781e-03 3.2171087e+00 3.1157396e+00\n",
      " 0.0000000e+00 0.0000000e+00 2.6731956e+00 2.1074326e+00 0.0000000e+00\n",
      " 0.0000000e+00 0.0000000e+00 1.4863414e-01 0.0000000e+00 7.1507826e+00\n",
      " 0.0000000e+00 0.0000000e+00 1.4316777e+00 2.1618109e+00 0.0000000e+00\n",
      " 1.2186149e+00 1.5568761e+00 5.0664048e+00 4.9257427e-03 5.1082702e+00\n",
      " 0.0000000e+00 4.3103361e+00 3.3331339e+00 8.0247002e+00 1.4954908e+00\n",
      " 0.0000000e+00 0.0000000e+00 0.0000000e+00 0.0000000e+00 1.7851313e+00\n",
      " 0.0000000e+00 1.0766401e-03 0.0000000e+00 2.3691154e+00 2.1723576e-01\n",
      " 0.0000000e+00 1.7137439e+00 3.5103206e-03 0.0000000e+00 8.1791657e-01\n",
      " 0.0000000e+00 0.0000000e+00 3.2831705e-01 0.0000000e+00 6.9360417e-01\n",
      " 3.9561436e-01 0.0000000e+00 1.7058930e+00 5.7191539e+00 3.6020291e-01\n",
      " 1.2471883e+00 0.0000000e+00 0.0000000e+00 0.0000000e+00 2.3137884e+00\n",
      " 5.8566588e-01 0.0000000e+00 3.2610583e+00 3.8353715e+00 6.7502007e-02\n",
      " 3.8103610e-01 0.0000000e+00 3.2894881e+00 4.0572009e+00 7.1880877e-01\n",
      " 0.0000000e+00 0.0000000e+00 0.0000000e+00 4.1168532e+00 3.6826870e+00\n",
      " 0.0000000e+00 4.6454096e+00 3.1368401e+00 9.9232084e-01 1.8546489e+00\n",
      " 2.6101179e+00 3.4052205e+00 6.1819043e-02 2.0981450e+00 1.8214874e+00\n",
      " 0.0000000e+00 0.0000000e+00 4.9690561e+00 1.7029250e+00 1.2714616e+00\n",
      " 9.8017871e-02 0.0000000e+00 4.5049410e+00 0.0000000e+00 4.3270860e+00\n",
      " 3.8553663e-03 0.0000000e+00 0.0000000e+00 0.0000000e+00 0.0000000e+00]\n",
      "Encoded word with 50 dimensions \n",
      " [0.         0.         0.2337377  1.173733   4.054848   2.8722978\n",
      " 0.         0.3582085  1.9319534  1.4555213  0.58661556 0.\n",
      " 0.6830704  0.         0.         0.         0.         0.\n",
      " 3.5321372  0.8879211  0.41558707 0.         0.         2.5506973\n",
      " 0.36343732 0.         0.7323686  0.         0.09215675 2.928905\n",
      " 5.3578176  0.         0.         1.7440829  0.00618448 4.379016\n",
      " 1.2545278  1.6070287  0.         1.6333054  0.         3.1568174\n",
      " 0.         2.838783   0.         0.75193477 0.         1.1690619\n",
      " 4.1784363  2.9570858 ]\n",
      "Decoded word with 5000 dimensions \n",
      " [6.1617322e+00 0.0000000e+00 0.0000000e+00 3.1852763e+00 3.0926044e+00\n",
      " 0.0000000e+00 0.0000000e+00 2.6464849e+00 2.0777769e+00 0.0000000e+00\n",
      " 0.0000000e+00 0.0000000e+00 1.4346497e-01 0.0000000e+00 7.0785508e+00\n",
      " 0.0000000e+00 0.0000000e+00 1.4209731e+00 2.1469257e+00 0.0000000e+00\n",
      " 1.1982517e+00 1.5348803e+00 5.0033545e+00 0.0000000e+00 5.0612507e+00\n",
      " 0.0000000e+00 4.2689757e+00 3.2971783e+00 7.9524922e+00 1.4771689e+00\n",
      " 0.0000000e+00 0.0000000e+00 0.0000000e+00 0.0000000e+00 1.7628223e+00\n",
      " 0.0000000e+00 0.0000000e+00 0.0000000e+00 2.3358514e+00 2.2164531e-01\n",
      " 0.0000000e+00 1.6969697e+00 0.0000000e+00 0.0000000e+00 8.1858027e-01\n",
      " 0.0000000e+00 0.0000000e+00 3.2746512e-01 0.0000000e+00 6.8203253e-01\n",
      " 3.8624462e-01 0.0000000e+00 1.6917427e+00 5.6609664e+00 3.5716137e-01\n",
      " 1.2359383e+00 0.0000000e+00 0.0000000e+00 0.0000000e+00 2.2785177e+00\n",
      " 5.6998438e-01 0.0000000e+00 3.2319705e+00 3.7972543e+00 6.2997073e-02\n",
      " 3.7106824e-01 0.0000000e+00 3.2606170e+00 4.0106058e+00 7.2037339e-01\n",
      " 0.0000000e+00 0.0000000e+00 0.0000000e+00 4.0731211e+00 3.6366727e+00\n",
      " 0.0000000e+00 4.5990272e+00 3.1098864e+00 9.7768664e-01 1.8405737e+00\n",
      " 2.5814741e+00 3.3683186e+00 5.6239262e-02 2.0765452e+00 1.8077353e+00\n",
      " 0.0000000e+00 0.0000000e+00 4.9131436e+00 1.6746526e+00 1.2642140e+00\n",
      " 9.2753872e-02 0.0000000e+00 4.4576368e+00 0.0000000e+00 4.2752228e+00\n",
      " 4.1751862e-03 0.0000000e+00 0.0000000e+00 0.0000000e+00 0.0000000e+00]\n"
     ]
    }
   ],
   "source": [
    "#------------\n",
    "#Iteration 7: \n",
    "#------------\n",
    "\t# Multi-Layer\n",
    "    # Encoder/decoder activation: relu\n",
    "    # Decoder activation: sigmoid\n",
    "    # Optimizer: adadelta\n",
    "    # Loss: mse\n",
    "\t\n",
    "# Encoded Dense layer\n",
    "encoded_iter7 = Dense(inp_dim, activation='relu')(input_words)\n",
    "\n",
    "encoded_iter7 = Dense(5000, activation='relu')(encoded_iter7)\n",
    "encoded_iter7 = Dense(1000, activation='relu')(encoded_iter7)\n",
    "\n",
    "encoded_iter7 = Dense(200, activation='relu')(encoded_iter7)\n",
    "encoded_iter7 = Dense(100, activation='relu')(encoded_iter7) \n",
    "\n",
    "# bottleneck\n",
    "encoded_iter7 = Dense(encoding_dim, activation='relu')(encoded_iter7)\n",
    "\n",
    "\n",
    "\n",
    "# \"decoded\" is the lossy reconstruction of the input\n",
    "decoded_iter7 = Dense(100, activation='relu')(encoded_iter7)\n",
    "decoded_iter7 = Dense(200, activation='relu')(decoded_iter7)\n",
    "\n",
    "\n",
    "decoded_iter7 = Dense(1000, activation='relu')(decoded_iter7)\n",
    "decoded_iter7 = Dense(5000, activation='relu')(decoded_iter7)\n",
    "decoded_iter7 = Dense(inp_dim, activation='sigmoid')(decoded_iter7)\n",
    "\n",
    "\n",
    "# this model maps an input to its reconstruction\n",
    "autoencoder_iter7 = Model(input_words, decoded_iter7)\n",
    "\n",
    "# this model maps an input to its encoded representation\n",
    "encoder_iter7 = Model(input_words, encoded_iter7)\n",
    "\n",
    "# retrieve the last layer of the autoencoder model\n",
    "decoder_layer_iter7 = autoencoder_iter7.layers[-5]\n",
    "\n",
    "# create the decoder model\n",
    "decoder_iter7 = Model(encoded_input, decoder_layer_iter7(encoded_input))\n",
    "\n",
    "autoencoder_iter7.compile(optimizer='adadelta', loss='mse')\n",
    "\n",
    "autoencoder_iter7.summary()\n",
    "\n",
    "history_iter7 = autoencoder_iter7.fit(x_train, x_train,\n",
    "                epochs=20,\n",
    "                batch_size=256,\n",
    "                shuffle=True,\n",
    "                verbose=2,\n",
    "                validation_data=(x_test, x_test))\n",
    "\t\t\t\t\t\t\t\t\n",
    "loss_iter7 = history_iter7.history['loss']\n",
    "val_loss_iter7 = history_iter7.history['val_loss']\n",
    "\n",
    "Iter_tbl=Iter_tbl.append({'Iteration': 7, 'Descr': 'MultiEncoderDecoder', 'Activation': 'relu', 'Optimizer': 'adadelta', 'Loss_Function': 'mse', 'Training_Loss': loss_iter7[-1],'Validation_Loss': val_loss_iter7[-1]}, ignore_index=True)\t\t\t\t\t\t\t\t\n",
    "\n",
    "\n",
    "\n",
    "epochs_iter7 = range(1, len(loss_iter7) + 1)\n",
    "\n",
    "print(\"\\t\\t****** Iteration 7 ******\")\n",
    "print(\"\\t\\tMulti-layer encoder decoder\")\n",
    "print(\"\\t\\tEncoder activation: relu\")\n",
    "print(\"\\t\\tDecoder activation: sigmoid\")\n",
    "print(\"\\t\\tOptimizer: adadelta\")\n",
    "print(\"\\t\\tloss: mse\")\n",
    "\n",
    "# \"bo\" is for \"blue dot\"\n",
    "plt.plot(epochs_iter7, loss_iter7, 'bo', label='Training loss')\n",
    "# b is for \"solid blue line\"\n",
    "plt.plot(epochs_iter7, val_loss_iter7, 'b', label='Validation loss')\n",
    "plt.title('Iteration 7: Training vs validation loss ')\n",
    "plt.xlabel('Epochs')\n",
    "plt.ylabel('Loss')\n",
    "plt.legend()\n",
    "\n",
    "plt.show()\n",
    "\n",
    "plot_model(autoencoder_iter7, show_shapes=True, to_file='autoencoder_iter7.png',show_layer_names=True)\n",
    "from IPython.display import Image\n",
    "Image(retina=True, filename='autoencoder_iter7.png')\n",
    "\n",
    "print(\"Iterations \", Iter_tbl, sep='\\n')\n",
    "\n",
    "encoded_words_test_iter7 = encoder_iter7.predict(x_test)\n",
    "decoded_words_iter7 = decoder_iter7.predict(encoded_words_test_iter7)\n",
    "  \n",
    "for i in range(1, 5, 1):\n",
    "    print(\"Encoded word with {} dimensions \\n {}\".format(encoding_dim, encoded_words_test_iter7[i]))\n",
    "    print(\"Decoded word with {} dimensions \\n {}\".format(inp_dim, decoded_words_iter7[i]))\n",
    "\n",
    "\n",
    "\t"
   ]
  },
  {
   "cell_type": "code",
   "execution_count": 0,
   "metadata": {
    "colab": {
     "base_uri": "https://localhost:8080/",
     "height": 111
    },
    "colab_type": "code",
    "id": "A6uaOTsBTghp",
    "outputId": "d5858b2f-5f1c-48ab-ec3c-dd57efa42d47"
   },
   "outputs": [
    {
     "data": {
      "text/html": [
       "<div>\n",
       "<style scoped>\n",
       "    .dataframe tbody tr th:only-of-type {\n",
       "        vertical-align: middle;\n",
       "    }\n",
       "\n",
       "    .dataframe tbody tr th {\n",
       "        vertical-align: top;\n",
       "    }\n",
       "\n",
       "    .dataframe thead th {\n",
       "        text-align: right;\n",
       "    }\n",
       "</style>\n",
       "<table border=\"1\" class=\"dataframe\">\n",
       "  <thead>\n",
       "    <tr style=\"text-align: right;\">\n",
       "      <th></th>\n",
       "      <th>Iteration</th>\n",
       "      <th>Descr</th>\n",
       "      <th>Activation</th>\n",
       "      <th>Optimizer</th>\n",
       "      <th>Loss_Function</th>\n",
       "      <th>Training_Loss</th>\n",
       "      <th>Validation_Loss</th>\n",
       "    </tr>\n",
       "  </thead>\n",
       "  <tbody>\n",
       "    <tr>\n",
       "      <th>0</th>\n",
       "      <td>1</td>\n",
       "      <td>SingleEncoderDecoder</td>\n",
       "      <td>elu</td>\n",
       "      <td>adam</td>\n",
       "      <td>binarycrossentropy</td>\n",
       "      <td>0.009811</td>\n",
       "      <td>0.009952</td>\n",
       "    </tr>\n",
       "    <tr>\n",
       "      <th>1</th>\n",
       "      <td>2</td>\n",
       "      <td>SingleEncoderDecoder</td>\n",
       "      <td>relu</td>\n",
       "      <td>adam</td>\n",
       "      <td>binarycrossentropy</td>\n",
       "      <td>0.010033</td>\n",
       "      <td>0.010201</td>\n",
       "    </tr>\n",
       "    <tr>\n",
       "      <th>2</th>\n",
       "      <td>3</td>\n",
       "      <td>SingleEncoderDecoder</td>\n",
       "      <td>relu</td>\n",
       "      <td>adadelta</td>\n",
       "      <td>binarycrossentropy</td>\n",
       "      <td>0.250595</td>\n",
       "      <td>0.216126</td>\n",
       "    </tr>\n",
       "    <tr>\n",
       "      <th>3</th>\n",
       "      <td>4</td>\n",
       "      <td>SingleEncoderDecoder</td>\n",
       "      <td>relu</td>\n",
       "      <td>adam</td>\n",
       "      <td>mse</td>\n",
       "      <td>0.000599</td>\n",
       "      <td>0.000633</td>\n",
       "    </tr>\n",
       "    <tr>\n",
       "      <th>4</th>\n",
       "      <td>5</td>\n",
       "      <td>SingleEncoderDecoder</td>\n",
       "      <td>relu</td>\n",
       "      <td>adadelta</td>\n",
       "      <td>mse</td>\n",
       "      <td>0.235660</td>\n",
       "      <td>0.234895</td>\n",
       "    </tr>\n",
       "    <tr>\n",
       "      <th>5</th>\n",
       "      <td>6</td>\n",
       "      <td>SingleEncoderDecoder</td>\n",
       "      <td>elu</td>\n",
       "      <td>adadelta</td>\n",
       "      <td>mse</td>\n",
       "      <td>0.232404</td>\n",
       "      <td>0.231227</td>\n",
       "    </tr>\n",
       "    <tr>\n",
       "      <th>6</th>\n",
       "      <td>7</td>\n",
       "      <td>MultiEncoderDecoder</td>\n",
       "      <td>relu</td>\n",
       "      <td>adadelta</td>\n",
       "      <td>mse</td>\n",
       "      <td>0.000196</td>\n",
       "      <td>0.000195</td>\n",
       "    </tr>\n",
       "  </tbody>\n",
       "</table>\n",
       "</div>"
      ],
      "text/plain": [
       "  Iteration                 Descr Activation Optimizer       Loss_Function  \\\n",
       "0         1  SingleEncoderDecoder        elu      adam  binarycrossentropy   \n",
       "1         2  SingleEncoderDecoder       relu      adam  binarycrossentropy   \n",
       "2         3  SingleEncoderDecoder       relu  adadelta  binarycrossentropy   \n",
       "3         4  SingleEncoderDecoder       relu      adam                 mse   \n",
       "4         5  SingleEncoderDecoder       relu  adadelta                 mse   \n",
       "5         6  SingleEncoderDecoder        elu  adadelta                 mse   \n",
       "6         7   MultiEncoderDecoder       relu  adadelta                 mse   \n",
       "\n",
       "   Training_Loss  Validation_Loss  \n",
       "0       0.009811         0.009952  \n",
       "1       0.010033         0.010201  \n",
       "2       0.250595         0.216126  \n",
       "3       0.000599         0.000633  \n",
       "4       0.235660         0.234895  \n",
       "5       0.232404         0.231227  \n",
       "6       0.000196         0.000195  "
      ]
     },
     "execution_count": 27,
     "metadata": {
      "tags": []
     },
     "output_type": "execute_result"
    }
   ],
   "source": [
    "Iter_tbl"
   ]
  },
  {
   "cell_type": "markdown",
   "metadata": {
    "colab_type": "text",
    "id": "spPuJoaShQ53"
   },
   "source": [
    "#### From above iterations and charts we can clearly see that Iteration #7 Multi-layer Encoder-decoder with Activation: relu /Optimizer: adadelta/ Loss_function: mse has the lowest training and validation loss of 0.000196 approximately."
   ]
  },
  {
   "cell_type": "markdown",
   "metadata": {
    "colab_type": "text",
    "id": "SU87SNnw4Gxk"
   },
   "source": [
    "# 5. Unsupervised Clustering "
   ]
  },
  {
   "cell_type": "markdown",
   "metadata": {
    "colab_type": "text",
    "id": "b53kG8YeR3hy"
   },
   "source": [
    "Now we apply clustering algorithms on encoded documents (with reduced dimensions to 50) to finally create unsupervised clusters of documents. \n",
    "Using encoded output Iteration #7 Encoder network for clustering."
   ]
  },
  {
   "cell_type": "code",
   "execution_count": 0,
   "metadata": {
    "colab": {},
    "colab_type": "code",
    "id": "qIcxLpR1R2JS"
   },
   "outputs": [],
   "source": [
    "encoded_words_train = encoder_iter7.predict(x_train)\n",
    "encoded_words_test = encoded_words_test_iter7"
   ]
  },
  {
   "cell_type": "markdown",
   "metadata": {
    "colab_type": "text",
    "id": "ynJaCyIgdm8_"
   },
   "source": [
    "Using Kmeans algorithm to execute the last step of clustering on documents with reduced dimensions. We will create 5 clusters of documents."
   ]
  },
  {
   "cell_type": "code",
   "execution_count": 0,
   "metadata": {
    "colab": {
     "base_uri": "https://localhost:8080/",
     "height": 68
    },
    "colab_type": "code",
    "id": "tBrhiavR7bAu",
    "outputId": "3f329575-606b-445f-e80b-ae313b4d4f24"
   },
   "outputs": [
    {
     "data": {
      "text/plain": [
       "KMeans(algorithm='auto', copy_x=True, init='k-means++', max_iter=300,\n",
       "    n_clusters=5, n_init=1, n_jobs=-1, precompute_distances='auto',\n",
       "    random_state=None, tol=0.0001, verbose=0)"
      ]
     },
     "execution_count": 29,
     "metadata": {
      "tags": []
     },
     "output_type": "execute_result"
    }
   ],
   "source": [
    "# Importing KMeans for last stage of clustering on encoded docs\n",
    "from sklearn.cluster import KMeans  \n",
    "\n",
    "# Importing accuracy score for model evaluation. Although this is not a supervised classification problem, \n",
    " # .  we still want to see accuracy of unsupervised clustering as we know the labels for the word documents.\n",
    "from sklearn.metrics import accuracy_score  \n",
    "\n",
    "# Defining 5 cluster model using Kmeans\n",
    "km = KMeans(n_jobs=-1, n_clusters=5, n_init=1)\n",
    "\n",
    "# Creating the clusters.\n",
    "km.fit(encoded_words_train)\n",
    "\n",
    "\n",
    "# Predicting the cluster for the test data\n",
    "pred = km.predict(encoded_words_test)\n",
    "\n",
    "#for i in range(5):\n",
    "#  print(\"Original word from test data \\n {} \".format(x_test[i]))\n",
    "#  print(\"Cluster number - {}\".format(pred[i]))\n",
    "\n",
    "\n"
   ]
  },
  {
   "cell_type": "markdown",
   "metadata": {
    "colab_type": "text",
    "id": "5U9bckbWd3ys"
   },
   "source": [
    "Printing the cluster ids and sizes."
   ]
  },
  {
   "cell_type": "code",
   "execution_count": 0,
   "metadata": {
    "colab": {
     "base_uri": "https://localhost:8080/",
     "height": 102
    },
    "colab_type": "code",
    "id": "bK2_JnEHYvaC",
    "outputId": "376d4c11-3617-41b3-9bfd-6feb21aec2b9"
   },
   "outputs": [
    {
     "name": "stdout",
     "output_type": "stream",
     "text": [
      "Cluster 0 has 2466 documents.\n",
      "Cluster 1 has 300 documents.\n",
      "Cluster 2 has 1070 documents.\n",
      "Cluster 3 has 1236 documents.\n",
      "Cluster 4 has 2460 documents.\n"
     ]
    }
   ],
   "source": [
    "# Printing the clusters and number of docs in each clusters.\n",
    "uniqueValues, occurCount = np.unique(pred, return_counts=True)\n",
    "\n",
    "for n in uniqueValues:\n",
    "  print(\"Cluster {} has {} documents.\".format(n, occurCount[n]))"
   ]
  },
  {
   "cell_type": "code",
   "execution_count": 0,
   "metadata": {
    "colab": {
     "base_uri": "https://localhost:8080/",
     "height": 562
    },
    "colab_type": "code",
    "id": "9qIuG_IMukKI",
    "outputId": "ea6fd8ed-09a8-42db-f1b9-35bc31d18d60"
   },
   "outputs": [
    {
     "data": {
      "text/plain": [
       "([<matplotlib.patches.Wedge at 0x1ad8168c358>,\n",
       "  <matplotlib.patches.Wedge at 0x1ad8168cd30>,\n",
       "  <matplotlib.patches.Wedge at 0x1ad81698710>,\n",
       "  <matplotlib.patches.Wedge at 0x1ad816a10f0>,\n",
       "  <matplotlib.patches.Wedge at 0x1ad816a1a90>],\n",
       " [Text(-1.0278724949509468, 0.6192561135130732, 'Text Cluster 0'),\n",
       "  Text(-0.900687007428013, -0.6314767728510453, 'Text Cluster 1'),\n",
       "  Text(-0.41607233093119533, -1.0182749213417182, 'Text Cluster 2'),\n",
       "  Text(0.5972290378462396, -0.9237518478212939, 'Text Cluster 3'),\n",
       "  Text(0.9407929288824307, 0.5700076007956542, 'Text Cluster 4')],\n",
       " [Text(-0.5995922887213855, 0.36123273288262603, '2466.0'),\n",
       "  Text(-0.49128382223346156, -0.34444187610057014, '300.0'),\n",
       "  Text(-0.22694854414428833, -0.5554226843682099, '1070.0'),\n",
       "  Text(0.3257612933706761, -0.5038646442661603, '1236.0'),\n",
       "  Text(0.5131597793904167, 0.3109132367976295, '2460.0')])"
      ]
     },
     "execution_count": 31,
     "metadata": {
      "tags": []
     },
     "output_type": "execute_result"
    },
    {
     "data": {
      "text/plain": [
       "(-1.1948333253538723,\n",
       " 1.1096986632399988,\n",
       " -1.1099443925601837,\n",
       " 1.1545355841587692)"
      ]
     },
     "execution_count": 31,
     "metadata": {
      "tags": []
     },
     "output_type": "execute_result"
    },
    {
     "data": {
      "image/png": "[encoded data removed]",
      "text/plain": [
       "<Figure size 432x288 with 1 Axes>"
      ]
     },
     "metadata": {
      "tags": []
     },
     "output_type": "display_data"
    }
   ],
   "source": [
    "\n",
    "# Pie chart of cluster ids and number of text documents in each cluster:\n",
    "\n",
    "cluster_label = [\"Text Cluster \"+str(uq) for uq in list(uniqueValues)]\n",
    "\n",
    "explode = (0.1, 0, 0, 0, 0)  # only \"explode\" the first cluster because it's bigger\n",
    "def absolute_value(val):\n",
    "    a  = np.round(val/100.*occurCount.sum(), 0)\n",
    "    return a\n",
    "\n",
    "fig1, ax1 = plt.subplots()\n",
    "ax1.pie(occurCount, explode=explode, labels=cluster_label, autopct=absolute_value,\n",
    "        shadow=True, startangle=90)\n",
    "ax1.axis('equal')  # Equal aspect ratio ensures that pie is drawn as a circle.\n",
    "\n",
    "plt.show()"
   ]
  },
  {
   "cell_type": "markdown",
   "metadata": {
    "colab_type": "text",
    "id": "V1C8A4MYekdf"
   },
   "source": [
    "Model evaluation. \n",
    "\n",
    "This is not a classification model and hence accuracy is not relevant. "
   ]
  },
  {
   "cell_type": "code",
   "execution_count": 0,
   "metadata": {
    "colab": {},
    "colab_type": "code",
    "id": "7TSm6TDx92wk"
   },
   "outputs": [],
   "source": [
    "# train_labels = y_test\n",
    "# train_labels\n",
    "# Evaluating accuracy. This is not a classification model and hence accuracy is not relevant. \n",
    "# from sklearn.metrics import accuracy_score\n",
    "# print(pred)\n",
    "# print(train_labels)\n",
    "\n",
    "# acc = accuracy_score(pred, train_labels, normalize=False) / float(train_labels.size)\n",
    "# print(\"Accuracy of clustered labels vs the pre-defined labels is {}\".format(acc))"
   ]
  },
  {
   "cell_type": "markdown",
   "metadata": {
    "colab_type": "text",
    "id": "GgKJH1z3eohd"
   },
   "source": [
    "# 6. Visualization\n",
    "\n",
    "Visualization of 4 dimensions of the encoded docs, with the cluster id"
   ]
  },
  {
   "cell_type": "code",
   "execution_count": 0,
   "metadata": {
    "colab": {},
    "colab_type": "code",
    "id": "EwRJZ3AIBROq"
   },
   "outputs": [],
   "source": [
    "# Importing needed libraries for visualization\n",
    "import matplotlib.pyplot as plt\n",
    "from mpl_toolkits.mplot3d import Axes3D\n",
    "import matplotlib as mpl\n",
    "import numpy as np\n",
    "%matplotlib inline"
   ]
  },
  {
   "cell_type": "code",
   "execution_count": 0,
   "metadata": {
    "colab": {
     "base_uri": "https://localhost:8080/",
     "height": 799
    },
    "colab_type": "code",
    "id": "gnpXNR4tXXZd",
    "outputId": "83af1d84-f71a-4e70-dd64-34eafe1e3813"
   },
   "outputs": [
    {
     "name": "stdout",
     "output_type": "stream",
     "text": [
      "Encoded word with 50 dimensions \n",
      " [0.0000000e+00 0.0000000e+00 2.3981990e-01 1.1709739e+00 4.0594044e+00\n",
      " 2.8796451e+00 0.0000000e+00 3.5869473e-01 1.9369844e+00 1.4527278e+00\n",
      " 5.8475959e-01 0.0000000e+00 6.8879145e-01 0.0000000e+00 0.0000000e+00\n",
      " 0.0000000e+00 4.9053244e-03 0.0000000e+00 3.5398662e+00 8.9585072e-01\n",
      " 4.1858673e-01 0.0000000e+00 0.0000000e+00 2.5595758e+00 3.5033482e-01\n",
      " 0.0000000e+00 7.2117287e-01 0.0000000e+00 9.1924787e-02 2.9390922e+00\n",
      " 5.3727865e+00 0.0000000e+00 0.0000000e+00 1.7519637e+00 1.1217818e-03\n",
      " 4.3949289e+00 1.2481416e+00 1.6162462e+00 0.0000000e+00 1.6342525e+00\n",
      " 0.0000000e+00 3.1765833e+00 0.0000000e+00 2.8440459e+00 0.0000000e+00\n",
      " 7.5689107e-01 0.0000000e+00 1.1755872e+00 4.1936512e+00 2.9658029e+00]\n",
      "Encoded word with 50 dimensions \n",
      " [0.         0.         0.24443534 1.1866261  4.0792966  2.8884523\n",
      " 0.         0.3571777  1.9449311  1.4542459  0.59330213 0.\n",
      " 0.6718703  0.         0.         0.         0.         0.\n",
      " 3.5649917  0.9010773  0.41958603 0.         0.         2.5675128\n",
      " 0.36231175 0.         0.7407766  0.         0.10640214 2.9428246\n",
      " 5.3843102  0.         0.         1.7512623  0.01144846 4.4051876\n",
      " 1.2561921  1.6127138  0.         1.6431264  0.         3.1771936\n",
      " 0.         2.8607953  0.         0.76770306 0.         1.190402\n",
      " 4.205284   2.9698563 ]\n",
      "Encoded word with 50 dimensions \n",
      " [0.         0.         0.23237161 1.1820817  4.0620904  2.8749168\n",
      " 0.         0.3531845  1.9391737  1.4563024  0.5869129  0.\n",
      " 0.6863777  0.         0.         0.         0.         0.\n",
      " 3.5475938  0.8964313  0.41431296 0.         0.         2.5623834\n",
      " 0.36324736 0.         0.730205   0.         0.08735254 2.9448116\n",
      " 5.390863   0.         0.         1.7603925  0.         4.4052973\n",
      " 1.2507197  1.6139824  0.         1.6436898  0.         3.1723812\n",
      " 0.         2.8466377  0.         0.75734586 0.         1.1761347\n",
      " 4.189367   2.9648135 ]\n",
      "Encoded word with 50 dimensions \n",
      " [0.0000000e+00 0.0000000e+00 2.3231986e-01 1.1780698e+00 4.0343413e+00\n",
      " 2.8509936e+00 0.0000000e+00 3.5378125e-01 1.9212446e+00 1.4460595e+00\n",
      " 5.8381528e-01 0.0000000e+00 6.7170805e-01 0.0000000e+00 0.0000000e+00\n",
      " 0.0000000e+00 0.0000000e+00 0.0000000e+00 3.5186162e+00 8.8935179e-01\n",
      " 4.1210547e-01 0.0000000e+00 0.0000000e+00 2.5352254e+00 3.6011744e-01\n",
      " 0.0000000e+00 7.3977304e-01 0.0000000e+00 9.0960622e-02 2.9122264e+00\n",
      " 5.3373828e+00 0.0000000e+00 0.0000000e+00 1.7411684e+00 1.5638657e-03\n",
      " 4.3673301e+00 1.2419475e+00 1.6063061e+00 0.0000000e+00 1.6202979e+00\n",
      " 0.0000000e+00 3.1422915e+00 0.0000000e+00 2.8280289e+00 0.0000000e+00\n",
      " 7.5257015e-01 0.0000000e+00 1.1647433e+00 4.1540527e+00 2.9366505e+00]\n"
     ]
    }
   ],
   "source": [
    "for i in range(1, 5, 1):\n",
    "    print(\"Encoded word with {} dimensions \\n {}\".format(encoding_dim, encoded_words_train[i]))"
   ]
  },
  {
   "cell_type": "markdown",
   "metadata": {
    "colab_type": "text",
    "id": "68XWrSqqlnma"
   },
   "source": [
    "Visualization of 4 dimensions of the encoded docs, with the cluster id. \n",
    "As we cannot easily visualize all 50 dimensions, we are plotting the graph with only hand-picked 4 dimensions."
   ]
  },
  {
   "cell_type": "code",
   "execution_count": 0,
   "metadata": {
    "colab": {},
    "colab_type": "code",
    "id": "ygiZoWHkA1b-"
   },
   "outputs": [],
   "source": [
    "\n",
    "# Selecting a few interesting dimensions for visualization purpose.\n",
    "dim1 = 1\n",
    "dim2 = 2\n",
    "dim3 = 10\n",
    "dim4 = 11\n",
    "\n",
    "# Preparing the lists for the plot.\n",
    "xs = list(encoded_words_train[:, dim1])\n",
    "ys = list(encoded_words_train[:, dim2])\n",
    "zs = list(encoded_words_train[:, dim3])\n",
    "data_points = [(x, y, z) for x, y, z in zip(xs, ys, zs)]\n",
    "\n",
    "ss = list(encoded_words_train[:, dim4])\n",
    "\n",
    "# Denoting clusters by different colors in the plot\n",
    "colors_list = ['r', 'b', 'c', 'm', 'y', 'k', 'w']\n",
    "colors = [colors_list[wt] for wt in list(pred)]\n",
    "\n",
    "# print(data_points)\n",
    "# print(ss)\n",
    "# print(colors)\n",
    "\n",
    "\n"
   ]
  },
  {
   "cell_type": "code",
   "execution_count": 0,
   "metadata": {
    "colab": {
     "base_uri": "https://localhost:8080/",
     "height": 683
    },
    "colab_type": "code",
    "id": "cEuL1CxGGTdi",
    "outputId": "d6ea1c5a-6679-4597-8a7f-cda6a6d503aa",
    "scrolled": false
   },
   "outputs": [
    {
     "data": {
      "text/plain": [
       "<mpl_toolkits.mplot3d.art3d.Path3DCollection at 0x1ad94ec6fd0>"
      ]
     },
     "execution_count": 36,
     "metadata": {
      "tags": []
     },
     "output_type": "execute_result"
    },
    {
     "data": {
      "text/plain": [
       "<mpl_toolkits.mplot3d.art3d.Path3DCollection at 0x1ad816e9da0>"
      ]
     },
     "execution_count": 36,
     "metadata": {
      "tags": []
     },
     "output_type": "execute_result"
    },
    {
     "data": {
      "text/plain": [
       "<mpl_toolkits.mplot3d.art3d.Path3DCollection at 0x1ad94ed15f8>"
      ]
     },
     "execution_count": 36,
     "metadata": {
      "tags": []
     },
     "output_type": "execute_result"
    },
    {
     "data": {
      "text/plain": [
       "<mpl_toolkits.mplot3d.art3d.Path3DCollection at 0x1ad94ed1908>"
      ]
     },
     "execution_count": 36,
     "metadata": {
      "tags": []
     },
     "output_type": "execute_result"
    },
    {
     "data": {
      "text/plain": [
       "<mpl_toolkits.mplot3d.art3d.Path3DCollection at 0x1ad94ed1c18>"
      ]
     },
     "execution_count": 36,
     "metadata": {
      "tags": []
     },
     "output_type": "execute_result"
    },
    {
     "data": {
      "text/plain": [
       "<mpl_toolkits.mplot3d.art3d.Path3DCollection at 0x1ad94ed1c88>"
      ]
     },
     "execution_count": 36,
     "metadata": {
      "tags": []
     },
     "output_type": "execute_result"
    },
    {
     "data": {
      "text/plain": [
       "<mpl_toolkits.mplot3d.art3d.Path3DCollection at 0x1ad94ee5128>"
      ]
     },
     "execution_count": 36,
     "metadata": {
      "tags": []
     },
     "output_type": "execute_result"
    },
    {
     "data": {
      "text/plain": [
       "<mpl_toolkits.mplot3d.art3d.Path3DCollection at 0x1ad94ee5588>"
      ]
     },
     "execution_count": 36,
     "metadata": {
      "tags": []
     },
     "output_type": "execute_result"
    },
    {
     "data": {
      "text/plain": [
       "<mpl_toolkits.mplot3d.art3d.Path3DCollection at 0x1ad94ee5898>"
      ]
     },
     "execution_count": 36,
     "metadata": {
      "tags": []
     },
     "output_type": "execute_result"
    },
    {
     "data": {
      "text/plain": [
       "<mpl_toolkits.mplot3d.art3d.Path3DCollection at 0x1ad94ee5ba8>"
      ]
     },
     "execution_count": 36,
     "metadata": {
      "tags": []
     },
     "output_type": "execute_result"
    },
    {
     "data": {
      "text/plain": [
       "<mpl_toolkits.mplot3d.art3d.Path3DCollection at 0x1ad94ee5eb8>"
      ]
     },
     "execution_count": 36,
     "metadata": {
      "tags": []
     },
     "output_type": "execute_result"
    },
    {
     "data": {
      "text/plain": [
       "<mpl_toolkits.mplot3d.art3d.Path3DCollection at 0x1ad94ed1fd0>"
      ]
     },
     "execution_count": 36,
     "metadata": {
      "tags": []
     },
     "output_type": "execute_result"
    },
    {
     "data": {
      "text/plain": [
       "<mpl_toolkits.mplot3d.art3d.Path3DCollection at 0x1ad94ee5d68>"
      ]
     },
     "execution_count": 36,
     "metadata": {
      "tags": []
     },
     "output_type": "execute_result"
    },
    {
     "data": {
      "text/plain": [
       "<mpl_toolkits.mplot3d.art3d.Path3DCollection at 0x1ad94ef3438>"
      ]
     },
     "execution_count": 36,
     "metadata": {
      "tags": []
     },
     "output_type": "execute_result"
    },
    {
     "data": {
      "text/plain": [
       "<mpl_toolkits.mplot3d.art3d.Path3DCollection at 0x1ad94ef3748>"
      ]
     },
     "execution_count": 36,
     "metadata": {
      "tags": []
     },
     "output_type": "execute_result"
    },
    {
     "data": {
      "text/plain": [
       "<mpl_toolkits.mplot3d.art3d.Path3DCollection at 0x1ad94ef3a58>"
      ]
     },
     "execution_count": 36,
     "metadata": {
      "tags": []
     },
     "output_type": "execute_result"
    },
    {
     "data": {
      "text/plain": [
       "<mpl_toolkits.mplot3d.art3d.Path3DCollection at 0x1ad94ef34a8>"
      ]
     },
     "execution_count": 36,
     "metadata": {
      "tags": []
     },
     "output_type": "execute_result"
    },
    {
     "data": {
      "text/plain": [
       "<mpl_toolkits.mplot3d.art3d.Path3DCollection at 0x1ad94ef5080>"
      ]
     },
     "execution_count": 36,
     "metadata": {
      "tags": []
     },
     "output_type": "execute_result"
    },
    {
     "data": {
      "text/plain": [
       "<mpl_toolkits.mplot3d.art3d.Path3DCollection at 0x1ad94ef53c8>"
      ]
     },
     "execution_count": 36,
     "metadata": {
      "tags": []
     },
     "output_type": "execute_result"
    },
    {
     "data": {
      "text/plain": [
       "<mpl_toolkits.mplot3d.art3d.Path3DCollection at 0x1ad94ef5668>"
      ]
     },
     "execution_count": 36,
     "metadata": {
      "tags": []
     },
     "output_type": "execute_result"
    },
    {
     "data": {
      "text/plain": [
       "<mpl_toolkits.mplot3d.art3d.Path3DCollection at 0x1ad94ef5a90>"
      ]
     },
     "execution_count": 36,
     "metadata": {
      "tags": []
     },
     "output_type": "execute_result"
    },
    {
     "data": {
      "text/plain": [
       "<mpl_toolkits.mplot3d.art3d.Path3DCollection at 0x1ad94ef5d30>"
      ]
     },
     "execution_count": 36,
     "metadata": {
      "tags": []
     },
     "output_type": "execute_result"
    },
    {
     "data": {
      "text/plain": [
       "<mpl_toolkits.mplot3d.art3d.Path3DCollection at 0x1ad94ef56a0>"
      ]
     },
     "execution_count": 36,
     "metadata": {
      "tags": []
     },
     "output_type": "execute_result"
    },
    {
     "data": {
      "text/plain": [
       "<mpl_toolkits.mplot3d.art3d.Path3DCollection at 0x1ad94ef30b8>"
      ]
     },
     "execution_count": 36,
     "metadata": {
      "tags": []
     },
     "output_type": "execute_result"
    },
    {
     "data": {
      "text/plain": [
       "<mpl_toolkits.mplot3d.art3d.Path3DCollection at 0x1ad94f021d0>"
      ]
     },
     "execution_count": 36,
     "metadata": {
      "tags": []
     },
     "output_type": "execute_result"
    },
    {
     "data": {
      "text/plain": [
       "<mpl_toolkits.mplot3d.art3d.Path3DCollection at 0x1ad94ef5978>"
      ]
     },
     "execution_count": 36,
     "metadata": {
      "tags": []
     },
     "output_type": "execute_result"
    },
    {
     "data": {
      "text/plain": [
       "<mpl_toolkits.mplot3d.art3d.Path3DCollection at 0x1ad94f027f0>"
      ]
     },
     "execution_count": 36,
     "metadata": {
      "tags": []
     },
     "output_type": "execute_result"
    },
    {
     "data": {
      "text/plain": [
       "<mpl_toolkits.mplot3d.art3d.Path3DCollection at 0x1ad94f029e8>"
      ]
     },
     "execution_count": 36,
     "metadata": {
      "tags": []
     },
     "output_type": "execute_result"
    },
    {
     "data": {
      "text/plain": [
       "<mpl_toolkits.mplot3d.art3d.Path3DCollection at 0x1ad94f02cf8>"
      ]
     },
     "execution_count": 36,
     "metadata": {
      "tags": []
     },
     "output_type": "execute_result"
    },
    {
     "data": {
      "text/plain": [
       "<mpl_toolkits.mplot3d.art3d.Path3DCollection at 0x1ad94f13198>"
      ]
     },
     "execution_count": 36,
     "metadata": {
      "tags": []
     },
     "output_type": "execute_result"
    },
    {
     "data": {
      "text/plain": [
       "<mpl_toolkits.mplot3d.art3d.Path3DCollection at 0x1ad94f02b00>"
      ]
     },
     "execution_count": 36,
     "metadata": {
      "tags": []
     },
     "output_type": "execute_result"
    },
    {
     "data": {
      "text/plain": [
       "<mpl_toolkits.mplot3d.art3d.Path3DCollection at 0x1ad94ef59b0>"
      ]
     },
     "execution_count": 36,
     "metadata": {
      "tags": []
     },
     "output_type": "execute_result"
    },
    {
     "data": {
      "text/plain": [
       "<mpl_toolkits.mplot3d.art3d.Path3DCollection at 0x1ad94f13748>"
      ]
     },
     "execution_count": 36,
     "metadata": {
      "tags": []
     },
     "output_type": "execute_result"
    },
    {
     "data": {
      "text/plain": [
       "<mpl_toolkits.mplot3d.art3d.Path3DCollection at 0x1ad94f139b0>"
      ]
     },
     "execution_count": 36,
     "metadata": {
      "tags": []
     },
     "output_type": "execute_result"
    },
    {
     "data": {
      "text/plain": [
       "<mpl_toolkits.mplot3d.art3d.Path3DCollection at 0x1ad94f13cf8>"
      ]
     },
     "execution_count": 36,
     "metadata": {
      "tags": []
     },
     "output_type": "execute_result"
    },
    {
     "data": {
      "text/plain": [
       "<mpl_toolkits.mplot3d.art3d.Path3DCollection at 0x1ad94f13f98>"
      ]
     },
     "execution_count": 36,
     "metadata": {
      "tags": []
     },
     "output_type": "execute_result"
    },
    {
     "data": {
      "text/plain": [
       "<mpl_toolkits.mplot3d.art3d.Path3DCollection at 0x1ad94f282e8>"
      ]
     },
     "execution_count": 36,
     "metadata": {
      "tags": []
     },
     "output_type": "execute_result"
    },
    {
     "data": {
      "text/plain": [
       "<mpl_toolkits.mplot3d.art3d.Path3DCollection at 0x1ad94f285c0>"
      ]
     },
     "execution_count": 36,
     "metadata": {
      "tags": []
     },
     "output_type": "execute_result"
    },
    {
     "data": {
      "text/plain": [
       "<mpl_toolkits.mplot3d.art3d.Path3DCollection at 0x1ad94f28668>"
      ]
     },
     "execution_count": 36,
     "metadata": {
      "tags": []
     },
     "output_type": "execute_result"
    },
    {
     "data": {
      "text/plain": [
       "<mpl_toolkits.mplot3d.art3d.Path3DCollection at 0x1ad94f28c18>"
      ]
     },
     "execution_count": 36,
     "metadata": {
      "tags": []
     },
     "output_type": "execute_result"
    },
    {
     "data": {
      "text/plain": [
       "<mpl_toolkits.mplot3d.art3d.Path3DCollection at 0x1ad94f28f28>"
      ]
     },
     "execution_count": 36,
     "metadata": {
      "tags": []
     },
     "output_type": "execute_result"
    },
    {
     "data": {
      "text/plain": [
       "<mpl_toolkits.mplot3d.art3d.Path3DCollection at 0x1ad94f284a8>"
      ]
     },
     "execution_count": 36,
     "metadata": {
      "tags": []
     },
     "output_type": "execute_result"
    },
    {
     "data": {
      "text/plain": [
       "<mpl_toolkits.mplot3d.art3d.Path3DCollection at 0x1ad94f34128>"
      ]
     },
     "execution_count": 36,
     "metadata": {
      "tags": []
     },
     "output_type": "execute_result"
    },
    {
     "data": {
      "text/plain": [
       "<mpl_toolkits.mplot3d.art3d.Path3DCollection at 0x1ad94f34438>"
      ]
     },
     "execution_count": 36,
     "metadata": {
      "tags": []
     },
     "output_type": "execute_result"
    },
    {
     "data": {
      "text/plain": [
       "<mpl_toolkits.mplot3d.art3d.Path3DCollection at 0x1ad94f34710>"
      ]
     },
     "execution_count": 36,
     "metadata": {
      "tags": []
     },
     "output_type": "execute_result"
    },
    {
     "data": {
      "text/plain": [
       "<mpl_toolkits.mplot3d.art3d.Path3DCollection at 0x1ad94f34748>"
      ]
     },
     "execution_count": 36,
     "metadata": {
      "tags": []
     },
     "output_type": "execute_result"
    },
    {
     "data": {
      "text/plain": [
       "<mpl_toolkits.mplot3d.art3d.Path3DCollection at 0x1ad94f34d68>"
      ]
     },
     "execution_count": 36,
     "metadata": {
      "tags": []
     },
     "output_type": "execute_result"
    },
    {
     "data": {
      "text/plain": [
       "<mpl_toolkits.mplot3d.art3d.Path3DCollection at 0x1ad94f34dd8>"
      ]
     },
     "execution_count": 36,
     "metadata": {
      "tags": []
     },
     "output_type": "execute_result"
    },
    {
     "data": {
      "text/plain": [
       "<mpl_toolkits.mplot3d.art3d.Path3DCollection at 0x1ad94f393c8>"
      ]
     },
     "execution_count": 36,
     "metadata": {
      "tags": []
     },
     "output_type": "execute_result"
    },
    {
     "data": {
      "text/plain": [
       "<mpl_toolkits.mplot3d.art3d.Path3DCollection at 0x1ad94f396d8>"
      ]
     },
     "execution_count": 36,
     "metadata": {
      "tags": []
     },
     "output_type": "execute_result"
    },
    {
     "data": {
      "text/plain": [
       "<mpl_toolkits.mplot3d.art3d.Path3DCollection at 0x1ad94f399e8>"
      ]
     },
     "execution_count": 36,
     "metadata": {
      "tags": []
     },
     "output_type": "execute_result"
    },
    {
     "data": {
      "text/plain": [
       "<mpl_toolkits.mplot3d.art3d.Path3DCollection at 0x1ad94f39cf8>"
      ]
     },
     "execution_count": 36,
     "metadata": {
      "tags": []
     },
     "output_type": "execute_result"
    },
    {
     "data": {
      "text/plain": [
       "<mpl_toolkits.mplot3d.art3d.Path3DCollection at 0x1ad94f39668>"
      ]
     },
     "execution_count": 36,
     "metadata": {
      "tags": []
     },
     "output_type": "execute_result"
    },
    {
     "data": {
      "text/plain": [
       "<mpl_toolkits.mplot3d.art3d.Path3DCollection at 0x1ad94f340b8>"
      ]
     },
     "execution_count": 36,
     "metadata": {
      "tags": []
     },
     "output_type": "execute_result"
    },
    {
     "data": {
      "text/plain": [
       "<mpl_toolkits.mplot3d.art3d.Path3DCollection at 0x1ad94f4d208>"
      ]
     },
     "execution_count": 36,
     "metadata": {
      "tags": []
     },
     "output_type": "execute_result"
    },
    {
     "data": {
      "text/plain": [
       "<mpl_toolkits.mplot3d.art3d.Path3DCollection at 0x1ad94f4d518>"
      ]
     },
     "execution_count": 36,
     "metadata": {
      "tags": []
     },
     "output_type": "execute_result"
    },
    {
     "data": {
      "text/plain": [
       "<mpl_toolkits.mplot3d.art3d.Path3DCollection at 0x1ad94f4d828>"
      ]
     },
     "execution_count": 36,
     "metadata": {
      "tags": []
     },
     "output_type": "execute_result"
    },
    {
     "data": {
      "text/plain": [
       "<mpl_toolkits.mplot3d.art3d.Path3DCollection at 0x1ad94f4db00>"
      ]
     },
     "execution_count": 36,
     "metadata": {
      "tags": []
     },
     "output_type": "execute_result"
    },
    {
     "data": {
      "text/plain": [
       "<mpl_toolkits.mplot3d.art3d.Path3DCollection at 0x1ad94f4de48>"
      ]
     },
     "execution_count": 36,
     "metadata": {
      "tags": []
     },
     "output_type": "execute_result"
    },
    {
     "data": {
      "text/plain": [
       "<mpl_toolkits.mplot3d.art3d.Path3DCollection at 0x1ad94f5c198>"
      ]
     },
     "execution_count": 36,
     "metadata": {
      "tags": []
     },
     "output_type": "execute_result"
    },
    {
     "data": {
      "text/plain": [
       "<mpl_toolkits.mplot3d.art3d.Path3DCollection at 0x1ad94f4d7b8>"
      ]
     },
     "execution_count": 36,
     "metadata": {
      "tags": []
     },
     "output_type": "execute_result"
    },
    {
     "data": {
      "text/plain": [
       "<mpl_toolkits.mplot3d.art3d.Path3DCollection at 0x1ad94f5c4e0>"
      ]
     },
     "execution_count": 36,
     "metadata": {
      "tags": []
     },
     "output_type": "execute_result"
    },
    {
     "data": {
      "text/plain": [
       "<mpl_toolkits.mplot3d.art3d.Path3DCollection at 0x1ad94f5c6a0>"
      ]
     },
     "execution_count": 36,
     "metadata": {
      "tags": []
     },
     "output_type": "execute_result"
    },
    {
     "data": {
      "text/plain": [
       "<mpl_toolkits.mplot3d.art3d.Path3DCollection at 0x1ad94f5c9e8>"
      ]
     },
     "execution_count": 36,
     "metadata": {
      "tags": []
     },
     "output_type": "execute_result"
    },
    {
     "data": {
      "text/plain": [
       "<mpl_toolkits.mplot3d.art3d.Path3DCollection at 0x1ad94f5ccf8>"
      ]
     },
     "execution_count": 36,
     "metadata": {
      "tags": []
     },
     "output_type": "execute_result"
    },
    {
     "data": {
      "text/plain": [
       "<mpl_toolkits.mplot3d.art3d.Path3DCollection at 0x1ad94f5cf98>"
      ]
     },
     "execution_count": 36,
     "metadata": {
      "tags": []
     },
     "output_type": "execute_result"
    },
    {
     "data": {
      "text/plain": [
       "<mpl_toolkits.mplot3d.art3d.Path3DCollection at 0x1ad94f692e8>"
      ]
     },
     "execution_count": 36,
     "metadata": {
      "tags": []
     },
     "output_type": "execute_result"
    },
    {
     "data": {
      "text/plain": [
       "<mpl_toolkits.mplot3d.art3d.Path3DCollection at 0x1ad94f695c0>"
      ]
     },
     "execution_count": 36,
     "metadata": {
      "tags": []
     },
     "output_type": "execute_result"
    },
    {
     "data": {
      "text/plain": [
       "<mpl_toolkits.mplot3d.art3d.Path3DCollection at 0x1ad94f698d0>"
      ]
     },
     "execution_count": 36,
     "metadata": {
      "tags": []
     },
     "output_type": "execute_result"
    },
    {
     "data": {
      "text/plain": [
       "<mpl_toolkits.mplot3d.art3d.Path3DCollection at 0x1ad94f69908>"
      ]
     },
     "execution_count": 36,
     "metadata": {
      "tags": []
     },
     "output_type": "execute_result"
    },
    {
     "data": {
      "text/plain": [
       "<mpl_toolkits.mplot3d.art3d.Path3DCollection at 0x1ad94f69ef0>"
      ]
     },
     "execution_count": 36,
     "metadata": {
      "tags": []
     },
     "output_type": "execute_result"
    },
    {
     "data": {
      "text/plain": [
       "<mpl_toolkits.mplot3d.art3d.Path3DCollection at 0x1ad94f5ccc0>"
      ]
     },
     "execution_count": 36,
     "metadata": {
      "tags": []
     },
     "output_type": "execute_result"
    },
    {
     "data": {
      "text/plain": [
       "<mpl_toolkits.mplot3d.art3d.Path3DCollection at 0x1ad94f69f98>"
      ]
     },
     "execution_count": 36,
     "metadata": {
      "tags": []
     },
     "output_type": "execute_result"
    },
    {
     "data": {
      "text/plain": [
       "<mpl_toolkits.mplot3d.art3d.Path3DCollection at 0x1ad94f78400>"
      ]
     },
     "execution_count": 36,
     "metadata": {
      "tags": []
     },
     "output_type": "execute_result"
    },
    {
     "data": {
      "text/plain": [
       "<mpl_toolkits.mplot3d.art3d.Path3DCollection at 0x1ad94f78748>"
      ]
     },
     "execution_count": 36,
     "metadata": {
      "tags": []
     },
     "output_type": "execute_result"
    },
    {
     "data": {
      "text/plain": [
       "<mpl_toolkits.mplot3d.art3d.Path3DCollection at 0x1ad94f78a58>"
      ]
     },
     "execution_count": 36,
     "metadata": {
      "tags": []
     },
     "output_type": "execute_result"
    },
    {
     "data": {
      "text/plain": [
       "<mpl_toolkits.mplot3d.art3d.Path3DCollection at 0x1ad94f78d30>"
      ]
     },
     "execution_count": 36,
     "metadata": {
      "tags": []
     },
     "output_type": "execute_result"
    },
    {
     "data": {
      "text/plain": [
       "<mpl_toolkits.mplot3d.art3d.Path3DCollection at 0x1ad94f79048>"
      ]
     },
     "execution_count": 36,
     "metadata": {
      "tags": []
     },
     "output_type": "execute_result"
    },
    {
     "data": {
      "text/plain": [
       "<mpl_toolkits.mplot3d.art3d.Path3DCollection at 0x1ad94f78dd8>"
      ]
     },
     "execution_count": 36,
     "metadata": {
      "tags": []
     },
     "output_type": "execute_result"
    },
    {
     "data": {
      "text/plain": [
       "<mpl_toolkits.mplot3d.art3d.Path3DCollection at 0x1ad94f796d8>"
      ]
     },
     "execution_count": 36,
     "metadata": {
      "tags": []
     },
     "output_type": "execute_result"
    },
    {
     "data": {
      "text/plain": [
       "<mpl_toolkits.mplot3d.art3d.Path3DCollection at 0x1ad94f799e8>"
      ]
     },
     "execution_count": 36,
     "metadata": {
      "tags": []
     },
     "output_type": "execute_result"
    },
    {
     "data": {
      "text/plain": [
       "<mpl_toolkits.mplot3d.art3d.Path3DCollection at 0x1ad94f79cc0>"
      ]
     },
     "execution_count": 36,
     "metadata": {
      "tags": []
     },
     "output_type": "execute_result"
    },
    {
     "data": {
      "text/plain": [
       "<mpl_toolkits.mplot3d.art3d.Path3DCollection at 0x1ad94f79fd0>"
      ]
     },
     "execution_count": 36,
     "metadata": {
      "tags": []
     },
     "output_type": "execute_result"
    },
    {
     "data": {
      "text/plain": [
       "<mpl_toolkits.mplot3d.art3d.Path3DCollection at 0x1ad94f78128>"
      ]
     },
     "execution_count": 36,
     "metadata": {
      "tags": []
     },
     "output_type": "execute_result"
    },
    {
     "data": {
      "text/plain": [
       "<mpl_toolkits.mplot3d.art3d.Path3DCollection at 0x1ad94f8b1d0>"
      ]
     },
     "execution_count": 36,
     "metadata": {
      "tags": []
     },
     "output_type": "execute_result"
    },
    {
     "data": {
      "text/plain": [
       "<mpl_toolkits.mplot3d.art3d.Path3DCollection at 0x1ad94f8b518>"
      ]
     },
     "execution_count": 36,
     "metadata": {
      "tags": []
     },
     "output_type": "execute_result"
    },
    {
     "data": {
      "text/plain": [
       "<mpl_toolkits.mplot3d.art3d.Path3DCollection at 0x1ad94f8b828>"
      ]
     },
     "execution_count": 36,
     "metadata": {
      "tags": []
     },
     "output_type": "execute_result"
    },
    {
     "data": {
      "text/plain": [
       "<mpl_toolkits.mplot3d.art3d.Path3DCollection at 0x1ad94f8bb38>"
      ]
     },
     "execution_count": 36,
     "metadata": {
      "tags": []
     },
     "output_type": "execute_result"
    },
    {
     "data": {
      "text/plain": [
       "<mpl_toolkits.mplot3d.art3d.Path3DCollection at 0x1ad94f8be48>"
      ]
     },
     "execution_count": 36,
     "metadata": {
      "tags": []
     },
     "output_type": "execute_result"
    },
    {
     "data": {
      "text/plain": [
       "<mpl_toolkits.mplot3d.art3d.Path3DCollection at 0x1ad951d5198>"
      ]
     },
     "execution_count": 36,
     "metadata": {
      "tags": []
     },
     "output_type": "execute_result"
    },
    {
     "data": {
      "text/plain": [
       "<mpl_toolkits.mplot3d.art3d.Path3DCollection at 0x1ad94f8bb00>"
      ]
     },
     "execution_count": 36,
     "metadata": {
      "tags": []
     },
     "output_type": "execute_result"
    },
    {
     "data": {
      "text/plain": [
       "<mpl_toolkits.mplot3d.art3d.Path3DCollection at 0x1ad94f79978>"
      ]
     },
     "execution_count": 36,
     "metadata": {
      "tags": []
     },
     "output_type": "execute_result"
    },
    {
     "data": {
      "text/plain": [
       "<mpl_toolkits.mplot3d.art3d.Path3DCollection at 0x1ad94f5cf28>"
      ]
     },
     "execution_count": 36,
     "metadata": {
      "tags": []
     },
     "output_type": "execute_result"
    },
    {
     "data": {
      "text/plain": [
       "<mpl_toolkits.mplot3d.art3d.Path3DCollection at 0x1ad951d59e8>"
      ]
     },
     "execution_count": 36,
     "metadata": {
      "tags": []
     },
     "output_type": "execute_result"
    },
    {
     "data": {
      "text/plain": [
       "<mpl_toolkits.mplot3d.art3d.Path3DCollection at 0x1ad951d5cf8>"
      ]
     },
     "execution_count": 36,
     "metadata": {
      "tags": []
     },
     "output_type": "execute_result"
    },
    {
     "data": {
      "text/plain": [
       "<mpl_toolkits.mplot3d.art3d.Path3DCollection at 0x1ad951d5f98>"
      ]
     },
     "execution_count": 36,
     "metadata": {
      "tags": []
     },
     "output_type": "execute_result"
    },
    {
     "data": {
      "text/plain": [
       "<mpl_toolkits.mplot3d.art3d.Path3DCollection at 0x1ad951d5e48>"
      ]
     },
     "execution_count": 36,
     "metadata": {
      "tags": []
     },
     "output_type": "execute_result"
    },
    {
     "data": {
      "text/plain": [
       "<mpl_toolkits.mplot3d.art3d.Path3DCollection at 0x1ad951e55c0>"
      ]
     },
     "execution_count": 36,
     "metadata": {
      "tags": []
     },
     "output_type": "execute_result"
    },
    {
     "data": {
      "text/plain": [
       "<mpl_toolkits.mplot3d.art3d.Path3DCollection at 0x1ad951e58d0>"
      ]
     },
     "execution_count": 36,
     "metadata": {
      "tags": []
     },
     "output_type": "execute_result"
    },
    {
     "data": {
      "text/plain": [
       "<mpl_toolkits.mplot3d.art3d.Path3DCollection at 0x1ad951e5c18>"
      ]
     },
     "execution_count": 36,
     "metadata": {
      "tags": []
     },
     "output_type": "execute_result"
    },
    {
     "data": {
      "text/plain": [
       "<mpl_toolkits.mplot3d.art3d.Path3DCollection at 0x1ad951e5f28>"
      ]
     },
     "execution_count": 36,
     "metadata": {
      "tags": []
     },
     "output_type": "execute_result"
    },
    {
     "data": {
      "text/plain": [
       "<mpl_toolkits.mplot3d.art3d.Path3DCollection at 0x1ad951d5cc0>"
      ]
     },
     "execution_count": 36,
     "metadata": {
      "tags": []
     },
     "output_type": "execute_result"
    },
    {
     "data": {
      "text/plain": [
       "<mpl_toolkits.mplot3d.art3d.Path3DCollection at 0x1ad951e5978>"
      ]
     },
     "execution_count": 36,
     "metadata": {
      "tags": []
     },
     "output_type": "execute_result"
    },
    {
     "data": {
      "text/plain": [
       "<mpl_toolkits.mplot3d.art3d.Path3DCollection at 0x1ad951ee438>"
      ]
     },
     "execution_count": 36,
     "metadata": {
      "tags": []
     },
     "output_type": "execute_result"
    },
    {
     "data": {
      "text/plain": [
       "<mpl_toolkits.mplot3d.art3d.Path3DCollection at 0x1ad951ee748>"
      ]
     },
     "execution_count": 36,
     "metadata": {
      "tags": []
     },
     "output_type": "execute_result"
    },
    {
     "data": {
      "text/plain": [
       "<mpl_toolkits.mplot3d.art3d.Path3DCollection at 0x1ad951eea20>"
      ]
     },
     "execution_count": 36,
     "metadata": {
      "tags": []
     },
     "output_type": "execute_result"
    },
    {
     "data": {
      "text/plain": [
       "<mpl_toolkits.mplot3d.art3d.Path3DCollection at 0x1ad951eea58>"
      ]
     },
     "execution_count": 36,
     "metadata": {
      "tags": []
     },
     "output_type": "execute_result"
    },
    {
     "data": {
      "text/plain": [
       "<mpl_toolkits.mplot3d.art3d.Path3DCollection at 0x1ad95204080>"
      ]
     },
     "execution_count": 36,
     "metadata": {
      "tags": []
     },
     "output_type": "execute_result"
    },
    {
     "data": {
      "text/plain": [
       "<mpl_toolkits.mplot3d.art3d.Path3DCollection at 0x1ad951eef28>"
      ]
     },
     "execution_count": 36,
     "metadata": {
      "tags": []
     },
     "output_type": "execute_result"
    },
    {
     "data": {
      "text/plain": [
       "<mpl_toolkits.mplot3d.art3d.Path3DCollection at 0x1ad952046a0>"
      ]
     },
     "execution_count": 36,
     "metadata": {
      "tags": []
     },
     "output_type": "execute_result"
    },
    {
     "data": {
      "text/plain": [
       "<mpl_toolkits.mplot3d.art3d.Path3DCollection at 0x1ad952046d8>"
      ]
     },
     "execution_count": 36,
     "metadata": {
      "tags": []
     },
     "output_type": "execute_result"
    },
    {
     "data": {
      "text/plain": [
       "<mpl_toolkits.mplot3d.art3d.Path3DCollection at 0x1ad95204cf8>"
      ]
     },
     "execution_count": 36,
     "metadata": {
      "tags": []
     },
     "output_type": "execute_result"
    },
    {
     "data": {
      "text/plain": [
       "<mpl_toolkits.mplot3d.art3d.Path3DCollection at 0x1ad95204438>"
      ]
     },
     "execution_count": 36,
     "metadata": {
      "tags": []
     },
     "output_type": "execute_result"
    },
    {
     "data": {
      "text/plain": [
       "<mpl_toolkits.mplot3d.art3d.Path3DCollection at 0x1ad951ee400>"
      ]
     },
     "execution_count": 36,
     "metadata": {
      "tags": []
     },
     "output_type": "execute_result"
    },
    {
     "data": {
      "text/plain": [
       "<mpl_toolkits.mplot3d.art3d.Path3DCollection at 0x1ad9520c208>"
      ]
     },
     "execution_count": 36,
     "metadata": {
      "tags": []
     },
     "output_type": "execute_result"
    },
    {
     "data": {
      "text/plain": [
       "<mpl_toolkits.mplot3d.art3d.Path3DCollection at 0x1ad9520c278>"
      ]
     },
     "execution_count": 36,
     "metadata": {
      "tags": []
     },
     "output_type": "execute_result"
    },
    {
     "data": {
      "text/plain": [
       "<mpl_toolkits.mplot3d.art3d.Path3DCollection at 0x1ad9520c828>"
      ]
     },
     "execution_count": 36,
     "metadata": {
      "tags": []
     },
     "output_type": "execute_result"
    },
    {
     "data": {
      "text/plain": [
       "<mpl_toolkits.mplot3d.art3d.Path3DCollection at 0x1ad9520cb00>"
      ]
     },
     "execution_count": 36,
     "metadata": {
      "tags": []
     },
     "output_type": "execute_result"
    },
    {
     "data": {
      "text/plain": [
       "<mpl_toolkits.mplot3d.art3d.Path3DCollection at 0x1ad9520ce48>"
      ]
     },
     "execution_count": 36,
     "metadata": {
      "tags": []
     },
     "output_type": "execute_result"
    },
    {
     "data": {
      "text/plain": [
       "<mpl_toolkits.mplot3d.art3d.Path3DCollection at 0x1ad9521f198>"
      ]
     },
     "execution_count": 36,
     "metadata": {
      "tags": []
     },
     "output_type": "execute_result"
    },
    {
     "data": {
      "text/plain": [
       "<mpl_toolkits.mplot3d.art3d.Path3DCollection at 0x1ad9520c7b8>"
      ]
     },
     "execution_count": 36,
     "metadata": {
      "tags": []
     },
     "output_type": "execute_result"
    },
    {
     "data": {
      "text/plain": [
       "<mpl_toolkits.mplot3d.art3d.Path3DCollection at 0x1ad95204cc0>"
      ]
     },
     "execution_count": 36,
     "metadata": {
      "tags": []
     },
     "output_type": "execute_result"
    },
    {
     "data": {
      "text/plain": [
       "<mpl_toolkits.mplot3d.art3d.Path3DCollection at 0x1ad9520c9e8>"
      ]
     },
     "execution_count": 36,
     "metadata": {
      "tags": []
     },
     "output_type": "execute_result"
    },
    {
     "data": {
      "text/plain": [
       "<mpl_toolkits.mplot3d.art3d.Path3DCollection at 0x1ad9521f9e8>"
      ]
     },
     "execution_count": 36,
     "metadata": {
      "tags": []
     },
     "output_type": "execute_result"
    },
    {
     "data": {
      "text/plain": [
       "<mpl_toolkits.mplot3d.art3d.Path3DCollection at 0x1ad9521f978>"
      ]
     },
     "execution_count": 36,
     "metadata": {
      "tags": []
     },
     "output_type": "execute_result"
    },
    {
     "data": {
      "text/plain": [
       "<mpl_toolkits.mplot3d.art3d.Path3DCollection at 0x1ad9521ff98>"
      ]
     },
     "execution_count": 36,
     "metadata": {
      "tags": []
     },
     "output_type": "execute_result"
    },
    {
     "data": {
      "text/plain": [
       "<mpl_toolkits.mplot3d.art3d.Path3DCollection at 0x1ad9521ff60>"
      ]
     },
     "execution_count": 36,
     "metadata": {
      "tags": []
     },
     "output_type": "execute_result"
    },
    {
     "data": {
      "text/plain": [
       "<mpl_toolkits.mplot3d.art3d.Path3DCollection at 0x1ad952245f8>"
      ]
     },
     "execution_count": 36,
     "metadata": {
      "tags": []
     },
     "output_type": "execute_result"
    },
    {
     "data": {
      "text/plain": [
       "<mpl_toolkits.mplot3d.art3d.Path3DCollection at 0x1ad952244a8>"
      ]
     },
     "execution_count": 36,
     "metadata": {
      "tags": []
     },
     "output_type": "execute_result"
    },
    {
     "data": {
      "text/plain": [
       "<mpl_toolkits.mplot3d.art3d.Path3DCollection at 0x1ad95224be0>"
      ]
     },
     "execution_count": 36,
     "metadata": {
      "tags": []
     },
     "output_type": "execute_result"
    },
    {
     "data": {
      "text/plain": [
       "<mpl_toolkits.mplot3d.art3d.Path3DCollection at 0x1ad95224eb8>"
      ]
     },
     "execution_count": 36,
     "metadata": {
      "tags": []
     },
     "output_type": "execute_result"
    },
    {
     "data": {
      "text/plain": [
       "<mpl_toolkits.mplot3d.art3d.Path3DCollection at 0x1ad95224dd8>"
      ]
     },
     "execution_count": 36,
     "metadata": {
      "tags": []
     },
     "output_type": "execute_result"
    },
    {
     "data": {
      "text/plain": [
       "<mpl_toolkits.mplot3d.art3d.Path3DCollection at 0x1ad9523a128>"
      ]
     },
     "execution_count": 36,
     "metadata": {
      "tags": []
     },
     "output_type": "execute_result"
    },
    {
     "data": {
      "text/plain": [
       "<mpl_toolkits.mplot3d.art3d.Path3DCollection at 0x1ad9523a400>"
      ]
     },
     "execution_count": 36,
     "metadata": {
      "tags": []
     },
     "output_type": "execute_result"
    },
    {
     "data": {
      "text/plain": [
       "<mpl_toolkits.mplot3d.art3d.Path3DCollection at 0x1ad9523a748>"
      ]
     },
     "execution_count": 36,
     "metadata": {
      "tags": []
     },
     "output_type": "execute_result"
    },
    {
     "data": {
      "text/plain": [
       "<mpl_toolkits.mplot3d.art3d.Path3DCollection at 0x1ad9523aa58>"
      ]
     },
     "execution_count": 36,
     "metadata": {
      "tags": []
     },
     "output_type": "execute_result"
    },
    {
     "data": {
      "text/plain": [
       "<mpl_toolkits.mplot3d.art3d.Path3DCollection at 0x1ad9523ad68>"
      ]
     },
     "execution_count": 36,
     "metadata": {
      "tags": []
     },
     "output_type": "execute_result"
    },
    {
     "data": {
      "text/plain": [
       "<mpl_toolkits.mplot3d.art3d.Path3DCollection at 0x1ad9523f048>"
      ]
     },
     "execution_count": 36,
     "metadata": {
      "tags": []
     },
     "output_type": "execute_result"
    },
    {
     "data": {
      "text/plain": [
       "<mpl_toolkits.mplot3d.art3d.Path3DCollection at 0x1ad9523f3c8>"
      ]
     },
     "execution_count": 36,
     "metadata": {
      "tags": []
     },
     "output_type": "execute_result"
    },
    {
     "data": {
      "text/plain": [
       "<mpl_toolkits.mplot3d.art3d.Path3DCollection at 0x1ad9523f6a0>"
      ]
     },
     "execution_count": 36,
     "metadata": {
      "tags": []
     },
     "output_type": "execute_result"
    },
    {
     "data": {
      "text/plain": [
       "<mpl_toolkits.mplot3d.art3d.Path3DCollection at 0x1ad9523f9e8>"
      ]
     },
     "execution_count": 36,
     "metadata": {
      "tags": []
     },
     "output_type": "execute_result"
    },
    {
     "data": {
      "text/plain": [
       "<mpl_toolkits.mplot3d.art3d.Path3DCollection at 0x1ad9523fcc0>"
      ]
     },
     "execution_count": 36,
     "metadata": {
      "tags": []
     },
     "output_type": "execute_result"
    },
    {
     "data": {
      "text/plain": [
       "<mpl_toolkits.mplot3d.art3d.Path3DCollection at 0x1ad9523f358>"
      ]
     },
     "execution_count": 36,
     "metadata": {
      "tags": []
     },
     "output_type": "execute_result"
    },
    {
     "data": {
      "text/plain": [
       "<mpl_toolkits.mplot3d.art3d.Path3DCollection at 0x1ad9523a0b8>"
      ]
     },
     "execution_count": 36,
     "metadata": {
      "tags": []
     },
     "output_type": "execute_result"
    },
    {
     "data": {
      "text/plain": [
       "<mpl_toolkits.mplot3d.art3d.Path3DCollection at 0x1ad9521fc88>"
      ]
     },
     "execution_count": 36,
     "metadata": {
      "tags": []
     },
     "output_type": "execute_result"
    },
    {
     "data": {
      "text/plain": [
       "<mpl_toolkits.mplot3d.art3d.Path3DCollection at 0x1ad95251518>"
      ]
     },
     "execution_count": 36,
     "metadata": {
      "tags": []
     },
     "output_type": "execute_result"
    },
    {
     "data": {
      "text/plain": [
       "<mpl_toolkits.mplot3d.art3d.Path3DCollection at 0x1ad95251828>"
      ]
     },
     "execution_count": 36,
     "metadata": {
      "tags": []
     },
     "output_type": "execute_result"
    },
    {
     "data": {
      "text/plain": [
       "<mpl_toolkits.mplot3d.art3d.Path3DCollection at 0x1ad95251b38>"
      ]
     },
     "execution_count": 36,
     "metadata": {
      "tags": []
     },
     "output_type": "execute_result"
    },
    {
     "data": {
      "text/plain": [
       "<mpl_toolkits.mplot3d.art3d.Path3DCollection at 0x1ad95251e10>"
      ]
     },
     "execution_count": 36,
     "metadata": {
      "tags": []
     },
     "output_type": "execute_result"
    },
    {
     "data": {
      "text/plain": [
       "<mpl_toolkits.mplot3d.art3d.Path3DCollection at 0x1ad95251eb8>"
      ]
     },
     "execution_count": 36,
     "metadata": {
      "tags": []
     },
     "output_type": "execute_result"
    },
    {
     "data": {
      "text/plain": [
       "<mpl_toolkits.mplot3d.art3d.Path3DCollection at 0x1ad952517b8>"
      ]
     },
     "execution_count": 36,
     "metadata": {
      "tags": []
     },
     "output_type": "execute_result"
    },
    {
     "data": {
      "text/plain": [
       "<mpl_toolkits.mplot3d.art3d.Path3DCollection at 0x1ad9525a4e0>"
      ]
     },
     "execution_count": 36,
     "metadata": {
      "tags": []
     },
     "output_type": "execute_result"
    },
    {
     "data": {
      "text/plain": [
       "<mpl_toolkits.mplot3d.art3d.Path3DCollection at 0x1ad9525a6d8>"
      ]
     },
     "execution_count": 36,
     "metadata": {
      "tags": []
     },
     "output_type": "execute_result"
    },
    {
     "data": {
      "text/plain": [
       "<mpl_toolkits.mplot3d.art3d.Path3DCollection at 0x1ad9523ffd0>"
      ]
     },
     "execution_count": 36,
     "metadata": {
      "tags": []
     },
     "output_type": "execute_result"
    },
    {
     "data": {
      "text/plain": [
       "<mpl_toolkits.mplot3d.art3d.Path3DCollection at 0x1ad9525acf8>"
      ]
     },
     "execution_count": 36,
     "metadata": {
      "tags": []
     },
     "output_type": "execute_result"
    },
    {
     "data": {
      "text/plain": [
       "<mpl_toolkits.mplot3d.art3d.Path3DCollection at 0x1ad9525af98>"
      ]
     },
     "execution_count": 36,
     "metadata": {
      "tags": []
     },
     "output_type": "execute_result"
    },
    {
     "data": {
      "text/plain": [
       "<mpl_toolkits.mplot3d.art3d.Path3DCollection at 0x1ad952642e8>"
      ]
     },
     "execution_count": 36,
     "metadata": {
      "tags": []
     },
     "output_type": "execute_result"
    },
    {
     "data": {
      "text/plain": [
       "<mpl_toolkits.mplot3d.art3d.Path3DCollection at 0x1ad952645c0>"
      ]
     },
     "execution_count": 36,
     "metadata": {
      "tags": []
     },
     "output_type": "execute_result"
    },
    {
     "data": {
      "text/plain": [
       "<mpl_toolkits.mplot3d.art3d.Path3DCollection at 0x1ad95264908>"
      ]
     },
     "execution_count": 36,
     "metadata": {
      "tags": []
     },
     "output_type": "execute_result"
    },
    {
     "data": {
      "text/plain": [
       "<mpl_toolkits.mplot3d.art3d.Path3DCollection at 0x1ad95264c18>"
      ]
     },
     "execution_count": 36,
     "metadata": {
      "tags": []
     },
     "output_type": "execute_result"
    },
    {
     "data": {
      "text/plain": [
       "<mpl_toolkits.mplot3d.art3d.Path3DCollection at 0x1ad95264f28>"
      ]
     },
     "execution_count": 36,
     "metadata": {
      "tags": []
     },
     "output_type": "execute_result"
    },
    {
     "data": {
      "text/plain": [
       "<mpl_toolkits.mplot3d.art3d.Path3DCollection at 0x1ad95264048>"
      ]
     },
     "execution_count": 36,
     "metadata": {
      "tags": []
     },
     "output_type": "execute_result"
    },
    {
     "data": {
      "text/plain": [
       "<mpl_toolkits.mplot3d.art3d.Path3DCollection at 0x1ad952760b8>"
      ]
     },
     "execution_count": 36,
     "metadata": {
      "tags": []
     },
     "output_type": "execute_result"
    },
    {
     "data": {
      "text/plain": [
       "<mpl_toolkits.mplot3d.art3d.Path3DCollection at 0x1ad95276438>"
      ]
     },
     "execution_count": 36,
     "metadata": {
      "tags": []
     },
     "output_type": "execute_result"
    },
    {
     "data": {
      "text/plain": [
       "<mpl_toolkits.mplot3d.art3d.Path3DCollection at 0x1ad952764a8>"
      ]
     },
     "execution_count": 36,
     "metadata": {
      "tags": []
     },
     "output_type": "execute_result"
    },
    {
     "data": {
      "text/plain": [
       "<mpl_toolkits.mplot3d.art3d.Path3DCollection at 0x1ad95276a20>"
      ]
     },
     "execution_count": 36,
     "metadata": {
      "tags": []
     },
     "output_type": "execute_result"
    },
    {
     "data": {
      "text/plain": [
       "<mpl_toolkits.mplot3d.art3d.Path3DCollection at 0x1ad95276d30>"
      ]
     },
     "execution_count": 36,
     "metadata": {
      "tags": []
     },
     "output_type": "execute_result"
    },
    {
     "data": {
      "text/plain": [
       "<mpl_toolkits.mplot3d.art3d.Path3DCollection at 0x1ad95287048>"
      ]
     },
     "execution_count": 36,
     "metadata": {
      "tags": []
     },
     "output_type": "execute_result"
    },
    {
     "data": {
      "text/plain": [
       "<mpl_toolkits.mplot3d.art3d.Path3DCollection at 0x1ad952873c8>"
      ]
     },
     "execution_count": 36,
     "metadata": {
      "tags": []
     },
     "output_type": "execute_result"
    },
    {
     "data": {
      "text/plain": [
       "<mpl_toolkits.mplot3d.art3d.Path3DCollection at 0x1ad952876d8>"
      ]
     },
     "execution_count": 36,
     "metadata": {
      "tags": []
     },
     "output_type": "execute_result"
    },
    {
     "data": {
      "text/plain": [
       "<mpl_toolkits.mplot3d.art3d.Path3DCollection at 0x1ad952879e8>"
      ]
     },
     "execution_count": 36,
     "metadata": {
      "tags": []
     },
     "output_type": "execute_result"
    },
    {
     "data": {
      "text/plain": [
       "<mpl_toolkits.mplot3d.art3d.Path3DCollection at 0x1ad95287cc0>"
      ]
     },
     "execution_count": 36,
     "metadata": {
      "tags": []
     },
     "output_type": "execute_result"
    },
    {
     "data": {
      "text/plain": [
       "<mpl_toolkits.mplot3d.art3d.Path3DCollection at 0x1ad95287668>"
      ]
     },
     "execution_count": 36,
     "metadata": {
      "tags": []
     },
     "output_type": "execute_result"
    },
    {
     "data": {
      "text/plain": [
       "<mpl_toolkits.mplot3d.art3d.Path3DCollection at 0x1ad95276198>"
      ]
     },
     "execution_count": 36,
     "metadata": {
      "tags": []
     },
     "output_type": "execute_result"
    },
    {
     "data": {
      "text/plain": [
       "<mpl_toolkits.mplot3d.art3d.Path3DCollection at 0x1ad95292208>"
      ]
     },
     "execution_count": 36,
     "metadata": {
      "tags": []
     },
     "output_type": "execute_result"
    },
    {
     "data": {
      "text/plain": [
       "<mpl_toolkits.mplot3d.art3d.Path3DCollection at 0x1ad95276748>"
      ]
     },
     "execution_count": 36,
     "metadata": {
      "tags": []
     },
     "output_type": "execute_result"
    },
    {
     "data": {
      "text/plain": [
       "<mpl_toolkits.mplot3d.art3d.Path3DCollection at 0x1ad952927f0>"
      ]
     },
     "execution_count": 36,
     "metadata": {
      "tags": []
     },
     "output_type": "execute_result"
    },
    {
     "data": {
      "text/plain": [
       "<mpl_toolkits.mplot3d.art3d.Path3DCollection at 0x1ad95292b00>"
      ]
     },
     "execution_count": 36,
     "metadata": {
      "tags": []
     },
     "output_type": "execute_result"
    },
    {
     "data": {
      "text/plain": [
       "<mpl_toolkits.mplot3d.art3d.Path3DCollection at 0x1ad95292ba8>"
      ]
     },
     "execution_count": 36,
     "metadata": {
      "tags": []
     },
     "output_type": "execute_result"
    },
    {
     "data": {
      "text/plain": [
       "<mpl_toolkits.mplot3d.art3d.Path3DCollection at 0x1ad9529b128>"
      ]
     },
     "execution_count": 36,
     "metadata": {
      "tags": []
     },
     "output_type": "execute_result"
    },
    {
     "data": {
      "text/plain": [
       "<mpl_toolkits.mplot3d.art3d.Path3DCollection at 0x1ad95292ac8>"
      ]
     },
     "execution_count": 36,
     "metadata": {
      "tags": []
     },
     "output_type": "execute_result"
    },
    {
     "data": {
      "text/plain": [
       "<mpl_toolkits.mplot3d.art3d.Path3DCollection at 0x1ad95287978>"
      ]
     },
     "execution_count": 36,
     "metadata": {
      "tags": []
     },
     "output_type": "execute_result"
    },
    {
     "data": {
      "text/plain": [
       "<mpl_toolkits.mplot3d.art3d.Path3DCollection at 0x1ad9529b668>"
      ]
     },
     "execution_count": 36,
     "metadata": {
      "tags": []
     },
     "output_type": "execute_result"
    },
    {
     "data": {
      "text/plain": [
       "<mpl_toolkits.mplot3d.art3d.Path3DCollection at 0x1ad9529b978>"
      ]
     },
     "execution_count": 36,
     "metadata": {
      "tags": []
     },
     "output_type": "execute_result"
    },
    {
     "data": {
      "text/plain": [
       "<mpl_toolkits.mplot3d.art3d.Path3DCollection at 0x1ad95287c88>"
      ]
     },
     "execution_count": 36,
     "metadata": {
      "tags": []
     },
     "output_type": "execute_result"
    },
    {
     "data": {
      "text/plain": [
       "<mpl_toolkits.mplot3d.art3d.Path3DCollection at 0x1ad9529bf98>"
      ]
     },
     "execution_count": 36,
     "metadata": {
      "tags": []
     },
     "output_type": "execute_result"
    },
    {
     "data": {
      "text/plain": [
       "<mpl_toolkits.mplot3d.art3d.Path3DCollection at 0x1ad952b2198>"
      ]
     },
     "execution_count": 36,
     "metadata": {
      "tags": []
     },
     "output_type": "execute_result"
    },
    {
     "data": {
      "text/plain": [
       "<mpl_toolkits.mplot3d.art3d.Path3DCollection at 0x1ad952b2668>"
      ]
     },
     "execution_count": 36,
     "metadata": {
      "tags": []
     },
     "output_type": "execute_result"
    },
    {
     "data": {
      "text/plain": [
       "<mpl_toolkits.mplot3d.art3d.Path3DCollection at 0x1ad952b2908>"
      ]
     },
     "execution_count": 36,
     "metadata": {
      "tags": []
     },
     "output_type": "execute_result"
    },
    {
     "data": {
      "text/plain": [
       "<mpl_toolkits.mplot3d.art3d.Path3DCollection at 0x1ad952b2be0>"
      ]
     },
     "execution_count": 36,
     "metadata": {
      "tags": []
     },
     "output_type": "execute_result"
    },
    {
     "data": {
      "text/plain": [
       "<mpl_toolkits.mplot3d.art3d.Path3DCollection at 0x1ad952b2f28>"
      ]
     },
     "execution_count": 36,
     "metadata": {
      "tags": []
     },
     "output_type": "execute_result"
    },
    {
     "data": {
      "text/plain": [
       "<mpl_toolkits.mplot3d.art3d.Path3DCollection at 0x1ad9529ba20>"
      ]
     },
     "execution_count": 36,
     "metadata": {
      "tags": []
     },
     "output_type": "execute_result"
    },
    {
     "data": {
      "text/plain": [
       "<mpl_toolkits.mplot3d.art3d.Path3DCollection at 0x1ad952b2048>"
      ]
     },
     "execution_count": 36,
     "metadata": {
      "tags": []
     },
     "output_type": "execute_result"
    },
    {
     "data": {
      "text/plain": [
       "<mpl_toolkits.mplot3d.art3d.Path3DCollection at 0x1ad952b9438>"
      ]
     },
     "execution_count": 36,
     "metadata": {
      "tags": []
     },
     "output_type": "execute_result"
    },
    {
     "data": {
      "text/plain": [
       "<mpl_toolkits.mplot3d.art3d.Path3DCollection at 0x1ad952b9748>"
      ]
     },
     "execution_count": 36,
     "metadata": {
      "tags": []
     },
     "output_type": "execute_result"
    },
    {
     "data": {
      "text/plain": [
       "<mpl_toolkits.mplot3d.art3d.Path3DCollection at 0x1ad952b9a58>"
      ]
     },
     "execution_count": 36,
     "metadata": {
      "tags": []
     },
     "output_type": "execute_result"
    },
    {
     "data": {
      "text/plain": [
       "<mpl_toolkits.mplot3d.art3d.Path3DCollection at 0x1ad952b92e8>"
      ]
     },
     "execution_count": 36,
     "metadata": {
      "tags": []
     },
     "output_type": "execute_result"
    },
    {
     "data": {
      "text/plain": [
       "<mpl_toolkits.mplot3d.art3d.Path3DCollection at 0x1ad952c2080>"
      ]
     },
     "execution_count": 36,
     "metadata": {
      "tags": []
     },
     "output_type": "execute_result"
    },
    {
     "data": {
      "text/plain": [
       "<mpl_toolkits.mplot3d.art3d.Path3DCollection at 0x1ad952b9d30>"
      ]
     },
     "execution_count": 36,
     "metadata": {
      "tags": []
     },
     "output_type": "execute_result"
    },
    {
     "data": {
      "text/plain": [
       "<mpl_toolkits.mplot3d.art3d.Path3DCollection at 0x1ad952c26d8>"
      ]
     },
     "execution_count": 36,
     "metadata": {
      "tags": []
     },
     "output_type": "execute_result"
    },
    {
     "data": {
      "text/plain": [
       "<mpl_toolkits.mplot3d.art3d.Path3DCollection at 0x1ad952c29e8>"
      ]
     },
     "execution_count": 36,
     "metadata": {
      "tags": []
     },
     "output_type": "execute_result"
    },
    {
     "data": {
      "text/plain": [
       "<mpl_toolkits.mplot3d.art3d.Path3DCollection at 0x1ad952c2cf8>"
      ]
     },
     "execution_count": 36,
     "metadata": {
      "tags": []
     },
     "output_type": "execute_result"
    },
    {
     "data": {
      "text/plain": [
       "<mpl_toolkits.mplot3d.art3d.Path3DCollection at 0x1ad952c2fd0>"
      ]
     },
     "execution_count": 36,
     "metadata": {
      "tags": []
     },
     "output_type": "execute_result"
    },
    {
     "data": {
      "text/plain": [
       "<mpl_toolkits.mplot3d.art3d.Path3DCollection at 0x1ad952b90b8>"
      ]
     },
     "execution_count": 36,
     "metadata": {
      "tags": []
     },
     "output_type": "execute_result"
    },
    {
     "data": {
      "text/plain": [
       "<mpl_toolkits.mplot3d.art3d.Path3DCollection at 0x1ad952d2208>"
      ]
     },
     "execution_count": 36,
     "metadata": {
      "tags": []
     },
     "output_type": "execute_result"
    },
    {
     "data": {
      "text/plain": [
       "<mpl_toolkits.mplot3d.art3d.Path3DCollection at 0x1ad952d2518>"
      ]
     },
     "execution_count": 36,
     "metadata": {
      "tags": []
     },
     "output_type": "execute_result"
    },
    {
     "data": {
      "text/plain": [
       "<mpl_toolkits.mplot3d.art3d.Path3DCollection at 0x1ad952d2828>"
      ]
     },
     "execution_count": 36,
     "metadata": {
      "tags": []
     },
     "output_type": "execute_result"
    },
    {
     "data": {
      "text/plain": [
       "<mpl_toolkits.mplot3d.art3d.Path3DCollection at 0x1ad952d2b38>"
      ]
     },
     "execution_count": 36,
     "metadata": {
      "tags": []
     },
     "output_type": "execute_result"
    },
    {
     "data": {
      "text/plain": [
       "<mpl_toolkits.mplot3d.art3d.Path3DCollection at 0x1ad952d2e10>"
      ]
     },
     "execution_count": 36,
     "metadata": {
      "tags": []
     },
     "output_type": "execute_result"
    },
    {
     "data": {
      "text/plain": [
       "<mpl_toolkits.mplot3d.art3d.Path3DCollection at 0x1ad952de198>"
      ]
     },
     "execution_count": 36,
     "metadata": {
      "tags": []
     },
     "output_type": "execute_result"
    },
    {
     "data": {
      "text/plain": [
       "<mpl_toolkits.mplot3d.art3d.Path3DCollection at 0x1ad952d2b00>"
      ]
     },
     "execution_count": 36,
     "metadata": {
      "tags": []
     },
     "output_type": "execute_result"
    },
    {
     "data": {
      "text/plain": [
       "<mpl_toolkits.mplot3d.art3d.Path3DCollection at 0x1ad952c2978>"
      ]
     },
     "execution_count": 36,
     "metadata": {
      "tags": []
     },
     "output_type": "execute_result"
    },
    {
     "data": {
      "text/plain": [
       "<mpl_toolkits.mplot3d.art3d.Path3DCollection at 0x1ad952de6d8>"
      ]
     },
     "execution_count": 36,
     "metadata": {
      "tags": []
     },
     "output_type": "execute_result"
    },
    {
     "data": {
      "text/plain": [
       "<mpl_toolkits.mplot3d.art3d.Path3DCollection at 0x1ad952de9e8>"
      ]
     },
     "execution_count": 36,
     "metadata": {
      "tags": []
     },
     "output_type": "execute_result"
    },
    {
     "data": {
      "text/plain": [
       "<mpl_toolkits.mplot3d.art3d.Path3DCollection at 0x1ad952dec88>"
      ]
     },
     "execution_count": 36,
     "metadata": {
      "tags": []
     },
     "output_type": "execute_result"
    },
    {
     "data": {
      "text/plain": [
       "<mpl_toolkits.mplot3d.art3d.Path3DCollection at 0x1ad952def98>"
      ]
     },
     "execution_count": 36,
     "metadata": {
      "tags": []
     },
     "output_type": "execute_result"
    },
    {
     "data": {
      "text/plain": [
       "<mpl_toolkits.mplot3d.art3d.Path3DCollection at 0x1ad952decf8>"
      ]
     },
     "execution_count": 36,
     "metadata": {
      "tags": []
     },
     "output_type": "execute_result"
    },
    {
     "data": {
      "text/plain": [
       "<mpl_toolkits.mplot3d.art3d.Path3DCollection at 0x1ad952ed5c0>"
      ]
     },
     "execution_count": 36,
     "metadata": {
      "tags": []
     },
     "output_type": "execute_result"
    },
    {
     "data": {
      "text/plain": [
       "<mpl_toolkits.mplot3d.art3d.Path3DCollection at 0x1ad952ed908>"
      ]
     },
     "execution_count": 36,
     "metadata": {
      "tags": []
     },
     "output_type": "execute_result"
    },
    {
     "data": {
      "text/plain": [
       "<mpl_toolkits.mplot3d.art3d.Path3DCollection at 0x1ad952edc18>"
      ]
     },
     "execution_count": 36,
     "metadata": {
      "tags": []
     },
     "output_type": "execute_result"
    },
    {
     "data": {
      "text/plain": [
       "<mpl_toolkits.mplot3d.art3d.Path3DCollection at 0x1ad952edef0>"
      ]
     },
     "execution_count": 36,
     "metadata": {
      "tags": []
     },
     "output_type": "execute_result"
    },
    {
     "data": {
      "text/plain": [
       "<mpl_toolkits.mplot3d.art3d.Path3DCollection at 0x1ad952de9b0>"
      ]
     },
     "execution_count": 36,
     "metadata": {
      "tags": []
     },
     "output_type": "execute_result"
    },
    {
     "data": {
      "text/plain": [
       "<mpl_toolkits.mplot3d.art3d.Path3DCollection at 0x1ad952fe1d0>"
      ]
     },
     "execution_count": 36,
     "metadata": {
      "tags": []
     },
     "output_type": "execute_result"
    },
    {
     "data": {
      "text/plain": [
       "<mpl_toolkits.mplot3d.art3d.Path3DCollection at 0x1ad952fe438>"
      ]
     },
     "execution_count": 36,
     "metadata": {
      "tags": []
     },
     "output_type": "execute_result"
    },
    {
     "data": {
      "text/plain": [
       "<mpl_toolkits.mplot3d.art3d.Path3DCollection at 0x1ad952edf98>"
      ]
     },
     "execution_count": 36,
     "metadata": {
      "tags": []
     },
     "output_type": "execute_result"
    },
    {
     "data": {
      "text/plain": [
       "<mpl_toolkits.mplot3d.art3d.Path3DCollection at 0x1ad952fea20>"
      ]
     },
     "execution_count": 36,
     "metadata": {
      "tags": []
     },
     "output_type": "execute_result"
    },
    {
     "data": {
      "text/plain": [
       "<mpl_toolkits.mplot3d.art3d.Path3DCollection at 0x1ad952fed30>"
      ]
     },
     "execution_count": 36,
     "metadata": {
      "tags": []
     },
     "output_type": "execute_result"
    },
    {
     "data": {
      "text/plain": [
       "<mpl_toolkits.mplot3d.art3d.Path3DCollection at 0x1ad953050b8>"
      ]
     },
     "execution_count": 36,
     "metadata": {
      "tags": []
     },
     "output_type": "execute_result"
    },
    {
     "data": {
      "text/plain": [
       "<mpl_toolkits.mplot3d.art3d.Path3DCollection at 0x1ad95305470>"
      ]
     },
     "execution_count": 36,
     "metadata": {
      "tags": []
     },
     "output_type": "execute_result"
    },
    {
     "data": {
      "text/plain": [
       "<mpl_toolkits.mplot3d.art3d.Path3DCollection at 0x1ad953056a0>"
      ]
     },
     "execution_count": 36,
     "metadata": {
      "tags": []
     },
     "output_type": "execute_result"
    },
    {
     "data": {
      "text/plain": [
       "<mpl_toolkits.mplot3d.art3d.Path3DCollection at 0x1ad953059b0>"
      ]
     },
     "execution_count": 36,
     "metadata": {
      "tags": []
     },
     "output_type": "execute_result"
    },
    {
     "data": {
      "text/plain": [
       "<mpl_toolkits.mplot3d.art3d.Path3DCollection at 0x1ad95305cf8>"
      ]
     },
     "execution_count": 36,
     "metadata": {
      "tags": []
     },
     "output_type": "execute_result"
    },
    {
     "data": {
      "text/plain": [
       "<mpl_toolkits.mplot3d.art3d.Path3DCollection at 0x1ad95305fd0>"
      ]
     },
     "execution_count": 36,
     "metadata": {
      "tags": []
     },
     "output_type": "execute_result"
    },
    {
     "data": {
      "text/plain": [
       "<mpl_toolkits.mplot3d.art3d.Path3DCollection at 0x1ad952fe128>"
      ]
     },
     "execution_count": 36,
     "metadata": {
      "tags": []
     },
     "output_type": "execute_result"
    },
    {
     "data": {
      "text/plain": [
       "<mpl_toolkits.mplot3d.art3d.Path3DCollection at 0x1ad953121d0>"
      ]
     },
     "execution_count": 36,
     "metadata": {
      "tags": []
     },
     "output_type": "execute_result"
    },
    {
     "data": {
      "text/plain": [
       "<mpl_toolkits.mplot3d.art3d.Path3DCollection at 0x1ad95305390>"
      ]
     },
     "execution_count": 36,
     "metadata": {
      "tags": []
     },
     "output_type": "execute_result"
    },
    {
     "data": {
      "text/plain": [
       "<mpl_toolkits.mplot3d.art3d.Path3DCollection at 0x1ad95312828>"
      ]
     },
     "execution_count": 36,
     "metadata": {
      "tags": []
     },
     "output_type": "execute_result"
    },
    {
     "data": {
      "text/plain": [
       "<mpl_toolkits.mplot3d.art3d.Path3DCollection at 0x1ad95312ac8>"
      ]
     },
     "execution_count": 36,
     "metadata": {
      "tags": []
     },
     "output_type": "execute_result"
    },
    {
     "data": {
      "text/plain": [
       "<mpl_toolkits.mplot3d.art3d.Path3DCollection at 0x1ad95312e48>"
      ]
     },
     "execution_count": 36,
     "metadata": {
      "tags": []
     },
     "output_type": "execute_result"
    },
    {
     "data": {
      "text/plain": [
       "<mpl_toolkits.mplot3d.art3d.Path3DCollection at 0x1ad95320198>"
      ]
     },
     "execution_count": 36,
     "metadata": {
      "tags": []
     },
     "output_type": "execute_result"
    },
    {
     "data": {
      "text/plain": [
       "<mpl_toolkits.mplot3d.art3d.Path3DCollection at 0x1ad953127b8>"
      ]
     },
     "execution_count": 36,
     "metadata": {
      "tags": []
     },
     "output_type": "execute_result"
    },
    {
     "data": {
      "text/plain": [
       "<mpl_toolkits.mplot3d.art3d.Path3DCollection at 0x1ad95305cc0>"
      ]
     },
     "execution_count": 36,
     "metadata": {
      "tags": []
     },
     "output_type": "execute_result"
    },
    {
     "data": {
      "text/plain": [
       "<mpl_toolkits.mplot3d.art3d.Path3DCollection at 0x1ad953206d8>"
      ]
     },
     "execution_count": 36,
     "metadata": {
      "tags": []
     },
     "output_type": "execute_result"
    },
    {
     "data": {
      "text/plain": [
       "<mpl_toolkits.mplot3d.art3d.Path3DCollection at 0x1ad953209e8>"
      ]
     },
     "execution_count": 36,
     "metadata": {
      "tags": []
     },
     "output_type": "execute_result"
    },
    {
     "data": {
      "text/plain": [
       "<mpl_toolkits.mplot3d.art3d.Path3DCollection at 0x1ad95320cf8>"
      ]
     },
     "execution_count": 36,
     "metadata": {
      "tags": []
     },
     "output_type": "execute_result"
    },
    {
     "data": {
      "text/plain": [
       "<mpl_toolkits.mplot3d.art3d.Path3DCollection at 0x1ad95320f98>"
      ]
     },
     "execution_count": 36,
     "metadata": {
      "tags": []
     },
     "output_type": "execute_result"
    },
    {
     "data": {
      "text/plain": [
       "<mpl_toolkits.mplot3d.art3d.Path3DCollection at 0x1ad953362b0>"
      ]
     },
     "execution_count": 36,
     "metadata": {
      "tags": []
     },
     "output_type": "execute_result"
    },
    {
     "data": {
      "text/plain": [
       "<mpl_toolkits.mplot3d.art3d.Path3DCollection at 0x1ad953365f8>"
      ]
     },
     "execution_count": 36,
     "metadata": {
      "tags": []
     },
     "output_type": "execute_result"
    },
    {
     "data": {
      "text/plain": [
       "<mpl_toolkits.mplot3d.art3d.Path3DCollection at 0x1ad953368d0>"
      ]
     },
     "execution_count": 36,
     "metadata": {
      "tags": []
     },
     "output_type": "execute_result"
    },
    {
     "data": {
      "text/plain": [
       "<mpl_toolkits.mplot3d.art3d.Path3DCollection at 0x1ad95336c88>"
      ]
     },
     "execution_count": 36,
     "metadata": {
      "tags": []
     },
     "output_type": "execute_result"
    },
    {
     "data": {
      "text/plain": [
       "<mpl_toolkits.mplot3d.art3d.Path3DCollection at 0x1ad95336f28>"
      ]
     },
     "execution_count": 36,
     "metadata": {
      "tags": []
     },
     "output_type": "execute_result"
    },
    {
     "data": {
      "text/plain": [
       "<mpl_toolkits.mplot3d.art3d.Path3DCollection at 0x1ad953365c0>"
      ]
     },
     "execution_count": 36,
     "metadata": {
      "tags": []
     },
     "output_type": "execute_result"
    },
    {
     "data": {
      "text/plain": [
       "<mpl_toolkits.mplot3d.art3d.Path3DCollection at 0x1ad953370f0>"
      ]
     },
     "execution_count": 36,
     "metadata": {
      "tags": []
     },
     "output_type": "execute_result"
    },
    {
     "data": {
      "text/plain": [
       "<mpl_toolkits.mplot3d.art3d.Path3DCollection at 0x1ad95337438>"
      ]
     },
     "execution_count": 36,
     "metadata": {
      "tags": []
     },
     "output_type": "execute_result"
    },
    {
     "data": {
      "text/plain": [
       "<mpl_toolkits.mplot3d.art3d.Path3DCollection at 0x1ad95337710>"
      ]
     },
     "execution_count": 36,
     "metadata": {
      "tags": []
     },
     "output_type": "execute_result"
    },
    {
     "data": {
      "text/plain": [
       "<mpl_toolkits.mplot3d.art3d.Path3DCollection at 0x1ad95337a20>"
      ]
     },
     "execution_count": 36,
     "metadata": {
      "tags": []
     },
     "output_type": "execute_result"
    },
    {
     "data": {
      "text/plain": [
       "<mpl_toolkits.mplot3d.art3d.Path3DCollection at 0x1ad95337a58>"
      ]
     },
     "execution_count": 36,
     "metadata": {
      "tags": []
     },
     "output_type": "execute_result"
    },
    {
     "data": {
      "text/plain": [
       "<mpl_toolkits.mplot3d.art3d.Path3DCollection at 0x1ad95347048>"
      ]
     },
     "execution_count": 36,
     "metadata": {
      "tags": []
     },
     "output_type": "execute_result"
    },
    {
     "data": {
      "text/plain": [
       "<mpl_toolkits.mplot3d.art3d.Path3DCollection at 0x1ad95347358>"
      ]
     },
     "execution_count": 36,
     "metadata": {
      "tags": []
     },
     "output_type": "execute_result"
    },
    {
     "data": {
      "text/plain": [
       "<mpl_toolkits.mplot3d.art3d.Path3DCollection at 0x1ad953476d8>"
      ]
     },
     "execution_count": 36,
     "metadata": {
      "tags": []
     },
     "output_type": "execute_result"
    },
    {
     "data": {
      "text/plain": [
       "<mpl_toolkits.mplot3d.art3d.Path3DCollection at 0x1ad953479b0>"
      ]
     },
     "execution_count": 36,
     "metadata": {
      "tags": []
     },
     "output_type": "execute_result"
    },
    {
     "data": {
      "text/plain": [
       "<mpl_toolkits.mplot3d.art3d.Path3DCollection at 0x1ad95347cf8>"
      ]
     },
     "execution_count": 36,
     "metadata": {
      "tags": []
     },
     "output_type": "execute_result"
    },
    {
     "data": {
      "text/plain": [
       "<mpl_toolkits.mplot3d.art3d.Path3DCollection at 0x1ad95347668>"
      ]
     },
     "execution_count": 36,
     "metadata": {
      "tags": []
     },
     "output_type": "execute_result"
    },
    {
     "data": {
      "text/plain": [
       "<mpl_toolkits.mplot3d.art3d.Path3DCollection at 0x1ad95337198>"
      ]
     },
     "execution_count": 36,
     "metadata": {
      "tags": []
     },
     "output_type": "execute_result"
    },
    {
     "data": {
      "text/plain": [
       "<mpl_toolkits.mplot3d.art3d.Path3DCollection at 0x1ad95354198>"
      ]
     },
     "execution_count": 36,
     "metadata": {
      "tags": []
     },
     "output_type": "execute_result"
    },
    {
     "data": {
      "text/plain": [
       "<mpl_toolkits.mplot3d.art3d.Path3DCollection at 0x1ad953544e0>"
      ]
     },
     "execution_count": 36,
     "metadata": {
      "tags": []
     },
     "output_type": "execute_result"
    },
    {
     "data": {
      "text/plain": [
       "<mpl_toolkits.mplot3d.art3d.Path3DCollection at 0x1ad95354828>"
      ]
     },
     "execution_count": 36,
     "metadata": {
      "tags": []
     },
     "output_type": "execute_result"
    },
    {
     "data": {
      "text/plain": [
       "<mpl_toolkits.mplot3d.art3d.Path3DCollection at 0x1ad95354b38>"
      ]
     },
     "execution_count": 36,
     "metadata": {
      "tags": []
     },
     "output_type": "execute_result"
    },
    {
     "data": {
      "text/plain": [
       "<mpl_toolkits.mplot3d.art3d.Path3DCollection at 0x1ad95354e48>"
      ]
     },
     "execution_count": 36,
     "metadata": {
      "tags": []
     },
     "output_type": "execute_result"
    },
    {
     "data": {
      "text/plain": [
       "<mpl_toolkits.mplot3d.art3d.Path3DCollection at 0x1ad9536a160>"
      ]
     },
     "execution_count": 36,
     "metadata": {
      "tags": []
     },
     "output_type": "execute_result"
    },
    {
     "data": {
      "text/plain": [
       "<mpl_toolkits.mplot3d.art3d.Path3DCollection at 0x1ad953547b8>"
      ]
     },
     "execution_count": 36,
     "metadata": {
      "tags": []
     },
     "output_type": "execute_result"
    },
    {
     "data": {
      "text/plain": [
       "<mpl_toolkits.mplot3d.art3d.Path3DCollection at 0x1ad953477b8>"
      ]
     },
     "execution_count": 36,
     "metadata": {
      "tags": []
     },
     "output_type": "execute_result"
    },
    {
     "data": {
      "text/plain": [
       "<mpl_toolkits.mplot3d.art3d.Path3DCollection at 0x1ad95320978>"
      ]
     },
     "execution_count": 36,
     "metadata": {
      "tags": []
     },
     "output_type": "execute_result"
    },
    {
     "data": {
      "text/plain": [
       "<mpl_toolkits.mplot3d.art3d.Path3DCollection at 0x1ad9536a9e8>"
      ]
     },
     "execution_count": 36,
     "metadata": {
      "tags": []
     },
     "output_type": "execute_result"
    },
    {
     "data": {
      "text/plain": [
       "<mpl_toolkits.mplot3d.art3d.Path3DCollection at 0x1ad9536acf8>"
      ]
     },
     "execution_count": 36,
     "metadata": {
      "tags": []
     },
     "output_type": "execute_result"
    },
    {
     "data": {
      "text/plain": [
       "<mpl_toolkits.mplot3d.art3d.Path3DCollection at 0x1ad9536af98>"
      ]
     },
     "execution_count": 36,
     "metadata": {
      "tags": []
     },
     "output_type": "execute_result"
    },
    {
     "data": {
      "text/plain": [
       "<mpl_toolkits.mplot3d.art3d.Path3DCollection at 0x1ad9536ae48>"
      ]
     },
     "execution_count": 36,
     "metadata": {
      "tags": []
     },
     "output_type": "execute_result"
    },
    {
     "data": {
      "text/plain": [
       "<mpl_toolkits.mplot3d.art3d.Path3DCollection at 0x1ad9536c5c0>"
      ]
     },
     "execution_count": 36,
     "metadata": {
      "tags": []
     },
     "output_type": "execute_result"
    },
    {
     "data": {
      "text/plain": [
       "<mpl_toolkits.mplot3d.art3d.Path3DCollection at 0x1ad9536c908>"
      ]
     },
     "execution_count": 36,
     "metadata": {
      "tags": []
     },
     "output_type": "execute_result"
    },
    {
     "data": {
      "text/plain": [
       "<mpl_toolkits.mplot3d.art3d.Path3DCollection at 0x1ad9536c978>"
      ]
     },
     "execution_count": 36,
     "metadata": {
      "tags": []
     },
     "output_type": "execute_result"
    },
    {
     "data": {
      "text/plain": [
       "<mpl_toolkits.mplot3d.art3d.Path3DCollection at 0x1ad9536cf28>"
      ]
     },
     "execution_count": 36,
     "metadata": {
      "tags": []
     },
     "output_type": "execute_result"
    },
    {
     "data": {
      "text/plain": [
       "<mpl_toolkits.mplot3d.art3d.Path3DCollection at 0x1ad9536acc0>"
      ]
     },
     "execution_count": 36,
     "metadata": {
      "tags": []
     },
     "output_type": "execute_result"
    },
    {
     "data": {
      "text/plain": [
       "<mpl_toolkits.mplot3d.art3d.Path3DCollection at 0x1ad95384128>"
      ]
     },
     "execution_count": 36,
     "metadata": {
      "tags": []
     },
     "output_type": "execute_result"
    },
    {
     "data": {
      "text/plain": [
       "<mpl_toolkits.mplot3d.art3d.Path3DCollection at 0x1ad95384400>"
      ]
     },
     "execution_count": 36,
     "metadata": {
      "tags": []
     },
     "output_type": "execute_result"
    },
    {
     "data": {
      "text/plain": [
       "<mpl_toolkits.mplot3d.art3d.Path3DCollection at 0x1ad95384748>"
      ]
     },
     "execution_count": 36,
     "metadata": {
      "tags": []
     },
     "output_type": "execute_result"
    },
    {
     "data": {
      "text/plain": [
       "<mpl_toolkits.mplot3d.art3d.Path3DCollection at 0x1ad95384a58>"
      ]
     },
     "execution_count": 36,
     "metadata": {
      "tags": []
     },
     "output_type": "execute_result"
    },
    {
     "data": {
      "text/plain": [
       "<mpl_toolkits.mplot3d.art3d.Path3DCollection at 0x1ad95384d30>"
      ]
     },
     "execution_count": 36,
     "metadata": {
      "tags": []
     },
     "output_type": "execute_result"
    },
    {
     "data": {
      "text/plain": [
       "<mpl_toolkits.mplot3d.art3d.Path3DCollection at 0x1ad9538a080>"
      ]
     },
     "execution_count": 36,
     "metadata": {
      "tags": []
     },
     "output_type": "execute_result"
    },
    {
     "data": {
      "text/plain": [
       "<mpl_toolkits.mplot3d.art3d.Path3DCollection at 0x1ad9538a358>"
      ]
     },
     "execution_count": 36,
     "metadata": {
      "tags": []
     },
     "output_type": "execute_result"
    },
    {
     "data": {
      "text/plain": [
       "<mpl_toolkits.mplot3d.art3d.Path3DCollection at 0x1ad9538a6d8>"
      ]
     },
     "execution_count": 36,
     "metadata": {
      "tags": []
     },
     "output_type": "execute_result"
    },
    {
     "data": {
      "text/plain": [
       "<mpl_toolkits.mplot3d.art3d.Path3DCollection at 0x1ad9538a9e8>"
      ]
     },
     "execution_count": 36,
     "metadata": {
      "tags": []
     },
     "output_type": "execute_result"
    },
    {
     "data": {
      "text/plain": [
       "<mpl_toolkits.mplot3d.art3d.Path3DCollection at 0x1ad9538acf8>"
      ]
     },
     "execution_count": 36,
     "metadata": {
      "tags": []
     },
     "output_type": "execute_result"
    },
    {
     "data": {
      "text/plain": [
       "<mpl_toolkits.mplot3d.art3d.Path3DCollection at 0x1ad9538a668>"
      ]
     },
     "execution_count": 36,
     "metadata": {
      "tags": []
     },
     "output_type": "execute_result"
    },
    {
     "data": {
      "text/plain": [
       "<mpl_toolkits.mplot3d.art3d.Path3DCollection at 0x1ad95384198>"
      ]
     },
     "execution_count": 36,
     "metadata": {
      "tags": []
     },
     "output_type": "execute_result"
    },
    {
     "data": {
      "text/plain": [
       "<mpl_toolkits.mplot3d.art3d.Path3DCollection at 0x1ad953a0198>"
      ]
     },
     "execution_count": 36,
     "metadata": {
      "tags": []
     },
     "output_type": "execute_result"
    },
    {
     "data": {
      "text/plain": [
       "<mpl_toolkits.mplot3d.art3d.Path3DCollection at 0x1ad953a04e0>"
      ]
     },
     "execution_count": 36,
     "metadata": {
      "tags": []
     },
     "output_type": "execute_result"
    },
    {
     "data": {
      "text/plain": [
       "<mpl_toolkits.mplot3d.art3d.Path3DCollection at 0x1ad953a0828>"
      ]
     },
     "execution_count": 36,
     "metadata": {
      "tags": []
     },
     "output_type": "execute_result"
    },
    {
     "data": {
      "text/plain": [
       "<mpl_toolkits.mplot3d.art3d.Path3DCollection at 0x1ad953a0b00>"
      ]
     },
     "execution_count": 36,
     "metadata": {
      "tags": []
     },
     "output_type": "execute_result"
    },
    {
     "data": {
      "text/plain": [
       "<mpl_toolkits.mplot3d.art3d.Path3DCollection at 0x1ad953a0e10>"
      ]
     },
     "execution_count": 36,
     "metadata": {
      "tags": []
     },
     "output_type": "execute_result"
    },
    {
     "data": {
      "text/plain": [
       "<mpl_toolkits.mplot3d.art3d.Path3DCollection at 0x1ad953a4198>"
      ]
     },
     "execution_count": 36,
     "metadata": {
      "tags": []
     },
     "output_type": "execute_result"
    },
    {
     "data": {
      "text/plain": [
       "<mpl_toolkits.mplot3d.art3d.Path3DCollection at 0x1ad953a0dd8>"
      ]
     },
     "execution_count": 36,
     "metadata": {
      "tags": []
     },
     "output_type": "execute_result"
    },
    {
     "data": {
      "text/plain": [
       "<mpl_toolkits.mplot3d.art3d.Path3DCollection at 0x1ad9538a978>"
      ]
     },
     "execution_count": 36,
     "metadata": {
      "tags": []
     },
     "output_type": "execute_result"
    },
    {
     "data": {
      "text/plain": [
       "<mpl_toolkits.mplot3d.art3d.Path3DCollection at 0x1ad953a46d8>"
      ]
     },
     "execution_count": 36,
     "metadata": {
      "tags": []
     },
     "output_type": "execute_result"
    },
    {
     "data": {
      "text/plain": [
       "<mpl_toolkits.mplot3d.art3d.Path3DCollection at 0x1ad953a49b0>"
      ]
     },
     "execution_count": 36,
     "metadata": {
      "tags": []
     },
     "output_type": "execute_result"
    },
    {
     "data": {
      "text/plain": [
       "<mpl_toolkits.mplot3d.art3d.Path3DCollection at 0x1ad953a49e8>"
      ]
     },
     "execution_count": 36,
     "metadata": {
      "tags": []
     },
     "output_type": "execute_result"
    },
    {
     "data": {
      "text/plain": [
       "<mpl_toolkits.mplot3d.art3d.Path3DCollection at 0x1ad953a4f98>"
      ]
     },
     "execution_count": 36,
     "metadata": {
      "tags": []
     },
     "output_type": "execute_result"
    },
    {
     "data": {
      "text/plain": [
       "<mpl_toolkits.mplot3d.art3d.Path3DCollection at 0x1ad953b9278>"
      ]
     },
     "execution_count": 36,
     "metadata": {
      "tags": []
     },
     "output_type": "execute_result"
    },
    {
     "data": {
      "text/plain": [
       "<mpl_toolkits.mplot3d.art3d.Path3DCollection at 0x1ad953b95f8>"
      ]
     },
     "execution_count": 36,
     "metadata": {
      "tags": []
     },
     "output_type": "execute_result"
    },
    {
     "data": {
      "text/plain": [
       "<mpl_toolkits.mplot3d.art3d.Path3DCollection at 0x1ad953b98d0>"
      ]
     },
     "execution_count": 36,
     "metadata": {
      "tags": []
     },
     "output_type": "execute_result"
    },
    {
     "data": {
      "text/plain": [
       "<mpl_toolkits.mplot3d.art3d.Path3DCollection at 0x1ad953b9c18>"
      ]
     },
     "execution_count": 36,
     "metadata": {
      "tags": []
     },
     "output_type": "execute_result"
    },
    {
     "data": {
      "text/plain": [
       "<mpl_toolkits.mplot3d.art3d.Path3DCollection at 0x1ad953b9c88>"
      ]
     },
     "execution_count": 36,
     "metadata": {
      "tags": []
     },
     "output_type": "execute_result"
    },
    {
     "data": {
      "text/plain": [
       "<mpl_toolkits.mplot3d.art3d.Path3DCollection at 0x1ad953a4cc0>"
      ]
     },
     "execution_count": 36,
     "metadata": {
      "tags": []
     },
     "output_type": "execute_result"
    },
    {
     "data": {
      "text/plain": [
       "<mpl_toolkits.mplot3d.art3d.Path3DCollection at 0x1ad953c8128>"
      ]
     },
     "execution_count": 36,
     "metadata": {
      "tags": []
     },
     "output_type": "execute_result"
    },
    {
     "data": {
      "text/plain": [
       "<mpl_toolkits.mplot3d.art3d.Path3DCollection at 0x1ad953c8198>"
      ]
     },
     "execution_count": 36,
     "metadata": {
      "tags": []
     },
     "output_type": "execute_result"
    },
    {
     "data": {
      "text/plain": [
       "<mpl_toolkits.mplot3d.art3d.Path3DCollection at 0x1ad953c8748>"
      ]
     },
     "execution_count": 36,
     "metadata": {
      "tags": []
     },
     "output_type": "execute_result"
    },
    {
     "data": {
      "text/plain": [
       "<mpl_toolkits.mplot3d.art3d.Path3DCollection at 0x1ad953c8a20>"
      ]
     },
     "execution_count": 36,
     "metadata": {
      "tags": []
     },
     "output_type": "execute_result"
    },
    {
     "data": {
      "text/plain": [
       "<mpl_toolkits.mplot3d.art3d.Path3DCollection at 0x1ad953c8d68>"
      ]
     },
     "execution_count": 36,
     "metadata": {
      "tags": []
     },
     "output_type": "execute_result"
    },
    {
     "data": {
      "text/plain": [
       "<mpl_toolkits.mplot3d.art3d.Path3DCollection at 0x1ad953cc048>"
      ]
     },
     "execution_count": 36,
     "metadata": {
      "tags": []
     },
     "output_type": "execute_result"
    },
    {
     "data": {
      "text/plain": [
       "<mpl_toolkits.mplot3d.art3d.Path3DCollection at 0x1ad953cc128>"
      ]
     },
     "execution_count": 36,
     "metadata": {
      "tags": []
     },
     "output_type": "execute_result"
    },
    {
     "data": {
      "text/plain": [
       "<mpl_toolkits.mplot3d.art3d.Path3DCollection at 0x1ad953cc6d8>"
      ]
     },
     "execution_count": 36,
     "metadata": {
      "tags": []
     },
     "output_type": "execute_result"
    },
    {
     "data": {
      "text/plain": [
       "<mpl_toolkits.mplot3d.art3d.Path3DCollection at 0x1ad953cc9e8>"
      ]
     },
     "execution_count": 36,
     "metadata": {
      "tags": []
     },
     "output_type": "execute_result"
    },
    {
     "data": {
      "text/plain": [
       "<mpl_toolkits.mplot3d.art3d.Path3DCollection at 0x1ad953cca58>"
      ]
     },
     "execution_count": 36,
     "metadata": {
      "tags": []
     },
     "output_type": "execute_result"
    },
    {
     "data": {
      "text/plain": [
       "<mpl_toolkits.mplot3d.art3d.Path3DCollection at 0x1ad953ccfd0>"
      ]
     },
     "execution_count": 36,
     "metadata": {
      "tags": []
     },
     "output_type": "execute_result"
    },
    {
     "data": {
      "text/plain": [
       "<mpl_toolkits.mplot3d.art3d.Path3DCollection at 0x1ad953c80b8>"
      ]
     },
     "execution_count": 36,
     "metadata": {
      "tags": []
     },
     "output_type": "execute_result"
    },
    {
     "data": {
      "text/plain": [
       "<mpl_toolkits.mplot3d.art3d.Path3DCollection at 0x1ad953d7198>"
      ]
     },
     "execution_count": 36,
     "metadata": {
      "tags": []
     },
     "output_type": "execute_result"
    },
    {
     "data": {
      "text/plain": [
       "<mpl_toolkits.mplot3d.art3d.Path3DCollection at 0x1ad953d74e0>"
      ]
     },
     "execution_count": 36,
     "metadata": {
      "tags": []
     },
     "output_type": "execute_result"
    },
    {
     "data": {
      "text/plain": [
       "<mpl_toolkits.mplot3d.art3d.Path3DCollection at 0x1ad953d7828>"
      ]
     },
     "execution_count": 36,
     "metadata": {
      "tags": []
     },
     "output_type": "execute_result"
    },
    {
     "data": {
      "text/plain": [
       "<mpl_toolkits.mplot3d.art3d.Path3DCollection at 0x1ad953d7b38>"
      ]
     },
     "execution_count": 36,
     "metadata": {
      "tags": []
     },
     "output_type": "execute_result"
    },
    {
     "data": {
      "text/plain": [
       "<mpl_toolkits.mplot3d.art3d.Path3DCollection at 0x1ad953d7588>"
      ]
     },
     "execution_count": 36,
     "metadata": {
      "tags": []
     },
     "output_type": "execute_result"
    },
    {
     "data": {
      "text/plain": [
       "<mpl_toolkits.mplot3d.art3d.Path3DCollection at 0x1ad953d7e10>"
      ]
     },
     "execution_count": 36,
     "metadata": {
      "tags": []
     },
     "output_type": "execute_result"
    },
    {
     "data": {
      "text/plain": [
       "<mpl_toolkits.mplot3d.art3d.Path3DCollection at 0x1ad9538ac88>"
      ]
     },
     "execution_count": 36,
     "metadata": {
      "tags": []
     },
     "output_type": "execute_result"
    },
    {
     "data": {
      "text/plain": [
       "<mpl_toolkits.mplot3d.art3d.Path3DCollection at 0x1ad953c83c8>"
      ]
     },
     "execution_count": 36,
     "metadata": {
      "tags": []
     },
     "output_type": "execute_result"
    },
    {
     "data": {
      "text/plain": [
       "<mpl_toolkits.mplot3d.art3d.Path3DCollection at 0x1ad953e46d8>"
      ]
     },
     "execution_count": 36,
     "metadata": {
      "tags": []
     },
     "output_type": "execute_result"
    },
    {
     "data": {
      "text/plain": [
       "<mpl_toolkits.mplot3d.art3d.Path3DCollection at 0x1ad953e49e8>"
      ]
     },
     "execution_count": 36,
     "metadata": {
      "tags": []
     },
     "output_type": "execute_result"
    },
    {
     "data": {
      "text/plain": [
       "<mpl_toolkits.mplot3d.art3d.Path3DCollection at 0x1ad953e4cf8>"
      ]
     },
     "execution_count": 36,
     "metadata": {
      "tags": []
     },
     "output_type": "execute_result"
    },
    {
     "data": {
      "text/plain": [
       "<mpl_toolkits.mplot3d.art3d.Path3DCollection at 0x1ad953e4f98>"
      ]
     },
     "execution_count": 36,
     "metadata": {
      "tags": []
     },
     "output_type": "execute_result"
    },
    {
     "data": {
      "text/plain": [
       "<mpl_toolkits.mplot3d.art3d.Path3DCollection at 0x1ad953f62e8>"
      ]
     },
     "execution_count": 36,
     "metadata": {
      "tags": []
     },
     "output_type": "execute_result"
    },
    {
     "data": {
      "text/plain": [
       "<mpl_toolkits.mplot3d.art3d.Path3DCollection at 0x1ad953f65c0>"
      ]
     },
     "execution_count": 36,
     "metadata": {
      "tags": []
     },
     "output_type": "execute_result"
    },
    {
     "data": {
      "text/plain": [
       "<mpl_toolkits.mplot3d.art3d.Path3DCollection at 0x1ad953f6978>"
      ]
     },
     "execution_count": 36,
     "metadata": {
      "tags": []
     },
     "output_type": "execute_result"
    },
    {
     "data": {
      "text/plain": [
       "<mpl_toolkits.mplot3d.art3d.Path3DCollection at 0x1ad953f6c18>"
      ]
     },
     "execution_count": 36,
     "metadata": {
      "tags": []
     },
     "output_type": "execute_result"
    },
    {
     "data": {
      "text/plain": [
       "<mpl_toolkits.mplot3d.art3d.Path3DCollection at 0x1ad953f6f28>"
      ]
     },
     "execution_count": 36,
     "metadata": {
      "tags": []
     },
     "output_type": "execute_result"
    },
    {
     "data": {
      "text/plain": [
       "<mpl_toolkits.mplot3d.art3d.Path3DCollection at 0x1ad953f6f98>"
      ]
     },
     "execution_count": 36,
     "metadata": {
      "tags": []
     },
     "output_type": "execute_result"
    },
    {
     "data": {
      "text/plain": [
       "<mpl_toolkits.mplot3d.art3d.Path3DCollection at 0x1ad953fe198>"
      ]
     },
     "execution_count": 36,
     "metadata": {
      "tags": []
     },
     "output_type": "execute_result"
    },
    {
     "data": {
      "text/plain": [
       "<mpl_toolkits.mplot3d.art3d.Path3DCollection at 0x1ad953fe438>"
      ]
     },
     "execution_count": 36,
     "metadata": {
      "tags": []
     },
     "output_type": "execute_result"
    },
    {
     "data": {
      "text/plain": [
       "<mpl_toolkits.mplot3d.art3d.Path3DCollection at 0x1ad953fe748>"
      ]
     },
     "execution_count": 36,
     "metadata": {
      "tags": []
     },
     "output_type": "execute_result"
    },
    {
     "data": {
      "text/plain": [
       "<mpl_toolkits.mplot3d.art3d.Path3DCollection at 0x1ad953fe7b8>"
      ]
     },
     "execution_count": 36,
     "metadata": {
      "tags": []
     },
     "output_type": "execute_result"
    },
    {
     "data": {
      "text/plain": [
       "<mpl_toolkits.mplot3d.art3d.Path3DCollection at 0x1ad953fed30>"
      ]
     },
     "execution_count": 36,
     "metadata": {
      "tags": []
     },
     "output_type": "execute_result"
    },
    {
     "data": {
      "text/plain": [
       "<mpl_toolkits.mplot3d.art3d.Path3DCollection at 0x1ad95416128>"
      ]
     },
     "execution_count": 36,
     "metadata": {
      "tags": []
     },
     "output_type": "execute_result"
    },
    {
     "data": {
      "text/plain": [
       "<mpl_toolkits.mplot3d.art3d.Path3DCollection at 0x1ad95416438>"
      ]
     },
     "execution_count": 36,
     "metadata": {
      "tags": []
     },
     "output_type": "execute_result"
    },
    {
     "data": {
      "text/plain": [
       "<mpl_toolkits.mplot3d.art3d.Path3DCollection at 0x1ad954166a0>"
      ]
     },
     "execution_count": 36,
     "metadata": {
      "tags": []
     },
     "output_type": "execute_result"
    },
    {
     "data": {
      "text/plain": [
       "<mpl_toolkits.mplot3d.art3d.Path3DCollection at 0x1ad954169e8>"
      ]
     },
     "execution_count": 36,
     "metadata": {
      "tags": []
     },
     "output_type": "execute_result"
    },
    {
     "data": {
      "text/plain": [
       "<mpl_toolkits.mplot3d.art3d.Path3DCollection at 0x1ad95416c88>"
      ]
     },
     "execution_count": 36,
     "metadata": {
      "tags": []
     },
     "output_type": "execute_result"
    },
    {
     "data": {
      "text/plain": [
       "<mpl_toolkits.mplot3d.art3d.Path3DCollection at 0x1ad95416fd0>"
      ]
     },
     "execution_count": 36,
     "metadata": {
      "tags": []
     },
     "output_type": "execute_result"
    },
    {
     "data": {
      "text/plain": [
       "<mpl_toolkits.mplot3d.art3d.Path3DCollection at 0x1ad953fe0b8>"
      ]
     },
     "execution_count": 36,
     "metadata": {
      "tags": []
     },
     "output_type": "execute_result"
    },
    {
     "data": {
      "text/plain": [
       "<mpl_toolkits.mplot3d.art3d.Path3DCollection at 0x1ad95416668>"
      ]
     },
     "execution_count": 36,
     "metadata": {
      "tags": []
     },
     "output_type": "execute_result"
    },
    {
     "data": {
      "text/plain": [
       "<mpl_toolkits.mplot3d.art3d.Path3DCollection at 0x1ad95423518>"
      ]
     },
     "execution_count": 36,
     "metadata": {
      "tags": []
     },
     "output_type": "execute_result"
    },
    {
     "data": {
      "text/plain": [
       "<mpl_toolkits.mplot3d.art3d.Path3DCollection at 0x1ad95423828>"
      ]
     },
     "execution_count": 36,
     "metadata": {
      "tags": []
     },
     "output_type": "execute_result"
    },
    {
     "data": {
      "text/plain": [
       "<mpl_toolkits.mplot3d.art3d.Path3DCollection at 0x1ad95423b00>"
      ]
     },
     "execution_count": 36,
     "metadata": {
      "tags": []
     },
     "output_type": "execute_result"
    },
    {
     "data": {
      "text/plain": [
       "<mpl_toolkits.mplot3d.art3d.Path3DCollection at 0x1ad95423e48>"
      ]
     },
     "execution_count": 36,
     "metadata": {
      "tags": []
     },
     "output_type": "execute_result"
    },
    {
     "data": {
      "text/plain": [
       "<mpl_toolkits.mplot3d.art3d.Path3DCollection at 0x1ad954239e8>"
      ]
     },
     "execution_count": 36,
     "metadata": {
      "tags": []
     },
     "output_type": "execute_result"
    },
    {
     "data": {
      "text/plain": [
       "<mpl_toolkits.mplot3d.art3d.Path3DCollection at 0x1ad95423ac8>"
      ]
     },
     "execution_count": 36,
     "metadata": {
      "tags": []
     },
     "output_type": "execute_result"
    },
    {
     "data": {
      "text/plain": [
       "<mpl_toolkits.mplot3d.art3d.Path3DCollection at 0x1ad954237b8>"
      ]
     },
     "execution_count": 36,
     "metadata": {
      "tags": []
     },
     "output_type": "execute_result"
    },
    {
     "data": {
      "text/plain": [
       "<mpl_toolkits.mplot3d.art3d.Path3DCollection at 0x1ad954296a0>"
      ]
     },
     "execution_count": 36,
     "metadata": {
      "tags": []
     },
     "output_type": "execute_result"
    },
    {
     "data": {
      "text/plain": [
       "<mpl_toolkits.mplot3d.art3d.Path3DCollection at 0x1ad954299b0>"
      ]
     },
     "execution_count": 36,
     "metadata": {
      "tags": []
     },
     "output_type": "execute_result"
    },
    {
     "data": {
      "text/plain": [
       "<mpl_toolkits.mplot3d.art3d.Path3DCollection at 0x1ad95429cf8>"
      ]
     },
     "execution_count": 36,
     "metadata": {
      "tags": []
     },
     "output_type": "execute_result"
    },
    {
     "data": {
      "text/plain": [
       "<mpl_toolkits.mplot3d.art3d.Path3DCollection at 0x1ad95429f98>"
      ]
     },
     "execution_count": 36,
     "metadata": {
      "tags": []
     },
     "output_type": "execute_result"
    },
    {
     "data": {
      "text/plain": [
       "<mpl_toolkits.mplot3d.art3d.Path3DCollection at 0x1ad95429a58>"
      ]
     },
     "execution_count": 36,
     "metadata": {
      "tags": []
     },
     "output_type": "execute_result"
    },
    {
     "data": {
      "text/plain": [
       "<mpl_toolkits.mplot3d.art3d.Path3DCollection at 0x1ad95437358>"
      ]
     },
     "execution_count": 36,
     "metadata": {
      "tags": []
     },
     "output_type": "execute_result"
    },
    {
     "data": {
      "text/plain": [
       "<mpl_toolkits.mplot3d.art3d.Path3DCollection at 0x1ad95437908>"
      ]
     },
     "execution_count": 36,
     "metadata": {
      "tags": []
     },
     "output_type": "execute_result"
    },
    {
     "data": {
      "text/plain": [
       "<mpl_toolkits.mplot3d.art3d.Path3DCollection at 0x1ad95437be0>"
      ]
     },
     "execution_count": 36,
     "metadata": {
      "tags": []
     },
     "output_type": "execute_result"
    },
    {
     "data": {
      "text/plain": [
       "<mpl_toolkits.mplot3d.art3d.Path3DCollection at 0x1ad95437eb8>"
      ]
     },
     "execution_count": 36,
     "metadata": {
      "tags": []
     },
     "output_type": "execute_result"
    },
    {
     "data": {
      "text/plain": [
       "<mpl_toolkits.mplot3d.art3d.Path3DCollection at 0x1ad95429cc0>"
      ]
     },
     "execution_count": 36,
     "metadata": {
      "tags": []
     },
     "output_type": "execute_result"
    },
    {
     "data": {
      "text/plain": [
       "<mpl_toolkits.mplot3d.art3d.Path3DCollection at 0x1ad9544d0f0>"
      ]
     },
     "execution_count": 36,
     "metadata": {
      "tags": []
     },
     "output_type": "execute_result"
    },
    {
     "data": {
      "text/plain": [
       "<mpl_toolkits.mplot3d.art3d.Path3DCollection at 0x1ad9544d400>"
      ]
     },
     "execution_count": 36,
     "metadata": {
      "tags": []
     },
     "output_type": "execute_result"
    },
    {
     "data": {
      "text/plain": [
       "<mpl_toolkits.mplot3d.art3d.Path3DCollection at 0x1ad9544d710>"
      ]
     },
     "execution_count": 36,
     "metadata": {
      "tags": []
     },
     "output_type": "execute_result"
    },
    {
     "data": {
      "text/plain": [
       "<mpl_toolkits.mplot3d.art3d.Path3DCollection at 0x1ad9544da20>"
      ]
     },
     "execution_count": 36,
     "metadata": {
      "tags": []
     },
     "output_type": "execute_result"
    },
    {
     "data": {
      "text/plain": [
       "<mpl_toolkits.mplot3d.art3d.Path3DCollection at 0x1ad9544dd30>"
      ]
     },
     "execution_count": 36,
     "metadata": {
      "tags": []
     },
     "output_type": "execute_result"
    },
    {
     "data": {
      "text/plain": [
       "<mpl_toolkits.mplot3d.art3d.Path3DCollection at 0x1ad95451048>"
      ]
     },
     "execution_count": 36,
     "metadata": {
      "tags": []
     },
     "output_type": "execute_result"
    },
    {
     "data": {
      "text/plain": [
       "<mpl_toolkits.mplot3d.art3d.Path3DCollection at 0x1ad954513c8>"
      ]
     },
     "execution_count": 36,
     "metadata": {
      "tags": []
     },
     "output_type": "execute_result"
    },
    {
     "data": {
      "text/plain": [
       "<mpl_toolkits.mplot3d.art3d.Path3DCollection at 0x1ad95451588>"
      ]
     },
     "execution_count": 36,
     "metadata": {
      "tags": []
     },
     "output_type": "execute_result"
    },
    {
     "data": {
      "text/plain": [
       "<mpl_toolkits.mplot3d.art3d.Path3DCollection at 0x1ad954519e8>"
      ]
     },
     "execution_count": 36,
     "metadata": {
      "tags": []
     },
     "output_type": "execute_result"
    },
    {
     "data": {
      "text/plain": [
       "<mpl_toolkits.mplot3d.art3d.Path3DCollection at 0x1ad95451cf8>"
      ]
     },
     "execution_count": 36,
     "metadata": {
      "tags": []
     },
     "output_type": "execute_result"
    },
    {
     "data": {
      "text/plain": [
       "<mpl_toolkits.mplot3d.art3d.Path3DCollection at 0x1ad95451668>"
      ]
     },
     "execution_count": 36,
     "metadata": {
      "tags": []
     },
     "output_type": "execute_result"
    },
    {
     "data": {
      "text/plain": [
       "<mpl_toolkits.mplot3d.art3d.Path3DCollection at 0x1ad9544d3c8>"
      ]
     },
     "execution_count": 36,
     "metadata": {
      "tags": []
     },
     "output_type": "execute_result"
    },
    {
     "data": {
      "text/plain": [
       "<mpl_toolkits.mplot3d.art3d.Path3DCollection at 0x1ad9545c208>"
      ]
     },
     "execution_count": 36,
     "metadata": {
      "tags": []
     },
     "output_type": "execute_result"
    },
    {
     "data": {
      "text/plain": [
       "<mpl_toolkits.mplot3d.art3d.Path3DCollection at 0x1ad9545c4e0>"
      ]
     },
     "execution_count": 36,
     "metadata": {
      "tags": []
     },
     "output_type": "execute_result"
    },
    {
     "data": {
      "text/plain": [
       "<mpl_toolkits.mplot3d.art3d.Path3DCollection at 0x1ad9545c7f0>"
      ]
     },
     "execution_count": 36,
     "metadata": {
      "tags": []
     },
     "output_type": "execute_result"
    },
    {
     "data": {
      "text/plain": [
       "<mpl_toolkits.mplot3d.art3d.Path3DCollection at 0x1ad9545cb00>"
      ]
     },
     "execution_count": 36,
     "metadata": {
      "tags": []
     },
     "output_type": "execute_result"
    },
    {
     "data": {
      "text/plain": [
       "<mpl_toolkits.mplot3d.art3d.Path3DCollection at 0x1ad9544dac8>"
      ]
     },
     "execution_count": 36,
     "metadata": {
      "tags": []
     },
     "output_type": "execute_result"
    },
    {
     "data": {
      "text/plain": [
       "<mpl_toolkits.mplot3d.art3d.Path3DCollection at 0x1ad9546b160>"
      ]
     },
     "execution_count": 36,
     "metadata": {
      "tags": []
     },
     "output_type": "execute_result"
    },
    {
     "data": {
      "text/plain": [
       "<mpl_toolkits.mplot3d.art3d.Path3DCollection at 0x1ad9545cac8>"
      ]
     },
     "execution_count": 36,
     "metadata": {
      "tags": []
     },
     "output_type": "execute_result"
    },
    {
     "data": {
      "text/plain": [
       "<mpl_toolkits.mplot3d.art3d.Path3DCollection at 0x1ad95451cc0>"
      ]
     },
     "execution_count": 36,
     "metadata": {
      "tags": []
     },
     "output_type": "execute_result"
    },
    {
     "data": {
      "text/plain": [
       "<mpl_toolkits.mplot3d.art3d.Path3DCollection at 0x1ad95451978>"
      ]
     },
     "execution_count": 36,
     "metadata": {
      "tags": []
     },
     "output_type": "execute_result"
    },
    {
     "data": {
      "text/plain": [
       "<mpl_toolkits.mplot3d.art3d.Path3DCollection at 0x1ad9546b9e8>"
      ]
     },
     "execution_count": 36,
     "metadata": {
      "tags": []
     },
     "output_type": "execute_result"
    },
    {
     "data": {
      "text/plain": [
       "<mpl_toolkits.mplot3d.art3d.Path3DCollection at 0x1ad9546bcf8>"
      ]
     },
     "execution_count": 36,
     "metadata": {
      "tags": []
     },
     "output_type": "execute_result"
    },
    {
     "data": {
      "text/plain": [
       "<mpl_toolkits.mplot3d.art3d.Path3DCollection at 0x1ad9546bf98>"
      ]
     },
     "execution_count": 36,
     "metadata": {
      "tags": []
     },
     "output_type": "execute_result"
    },
    {
     "data": {
      "text/plain": [
       "<mpl_toolkits.mplot3d.art3d.Path3DCollection at 0x1ad9547a2e8>"
      ]
     },
     "execution_count": 36,
     "metadata": {
      "tags": []
     },
     "output_type": "execute_result"
    },
    {
     "data": {
      "text/plain": [
       "<mpl_toolkits.mplot3d.art3d.Path3DCollection at 0x1ad9547a5c0>"
      ]
     },
     "execution_count": 36,
     "metadata": {
      "tags": []
     },
     "output_type": "execute_result"
    },
    {
     "data": {
      "text/plain": [
       "<mpl_toolkits.mplot3d.art3d.Path3DCollection at 0x1ad9547a908>"
      ]
     },
     "execution_count": 36,
     "metadata": {
      "tags": []
     },
     "output_type": "execute_result"
    },
    {
     "data": {
      "text/plain": [
       "<mpl_toolkits.mplot3d.art3d.Path3DCollection at 0x1ad9547a978>"
      ]
     },
     "execution_count": 36,
     "metadata": {
      "tags": []
     },
     "output_type": "execute_result"
    },
    {
     "data": {
      "text/plain": [
       "<mpl_toolkits.mplot3d.art3d.Path3DCollection at 0x1ad9547aef0>"
      ]
     },
     "execution_count": 36,
     "metadata": {
      "tags": []
     },
     "output_type": "execute_result"
    },
    {
     "data": {
      "text/plain": [
       "<mpl_toolkits.mplot3d.art3d.Path3DCollection at 0x1ad9547abe0>"
      ]
     },
     "execution_count": 36,
     "metadata": {
      "tags": []
     },
     "output_type": "execute_result"
    },
    {
     "data": {
      "text/plain": [
       "<mpl_toolkits.mplot3d.art3d.Path3DCollection at 0x1ad95483128>"
      ]
     },
     "execution_count": 36,
     "metadata": {
      "tags": []
     },
     "output_type": "execute_result"
    },
    {
     "data": {
      "text/plain": [
       "<mpl_toolkits.mplot3d.art3d.Path3DCollection at 0x1ad95483438>"
      ]
     },
     "execution_count": 36,
     "metadata": {
      "tags": []
     },
     "output_type": "execute_result"
    },
    {
     "data": {
      "text/plain": [
       "<mpl_toolkits.mplot3d.art3d.Path3DCollection at 0x1ad954836d8>"
      ]
     },
     "execution_count": 36,
     "metadata": {
      "tags": []
     },
     "output_type": "execute_result"
    },
    {
     "data": {
      "text/plain": [
       "<mpl_toolkits.mplot3d.art3d.Path3DCollection at 0x1ad95483a20>"
      ]
     },
     "execution_count": 36,
     "metadata": {
      "tags": []
     },
     "output_type": "execute_result"
    },
    {
     "data": {
      "text/plain": [
       "<mpl_toolkits.mplot3d.art3d.Path3DCollection at 0x1ad95483d68>"
      ]
     },
     "execution_count": 36,
     "metadata": {
      "tags": []
     },
     "output_type": "execute_result"
    },
    {
     "data": {
      "text/plain": [
       "<mpl_toolkits.mplot3d.art3d.Path3DCollection at 0x1ad95483748>"
      ]
     },
     "execution_count": 36,
     "metadata": {
      "tags": []
     },
     "output_type": "execute_result"
    },
    {
     "data": {
      "text/plain": [
       "<mpl_toolkits.mplot3d.art3d.Path3DCollection at 0x1ad95494128>"
      ]
     },
     "execution_count": 36,
     "metadata": {
      "tags": []
     },
     "output_type": "execute_result"
    },
    {
     "data": {
      "text/plain": [
       "<mpl_toolkits.mplot3d.art3d.Path3DCollection at 0x1ad95494588>"
      ]
     },
     "execution_count": 36,
     "metadata": {
      "tags": []
     },
     "output_type": "execute_result"
    },
    {
     "data": {
      "text/plain": [
       "<mpl_toolkits.mplot3d.art3d.Path3DCollection at 0x1ad954949e8>"
      ]
     },
     "execution_count": 36,
     "metadata": {
      "tags": []
     },
     "output_type": "execute_result"
    },
    {
     "data": {
      "text/plain": [
       "<mpl_toolkits.mplot3d.art3d.Path3DCollection at 0x1ad95494cf8>"
      ]
     },
     "execution_count": 36,
     "metadata": {
      "tags": []
     },
     "output_type": "execute_result"
    },
    {
     "data": {
      "text/plain": [
       "<mpl_toolkits.mplot3d.art3d.Path3DCollection at 0x1ad95494668>"
      ]
     },
     "execution_count": 36,
     "metadata": {
      "tags": []
     },
     "output_type": "execute_result"
    },
    {
     "data": {
      "text/plain": [
       "<mpl_toolkits.mplot3d.art3d.Path3DCollection at 0x1ad95494438>"
      ]
     },
     "execution_count": 36,
     "metadata": {
      "tags": []
     },
     "output_type": "execute_result"
    },
    {
     "data": {
      "text/plain": [
       "<mpl_toolkits.mplot3d.art3d.Path3DCollection at 0x1ad95494eb8>"
      ]
     },
     "execution_count": 36,
     "metadata": {
      "tags": []
     },
     "output_type": "execute_result"
    },
    {
     "data": {
      "text/plain": [
       "<mpl_toolkits.mplot3d.art3d.Path3DCollection at 0x1ad954a9518>"
      ]
     },
     "execution_count": 36,
     "metadata": {
      "tags": []
     },
     "output_type": "execute_result"
    },
    {
     "data": {
      "text/plain": [
       "<mpl_toolkits.mplot3d.art3d.Path3DCollection at 0x1ad954a9828>"
      ]
     },
     "execution_count": 36,
     "metadata": {
      "tags": []
     },
     "output_type": "execute_result"
    },
    {
     "data": {
      "text/plain": [
       "<mpl_toolkits.mplot3d.art3d.Path3DCollection at 0x1ad954a9b00>"
      ]
     },
     "execution_count": 36,
     "metadata": {
      "tags": []
     },
     "output_type": "execute_result"
    },
    {
     "data": {
      "text/plain": [
       "<mpl_toolkits.mplot3d.art3d.Path3DCollection at 0x1ad954a9ba8>"
      ]
     },
     "execution_count": 36,
     "metadata": {
      "tags": []
     },
     "output_type": "execute_result"
    },
    {
     "data": {
      "text/plain": [
       "<mpl_toolkits.mplot3d.art3d.Path3DCollection at 0x1ad954b5198>"
      ]
     },
     "execution_count": 36,
     "metadata": {
      "tags": []
     },
     "output_type": "execute_result"
    },
    {
     "data": {
      "text/plain": [
       "<mpl_toolkits.mplot3d.art3d.Path3DCollection at 0x1ad954a9ac8>"
      ]
     },
     "execution_count": 36,
     "metadata": {
      "tags": []
     },
     "output_type": "execute_result"
    },
    {
     "data": {
      "text/plain": [
       "<mpl_toolkits.mplot3d.art3d.Path3DCollection at 0x1ad95494cc0>"
      ]
     },
     "execution_count": 36,
     "metadata": {
      "tags": []
     },
     "output_type": "execute_result"
    },
    {
     "data": {
      "text/plain": [
       "<mpl_toolkits.mplot3d.art3d.Path3DCollection at 0x1ad954b5668>"
      ]
     },
     "execution_count": 36,
     "metadata": {
      "tags": []
     },
     "output_type": "execute_result"
    },
    {
     "data": {
      "text/plain": [
       "<mpl_toolkits.mplot3d.art3d.Path3DCollection at 0x1ad954b59b0>"
      ]
     },
     "execution_count": 36,
     "metadata": {
      "tags": []
     },
     "output_type": "execute_result"
    },
    {
     "data": {
      "text/plain": [
       "<mpl_toolkits.mplot3d.art3d.Path3DCollection at 0x1ad954b5cc0>"
      ]
     },
     "execution_count": 36,
     "metadata": {
      "tags": []
     },
     "output_type": "execute_result"
    },
    {
     "data": {
      "text/plain": [
       "<mpl_toolkits.mplot3d.art3d.Path3DCollection at 0x1ad954b5f98>"
      ]
     },
     "execution_count": 36,
     "metadata": {
      "tags": []
     },
     "output_type": "execute_result"
    },
    {
     "data": {
      "text/plain": [
       "<mpl_toolkits.mplot3d.art3d.Path3DCollection at 0x1ad954c32b0>"
      ]
     },
     "execution_count": 36,
     "metadata": {
      "tags": []
     },
     "output_type": "execute_result"
    },
    {
     "data": {
      "text/plain": [
       "<mpl_toolkits.mplot3d.art3d.Path3DCollection at 0x1ad954c35c0>"
      ]
     },
     "execution_count": 36,
     "metadata": {
      "tags": []
     },
     "output_type": "execute_result"
    },
    {
     "data": {
      "text/plain": [
       "<mpl_toolkits.mplot3d.art3d.Path3DCollection at 0x1ad954c35f8>"
      ]
     },
     "execution_count": 36,
     "metadata": {
      "tags": []
     },
     "output_type": "execute_result"
    },
    {
     "data": {
      "text/plain": [
       "<mpl_toolkits.mplot3d.art3d.Path3DCollection at 0x1ad954c3be0>"
      ]
     },
     "execution_count": 36,
     "metadata": {
      "tags": []
     },
     "output_type": "execute_result"
    },
    {
     "data": {
      "text/plain": [
       "<mpl_toolkits.mplot3d.art3d.Path3DCollection at 0x1ad954c3ef0>"
      ]
     },
     "execution_count": 36,
     "metadata": {
      "tags": []
     },
     "output_type": "execute_result"
    },
    {
     "data": {
      "text/plain": [
       "<mpl_toolkits.mplot3d.art3d.Path3DCollection at 0x1ad954b5f28>"
      ]
     },
     "execution_count": 36,
     "metadata": {
      "tags": []
     },
     "output_type": "execute_result"
    },
    {
     "data": {
      "text/plain": [
       "<mpl_toolkits.mplot3d.art3d.Path3DCollection at 0x1ad954cf128>"
      ]
     },
     "execution_count": 36,
     "metadata": {
      "tags": []
     },
     "output_type": "execute_result"
    },
    {
     "data": {
      "text/plain": [
       "<mpl_toolkits.mplot3d.art3d.Path3DCollection at 0x1ad954c3940>"
      ]
     },
     "execution_count": 36,
     "metadata": {
      "tags": []
     },
     "output_type": "execute_result"
    },
    {
     "data": {
      "text/plain": [
       "<mpl_toolkits.mplot3d.art3d.Path3DCollection at 0x1ad954cf748>"
      ]
     },
     "execution_count": 36,
     "metadata": {
      "tags": []
     },
     "output_type": "execute_result"
    },
    {
     "data": {
      "text/plain": [
       "<mpl_toolkits.mplot3d.art3d.Path3DCollection at 0x1ad954cfa20>"
      ]
     },
     "execution_count": 36,
     "metadata": {
      "tags": []
     },
     "output_type": "execute_result"
    },
    {
     "data": {
      "text/plain": [
       "<mpl_toolkits.mplot3d.art3d.Path3DCollection at 0x1ad954cfd30>"
      ]
     },
     "execution_count": 36,
     "metadata": {
      "tags": []
     },
     "output_type": "execute_result"
    },
    {
     "data": {
      "text/plain": [
       "<mpl_toolkits.mplot3d.art3d.Path3DCollection at 0x1ad954d6048>"
      ]
     },
     "execution_count": 36,
     "metadata": {
      "tags": []
     },
     "output_type": "execute_result"
    },
    {
     "data": {
      "text/plain": [
       "<mpl_toolkits.mplot3d.art3d.Path3DCollection at 0x1ad954d63c8>"
      ]
     },
     "execution_count": 36,
     "metadata": {
      "tags": []
     },
     "output_type": "execute_result"
    },
    {
     "data": {
      "text/plain": [
       "<mpl_toolkits.mplot3d.art3d.Path3DCollection at 0x1ad954d66a0>"
      ]
     },
     "execution_count": 36,
     "metadata": {
      "tags": []
     },
     "output_type": "execute_result"
    },
    {
     "data": {
      "text/plain": [
       "<mpl_toolkits.mplot3d.art3d.Path3DCollection at 0x1ad954d69e8>"
      ]
     },
     "execution_count": 36,
     "metadata": {
      "tags": []
     },
     "output_type": "execute_result"
    },
    {
     "data": {
      "text/plain": [
       "<mpl_toolkits.mplot3d.art3d.Path3DCollection at 0x1ad954d6cc0>"
      ]
     },
     "execution_count": 36,
     "metadata": {
      "tags": []
     },
     "output_type": "execute_result"
    },
    {
     "data": {
      "text/plain": [
       "<mpl_toolkits.mplot3d.art3d.Path3DCollection at 0x1ad954d6fd0>"
      ]
     },
     "execution_count": 36,
     "metadata": {
      "tags": []
     },
     "output_type": "execute_result"
    },
    {
     "data": {
      "text/plain": [
       "<mpl_toolkits.mplot3d.art3d.Path3DCollection at 0x1ad954cf0b8>"
      ]
     },
     "execution_count": 36,
     "metadata": {
      "tags": []
     },
     "output_type": "execute_result"
    },
    {
     "data": {
      "text/plain": [
       "<mpl_toolkits.mplot3d.art3d.Path3DCollection at 0x1ad954ea208>"
      ]
     },
     "execution_count": 36,
     "metadata": {
      "tags": []
     },
     "output_type": "execute_result"
    },
    {
     "data": {
      "text/plain": [
       "<mpl_toolkits.mplot3d.art3d.Path3DCollection at 0x1ad954ea518>"
      ]
     },
     "execution_count": 36,
     "metadata": {
      "tags": []
     },
     "output_type": "execute_result"
    },
    {
     "data": {
      "text/plain": [
       "<mpl_toolkits.mplot3d.art3d.Path3DCollection at 0x1ad954ea828>"
      ]
     },
     "execution_count": 36,
     "metadata": {
      "tags": []
     },
     "output_type": "execute_result"
    },
    {
     "data": {
      "text/plain": [
       "<mpl_toolkits.mplot3d.art3d.Path3DCollection at 0x1ad954eab38>"
      ]
     },
     "execution_count": 36,
     "metadata": {
      "tags": []
     },
     "output_type": "execute_result"
    },
    {
     "data": {
      "text/plain": [
       "<mpl_toolkits.mplot3d.art3d.Path3DCollection at 0x1ad954eae10>"
      ]
     },
     "execution_count": 36,
     "metadata": {
      "tags": []
     },
     "output_type": "execute_result"
    },
    {
     "data": {
      "text/plain": [
       "<mpl_toolkits.mplot3d.art3d.Path3DCollection at 0x1ad954ef160>"
      ]
     },
     "execution_count": 36,
     "metadata": {
      "tags": []
     },
     "output_type": "execute_result"
    },
    {
     "data": {
      "text/plain": [
       "<mpl_toolkits.mplot3d.art3d.Path3DCollection at 0x1ad954eab00>"
      ]
     },
     "execution_count": 36,
     "metadata": {
      "tags": []
     },
     "output_type": "execute_result"
    },
    {
     "data": {
      "text/plain": [
       "<mpl_toolkits.mplot3d.art3d.Path3DCollection at 0x1ad954d6c88>"
      ]
     },
     "execution_count": 36,
     "metadata": {
      "tags": []
     },
     "output_type": "execute_result"
    },
    {
     "data": {
      "text/plain": [
       "<mpl_toolkits.mplot3d.art3d.Path3DCollection at 0x1ad954ef780>"
      ]
     },
     "execution_count": 36,
     "metadata": {
      "tags": []
     },
     "output_type": "execute_result"
    },
    {
     "data": {
      "text/plain": [
       "<mpl_toolkits.mplot3d.art3d.Path3DCollection at 0x1ad954ef9b0>"
      ]
     },
     "execution_count": 36,
     "metadata": {
      "tags": []
     },
     "output_type": "execute_result"
    },
    {
     "data": {
      "text/plain": [
       "<mpl_toolkits.mplot3d.art3d.Path3DCollection at 0x1ad954ef048>"
      ]
     },
     "execution_count": 36,
     "metadata": {
      "tags": []
     },
     "output_type": "execute_result"
    },
    {
     "data": {
      "text/plain": [
       "<mpl_toolkits.mplot3d.art3d.Path3DCollection at 0x1ad954eff98>"
      ]
     },
     "execution_count": 36,
     "metadata": {
      "tags": []
     },
     "output_type": "execute_result"
    },
    {
     "data": {
      "text/plain": [
       "<mpl_toolkits.mplot3d.art3d.Path3DCollection at 0x1ad955032b0>"
      ]
     },
     "execution_count": 36,
     "metadata": {
      "tags": []
     },
     "output_type": "execute_result"
    },
    {
     "data": {
      "text/plain": [
       "<mpl_toolkits.mplot3d.art3d.Path3DCollection at 0x1ad955035c0>"
      ]
     },
     "execution_count": 36,
     "metadata": {
      "tags": []
     },
     "output_type": "execute_result"
    },
    {
     "data": {
      "text/plain": [
       "<mpl_toolkits.mplot3d.art3d.Path3DCollection at 0x1ad955038d0>"
      ]
     },
     "execution_count": 36,
     "metadata": {
      "tags": []
     },
     "output_type": "execute_result"
    },
    {
     "data": {
      "text/plain": [
       "<mpl_toolkits.mplot3d.art3d.Path3DCollection at 0x1ad95503c18>"
      ]
     },
     "execution_count": 36,
     "metadata": {
      "tags": []
     },
     "output_type": "execute_result"
    },
    {
     "data": {
      "text/plain": [
       "<mpl_toolkits.mplot3d.art3d.Path3DCollection at 0x1ad95503f28>"
      ]
     },
     "execution_count": 36,
     "metadata": {
      "tags": []
     },
     "output_type": "execute_result"
    },
    {
     "data": {
      "text/plain": [
       "<mpl_toolkits.mplot3d.art3d.Path3DCollection at 0x1ad955032e8>"
      ]
     },
     "execution_count": 36,
     "metadata": {
      "tags": []
     },
     "output_type": "execute_result"
    },
    {
     "data": {
      "text/plain": [
       "<mpl_toolkits.mplot3d.art3d.Path3DCollection at 0x1ad9550c128>"
      ]
     },
     "execution_count": 36,
     "metadata": {
      "tags": []
     },
     "output_type": "execute_result"
    },
    {
     "data": {
      "text/plain": [
       "<mpl_toolkits.mplot3d.art3d.Path3DCollection at 0x1ad9550c400>"
      ]
     },
     "execution_count": 36,
     "metadata": {
      "tags": []
     },
     "output_type": "execute_result"
    },
    {
     "data": {
      "text/plain": [
       "<mpl_toolkits.mplot3d.art3d.Path3DCollection at 0x1ad9550c7b8>"
      ]
     },
     "execution_count": 36,
     "metadata": {
      "tags": []
     },
     "output_type": "execute_result"
    },
    {
     "data": {
      "text/plain": [
       "<mpl_toolkits.mplot3d.art3d.Path3DCollection at 0x1ad9550c748>"
      ]
     },
     "execution_count": 36,
     "metadata": {
      "tags": []
     },
     "output_type": "execute_result"
    },
    {
     "data": {
      "text/plain": [
       "<mpl_toolkits.mplot3d.art3d.Path3DCollection at 0x1ad9550cd30>"
      ]
     },
     "execution_count": 36,
     "metadata": {
      "tags": []
     },
     "output_type": "execute_result"
    },
    {
     "data": {
      "text/plain": [
       "<mpl_toolkits.mplot3d.art3d.Path3DCollection at 0x1ad9f4c5080>"
      ]
     },
     "execution_count": 36,
     "metadata": {
      "tags": []
     },
     "output_type": "execute_result"
    },
    {
     "data": {
      "text/plain": [
       "<mpl_toolkits.mplot3d.art3d.Path3DCollection at 0x1ad9f4c5438>"
      ]
     },
     "execution_count": 36,
     "metadata": {
      "tags": []
     },
     "output_type": "execute_result"
    },
    {
     "data": {
      "text/plain": [
       "<mpl_toolkits.mplot3d.art3d.Path3DCollection at 0x1ad9f4c56a0>"
      ]
     },
     "execution_count": 36,
     "metadata": {
      "tags": []
     },
     "output_type": "execute_result"
    },
    {
     "data": {
      "text/plain": [
       "<mpl_toolkits.mplot3d.art3d.Path3DCollection at 0x1ad9f4c56d8>"
      ]
     },
     "execution_count": 36,
     "metadata": {
      "tags": []
     },
     "output_type": "execute_result"
    },
    {
     "data": {
      "text/plain": [
       "<mpl_toolkits.mplot3d.art3d.Path3DCollection at 0x1ad9f4c5d30>"
      ]
     },
     "execution_count": 36,
     "metadata": {
      "tags": []
     },
     "output_type": "execute_result"
    },
    {
     "data": {
      "text/plain": [
       "<mpl_toolkits.mplot3d.art3d.Path3DCollection at 0x1ad9f4c5668>"
      ]
     },
     "execution_count": 36,
     "metadata": {
      "tags": []
     },
     "output_type": "execute_result"
    },
    {
     "data": {
      "text/plain": [
       "<mpl_toolkits.mplot3d.art3d.Path3DCollection at 0x1ad9550c0b8>"
      ]
     },
     "execution_count": 36,
     "metadata": {
      "tags": []
     },
     "output_type": "execute_result"
    },
    {
     "data": {
      "text/plain": [
       "<mpl_toolkits.mplot3d.art3d.Path3DCollection at 0x1ad9f4db198>"
      ]
     },
     "execution_count": 36,
     "metadata": {
      "tags": []
     },
     "output_type": "execute_result"
    },
    {
     "data": {
      "text/plain": [
       "<mpl_toolkits.mplot3d.art3d.Path3DCollection at 0x1ad9f4db4e0>"
      ]
     },
     "execution_count": 36,
     "metadata": {
      "tags": []
     },
     "output_type": "execute_result"
    },
    {
     "data": {
      "text/plain": [
       "<mpl_toolkits.mplot3d.art3d.Path3DCollection at 0x1ad9f4db828>"
      ]
     },
     "execution_count": 36,
     "metadata": {
      "tags": []
     },
     "output_type": "execute_result"
    },
    {
     "data": {
      "text/plain": [
       "<mpl_toolkits.mplot3d.art3d.Path3DCollection at 0x1ad9f4dbb00>"
      ]
     },
     "execution_count": 36,
     "metadata": {
      "tags": []
     },
     "output_type": "execute_result"
    },
    {
     "data": {
      "text/plain": [
       "<mpl_toolkits.mplot3d.art3d.Path3DCollection at 0x1ad9f4dbe48>"
      ]
     },
     "execution_count": 36,
     "metadata": {
      "tags": []
     },
     "output_type": "execute_result"
    },
    {
     "data": {
      "text/plain": [
       "<mpl_toolkits.mplot3d.art3d.Path3DCollection at 0x1ad9f4dbb38>"
      ]
     },
     "execution_count": 36,
     "metadata": {
      "tags": []
     },
     "output_type": "execute_result"
    },
    {
     "data": {
      "text/plain": [
       "<mpl_toolkits.mplot3d.art3d.Path3DCollection at 0x1ad9f4db7b8>"
      ]
     },
     "execution_count": 36,
     "metadata": {
      "tags": []
     },
     "output_type": "execute_result"
    },
    {
     "data": {
      "text/plain": [
       "<mpl_toolkits.mplot3d.art3d.Path3DCollection at 0x1ad954efcf8>"
      ]
     },
     "execution_count": 36,
     "metadata": {
      "tags": []
     },
     "output_type": "execute_result"
    },
    {
     "data": {
      "text/plain": [
       "<mpl_toolkits.mplot3d.art3d.Path3DCollection at 0x1ad9f4de6d8>"
      ]
     },
     "execution_count": 36,
     "metadata": {
      "tags": []
     },
     "output_type": "execute_result"
    },
    {
     "data": {
      "text/plain": [
       "<mpl_toolkits.mplot3d.art3d.Path3DCollection at 0x1ad9f4de9e8>"
      ]
     },
     "execution_count": 36,
     "metadata": {
      "tags": []
     },
     "output_type": "execute_result"
    },
    {
     "data": {
      "text/plain": [
       "<mpl_toolkits.mplot3d.art3d.Path3DCollection at 0x1ad9f4decf8>"
      ]
     },
     "execution_count": 36,
     "metadata": {
      "tags": []
     },
     "output_type": "execute_result"
    },
    {
     "data": {
      "text/plain": [
       "<mpl_toolkits.mplot3d.art3d.Path3DCollection at 0x1ad9f4def98>"
      ]
     },
     "execution_count": 36,
     "metadata": {
      "tags": []
     },
     "output_type": "execute_result"
    },
    {
     "data": {
      "text/plain": [
       "<mpl_toolkits.mplot3d.art3d.Path3DCollection at 0x1ad9f4dee48>"
      ]
     },
     "execution_count": 36,
     "metadata": {
      "tags": []
     },
     "output_type": "execute_result"
    },
    {
     "data": {
      "text/plain": [
       "<mpl_toolkits.mplot3d.art3d.Path3DCollection at 0x1ad9f4f75f8>"
      ]
     },
     "execution_count": 36,
     "metadata": {
      "tags": []
     },
     "output_type": "execute_result"
    },
    {
     "data": {
      "text/plain": [
       "<mpl_toolkits.mplot3d.art3d.Path3DCollection at 0x1ad9f4f7908>"
      ]
     },
     "execution_count": 36,
     "metadata": {
      "tags": []
     },
     "output_type": "execute_result"
    },
    {
     "data": {
      "text/plain": [
       "<mpl_toolkits.mplot3d.art3d.Path3DCollection at 0x1ad9f4f7c18>"
      ]
     },
     "execution_count": 36,
     "metadata": {
      "tags": []
     },
     "output_type": "execute_result"
    },
    {
     "data": {
      "text/plain": [
       "<mpl_toolkits.mplot3d.art3d.Path3DCollection at 0x1ad9f4f7ef0>"
      ]
     },
     "execution_count": 36,
     "metadata": {
      "tags": []
     },
     "output_type": "execute_result"
    },
    {
     "data": {
      "text/plain": [
       "<mpl_toolkits.mplot3d.art3d.Path3DCollection at 0x1ad9f4de978>"
      ]
     },
     "execution_count": 36,
     "metadata": {
      "tags": []
     },
     "output_type": "execute_result"
    },
    {
     "data": {
      "text/plain": [
       "<mpl_toolkits.mplot3d.art3d.Path3DCollection at 0x1ad9f5000b8>"
      ]
     },
     "execution_count": 36,
     "metadata": {
      "tags": []
     },
     "output_type": "execute_result"
    },
    {
     "data": {
      "text/plain": [
       "<mpl_toolkits.mplot3d.art3d.Path3DCollection at 0x1ad9f500128>"
      ]
     },
     "execution_count": 36,
     "metadata": {
      "tags": []
     },
     "output_type": "execute_result"
    },
    {
     "data": {
      "text/plain": [
       "<mpl_toolkits.mplot3d.art3d.Path3DCollection at 0x1ad9f5007b8>"
      ]
     },
     "execution_count": 36,
     "metadata": {
      "tags": []
     },
     "output_type": "execute_result"
    },
    {
     "data": {
      "text/plain": [
       "<mpl_toolkits.mplot3d.art3d.Path3DCollection at 0x1ad9f500a20>"
      ]
     },
     "execution_count": 36,
     "metadata": {
      "tags": []
     },
     "output_type": "execute_result"
    },
    {
     "data": {
      "text/plain": [
       "<mpl_toolkits.mplot3d.art3d.Path3DCollection at 0x1ad9f500dd8>"
      ]
     },
     "execution_count": 36,
     "metadata": {
      "tags": []
     },
     "output_type": "execute_result"
    },
    {
     "data": {
      "text/plain": [
       "<mpl_toolkits.mplot3d.art3d.Path3DCollection at 0x1ad9f50f048>"
      ]
     },
     "execution_count": 36,
     "metadata": {
      "tags": []
     },
     "output_type": "execute_result"
    },
    {
     "data": {
      "text/plain": [
       "<mpl_toolkits.mplot3d.art3d.Path3DCollection at 0x1ad9f50f3c8>"
      ]
     },
     "execution_count": 36,
     "metadata": {
      "tags": []
     },
     "output_type": "execute_result"
    },
    {
     "data": {
      "text/plain": [
       "<mpl_toolkits.mplot3d.art3d.Path3DCollection at 0x1ad9f50f6d8>"
      ]
     },
     "execution_count": 36,
     "metadata": {
      "tags": []
     },
     "output_type": "execute_result"
    },
    {
     "data": {
      "text/plain": [
       "<mpl_toolkits.mplot3d.art3d.Path3DCollection at 0x1ad9f50fa20>"
      ]
     },
     "execution_count": 36,
     "metadata": {
      "tags": []
     },
     "output_type": "execute_result"
    },
    {
     "data": {
      "text/plain": [
       "Text(0.5, 0, 'Dim 1 of encoded doc')"
      ]
     },
     "execution_count": 36,
     "metadata": {
      "tags": []
     },
     "output_type": "execute_result"
    },
    {
     "data": {
      "text/plain": [
       "Text(0.5, 0, 'Dim 2 of encoded doc')"
      ]
     },
     "execution_count": 36,
     "metadata": {
      "tags": []
     },
     "output_type": "execute_result"
    },
    {
     "data": {
      "text/plain": [
       "Text(0.5, 0, 'Dim 10 of encoded doc')"
      ]
     },
     "execution_count": 36,
     "metadata": {
      "tags": []
     },
     "output_type": "execute_result"
    },
    {
     "data": {
      "image/png": "[encoded data removed]",
      "text/plain": [
       "<Figure size 1080x720 with 1 Axes>"
      ]
     },
     "metadata": {
      "needs_background": "light",
      "tags": []
     },
     "output_type": "display_data"
    }
   ],
   "source": [
    "# Visualizing 5-D mix data using bubble charts. \n",
    "# Although our encoded words have 50 dimensions, we are using only 4 dimesnions to visualize the clusters.\n",
    "# leveraging the concepts of hue, size and depth\n",
    "fig = plt.figure(figsize=(15, 10))\n",
    "ax = fig.add_subplot(111, projection='3d')\n",
    "t = fig.suptitle(' Only 4 Dimensions of Encoded words', fontsize=14)\n",
    "n=500\n",
    "\n",
    "for data, color, size in zip(data_points, colors, ss):\n",
    "    x, y, z = data\n",
    "    ax.scatter(x, y, z, alpha=0.4, c=color, edgecolors='none', s=size+50)\n",
    "    n = n - 1\n",
    "    if n<0:\n",
    "      break\n",
    "\n",
    "ax.set_xlabel('Dim {} of encoded doc'.format(dim1))\n",
    "ax.set_ylabel('Dim {} of encoded doc'.format(dim2))\n",
    "ax.set_zlabel('Dim {} of encoded doc'.format(dim3))\n",
    "ax.grid(True)"
   ]
  },
  {
   "cell_type": "markdown",
   "metadata": {
    "colab_type": "text",
    "id": "FstyertUn1sn"
   },
   "source": [
    "As you can see in the plot, the documents are clustered into 5 groups. Displaying only 5 dimesnions does not bring out the clusters visually, but it indicates the clusters by the color code."
   ]
  },
  {
   "cell_type": "markdown",
   "metadata": {
    "colab_type": "text",
    "id": "vnlUHizspJwC"
   },
   "source": [
    "# Conclusion\n",
    "\n",
    "We have demonstarted techniques to cluster the text documents by using Feature vector generation, Autoencoders neural networks, and KMeans clustering. We have taken 20,000 newsgroup documents and extracted 5000 features using Lemmatization and tfidf. These 20,000 documents each with 5000 features are passed into various deep learning neural network auto encoders, with different combination of optimizer, Activation, and Loss function. Finally we reduced the dimensions of each feature vectors from 5000 to 50, and then used KMeans clustering to groupd the documents into 5 clusters. "
   ]
  }
 ],
 "metadata": {
  "accelerator": "GPU",
  "colab": {
   "collapsed_sections": [],
   "machine_shape": "hm",
   "name": "Team_UnsupervisedTextClustering__Jayanna_Vinay_Final.ipynb",
   "provenance": [],
   "version": "0.3.2"
  },
  "kernelspec": {
   "display_name": "Python 3 (ipykernel)",
   "language": "python",
   "name": "python3"
  },
  "language_info": {
   "codemirror_mode": {
    "name": "ipython",
    "version": 3
   },
   "file_extension": ".py",
   "mimetype": "text/x-python",
   "name": "python",
   "nbconvert_exporter": "python",
   "pygments_lexer": "ipython3",
   "version": "3.9.13"
  }
 },
 "nbformat": 4,
 "nbformat_minor": 1
}
