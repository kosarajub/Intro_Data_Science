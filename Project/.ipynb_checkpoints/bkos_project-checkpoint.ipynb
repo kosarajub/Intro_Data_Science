{
 "cells": [
  {
   "cell_type": "code",
   "execution_count": 1,
   "id": "ec64fbd1",
   "metadata": {},
   "outputs": [
    {
     "name": "stdout",
     "output_type": "stream",
     "text": [
      "Defaulting to user installation because normal site-packages is not writeable\n",
      "Requirement already satisfied: WordCloud in c:\\users\\kosar\\appdata\\roaming\\python\\python39\\site-packages (1.9.2)\n",
      "Requirement already satisfied: numpy>=1.6.1 in c:\\programdata\\anaconda3\\lib\\site-packages (from WordCloud) (1.23.5)\n",
      "Requirement already satisfied: pillow in c:\\programdata\\anaconda3\\lib\\site-packages (from WordCloud) (9.4.0)\n",
      "Requirement already satisfied: matplotlib in c:\\users\\kosar\\appdata\\roaming\\python\\python39\\site-packages (from WordCloud) (3.7.1)\n",
      "Requirement already satisfied: contourpy>=1.0.1 in c:\\users\\kosar\\appdata\\roaming\\python\\python39\\site-packages (from matplotlib->WordCloud) (1.0.7)\n",
      "Requirement already satisfied: cycler>=0.10 in c:\\users\\kosar\\appdata\\roaming\\python\\python39\\site-packages (from matplotlib->WordCloud) (0.11.0)\n",
      "Requirement already satisfied: fonttools>=4.22.0 in c:\\users\\kosar\\appdata\\roaming\\python\\python39\\site-packages (from matplotlib->WordCloud) (4.39.3)\n",
      "Requirement already satisfied: kiwisolver>=1.0.1 in c:\\users\\kosar\\appdata\\roaming\\python\\python39\\site-packages (from matplotlib->WordCloud) (1.4.4)\n",
      "Requirement already satisfied: packaging>=20.0 in c:\\programdata\\anaconda3\\lib\\site-packages (from matplotlib->WordCloud) (23.0)\n",
      "Requirement already satisfied: pyparsing>=2.3.1 in c:\\users\\kosar\\appdata\\roaming\\python\\python39\\site-packages (from matplotlib->WordCloud) (3.0.9)\n",
      "Requirement already satisfied: python-dateutil>=2.7 in c:\\programdata\\anaconda3\\lib\\site-packages (from matplotlib->WordCloud) (2.8.2)\n",
      "Requirement already satisfied: importlib-resources>=3.2.0 in c:\\users\\kosar\\appdata\\roaming\\python\\python39\\site-packages (from matplotlib->WordCloud) (5.12.0)\n",
      "Requirement already satisfied: zipp>=3.1.0 in c:\\programdata\\anaconda3\\lib\\site-packages (from importlib-resources>=3.2.0->matplotlib->WordCloud) (3.11.0)\n",
      "Requirement already satisfied: six>=1.5 in c:\\programdata\\anaconda3\\lib\\site-packages (from python-dateutil>=2.7->matplotlib->WordCloud) (1.16.0)\n"
     ]
    },
    {
     "name": "stderr",
     "output_type": "stream",
     "text": [
      "WARNING: Ignoring invalid distribution -rotobuf (c:\\users\\kosar\\appdata\\roaming\\python\\python39\\site-packages)\n",
      "WARNING: Ignoring invalid distribution -rotobuf (c:\\users\\kosar\\appdata\\roaming\\python\\python39\\site-packages)\n",
      "WARNING: Ignoring invalid distribution -rotobuf (c:\\users\\kosar\\appdata\\roaming\\python\\python39\\site-packages)\n",
      "WARNING: Ignoring invalid distribution -rotobuf (c:\\users\\kosar\\appdata\\roaming\\python\\python39\\site-packages)\n"
     ]
    },
    {
     "name": "stdout",
     "output_type": "stream",
     "text": [
      "Defaulting to user installation because normal site-packages is not writeable\n",
      "Requirement already satisfied: contractions in c:\\users\\kosar\\appdata\\roaming\\python\\python39\\site-packages (0.1.73)\n",
      "Requirement already satisfied: textsearch>=0.0.21 in c:\\users\\kosar\\appdata\\roaming\\python\\python39\\site-packages (from contractions) (0.0.24)\n",
      "Requirement already satisfied: anyascii in c:\\users\\kosar\\appdata\\roaming\\python\\python39\\site-packages (from textsearch>=0.0.21->contractions) (0.3.2)\n",
      "Requirement already satisfied: pyahocorasick in c:\\users\\kosar\\appdata\\roaming\\python\\python39\\site-packages (from textsearch>=0.0.21->contractions) (2.0.0)\n"
     ]
    },
    {
     "name": "stderr",
     "output_type": "stream",
     "text": [
      "WARNING: Ignoring invalid distribution -rotobuf (c:\\users\\kosar\\appdata\\roaming\\python\\python39\\site-packages)\n",
      "WARNING: Ignoring invalid distribution -rotobuf (c:\\users\\kosar\\appdata\\roaming\\python\\python39\\site-packages)\n",
      "WARNING: Ignoring invalid distribution -rotobuf (c:\\users\\kosar\\appdata\\roaming\\python\\python39\\site-packages)\n",
      "WARNING: Ignoring invalid distribution -rotobuf (c:\\users\\kosar\\appdata\\roaming\\python\\python39\\site-packages)\n"
     ]
    }
   ],
   "source": [
    "!pip install WordCloud\n",
    "!pip install contractions"
   ]
  },
  {
   "cell_type": "code",
   "execution_count": 2,
   "id": "67e5936a",
   "metadata": {},
   "outputs": [],
   "source": [
    "#Execute this code to overcome sklearn's memory leaks on Windows.\n",
    "\n",
    "import os\n",
    "os.environ[\"OMP_NUM_THREADS\"] = '8'"
   ]
  },
  {
   "cell_type": "code",
   "execution_count": 3,
   "id": "c996f867-7b88-4cb8-85f5-31b35f99b718",
   "metadata": {},
   "outputs": [],
   "source": [
    "from time import time\n",
    "import numpy as np\n",
    "import pandas as pd\n",
    "import string\n",
    "import re\n",
    "from collections import defaultdict \n",
    "\n",
    "import nltk\n",
    "from nltk.corpus import stopwords\n",
    "from nltk.stem import WordNetLemmatizer\n",
    "from nltk.tokenize import word_tokenize\n",
    "\n",
    "import sklearn\n",
    "from sklearn import metrics\n",
    "from sklearn.metrics import confusion_matrix\n",
    "from sklearn.metrics import silhouette_score\n",
    "\n",
    "from sklearn.cluster import KMeans\n",
    "from sklearn.cluster import MiniBatchKMeans\n",
    "\n",
    "from sklearn.decomposition import PCA\n",
    "from sklearn.feature_extraction.text import TfidfVectorizer\n",
    "from sklearn.feature_extraction.text import CountVectorizer\n",
    "\n",
    "from sklearn.decomposition import TruncatedSVD\n",
    "from sklearn.pipeline import make_pipeline\n",
    "from sklearn.preprocessing import Normalizer\n",
    "\n",
    "import matplotlib.pyplot as plt\n",
    "import seaborn as sns\n",
    "\n",
    "import contractions\n",
    "from wordcloud import WordCloud"
   ]
  },
  {
   "cell_type": "code",
   "execution_count": 4,
   "id": "5ac8ebb8-0a9f-4086-956f-bcfa254634d2",
   "metadata": {},
   "outputs": [
    {
     "name": "stderr",
     "output_type": "stream",
     "text": [
      "[nltk_data] Downloading package stopwords to\n",
      "[nltk_data]     C:\\Users\\kosar\\AppData\\Roaming\\nltk_data...\n",
      "[nltk_data]   Package stopwords is already up-to-date!\n",
      "[nltk_data] Downloading package wordnet to\n",
      "[nltk_data]     C:\\Users\\kosar\\AppData\\Roaming\\nltk_data...\n",
      "[nltk_data]   Package wordnet is already up-to-date!\n"
     ]
    },
    {
     "data": {
      "text/plain": [
       "True"
      ]
     },
     "execution_count": 4,
     "metadata": {},
     "output_type": "execute_result"
    }
   ],
   "source": [
    "nltk.download('stopwords')\n",
    "nltk.download('wordnet')"
   ]
  },
  {
   "cell_type": "markdown",
   "id": "aee77677-64f0-4928-97ae-15f7baec67f1",
   "metadata": {},
   "source": [
    "<a id=\"summary\"></a>\n",
    "\n",
    "# PROJECT SUMMARY"
   ]
  },
  {
   "cell_type": "markdown",
   "id": "895dc5b9-5158-454f-a543-e56a45c2cf4a",
   "metadata": {},
   "source": [
    "## Problem statement"
   ]
  },
  {
   "cell_type": "markdown",
   "id": "524596bb-b120-43df-9979-2794ef948145",
   "metadata": {},
   "source": [
    "The idea is to implement a text similarity mechanism so that when given a large number of documents written in English, the algorithm should be able to group the documents into categories depending on the content of the documents.\n",
    "\n",
    "This problem of text classiciation can be solved in a variety of ways, based on the information we gathered on the internet. A few examples are as below:    \n",
    "1. Using some mini-hashing algorithm along with similarity methods (Jaccard, Cosine, etc.)    \n",
    "2. Using some numerical representation of words followed by feature extraction followed by some dimensionality reduction method followed by an unsupervised clustering algortithm.\n",
    "\n",
    "**Within the limitations of this course, we have chosen to implement the second method**."
   ]
  },
  {
   "cell_type": "markdown",
   "id": "fddcfa96-31f4-4316-be2d-193bd2bcf24c",
   "metadata": {},
   "source": [
    "## Project scope."
   ]
  },
  {
   "cell_type": "markdown",
   "id": "339309d5-b8cd-4873-b47b-466a66244023",
   "metadata": {},
   "source": [
    "The goal of the project is to be able to auto-categorize given set of documents in English (e.g., News articles data selected for this project) into groups using unsupervised clustering mechanisms. The idea is to convert the text data into a numerical representation (e.g., Bag-Of-Words, TF-IDF representation, etc), and use k-means clustering algorithm to categorize the documents into clusters. We would then reduce the converted multi-dimensional numerical vectors into manageable number of dimensions (for e.g., 50 dimensions) using Principal Component Analysis for easier visualization."
   ]
  },
  {
   "cell_type": "markdown",
   "id": "c1210d14-5289-4097-aba2-8e2581df9f43",
   "metadata": {},
   "source": [
    "<a id=\"data\"></a>\n",
    "\n",
    "# DATA FOR THE PROJECT"
   ]
  },
  {
   "cell_type": "markdown",
   "id": "a3f01733-042c-4fea-aacf-501598bf312f",
   "metadata": {},
   "source": [
    "## About the data."
   ]
  },
  {
   "cell_type": "markdown",
   "id": "6d72abb9-9157-4edc-8a08-d27d785ba94f",
   "metadata": {},
   "source": [
    "**Source:** http://qwone.com/~jason/20Newsgroups/\n",
    "\n",
    "The data in the document repo are in the format of emails sent about some or other specific type of news clippings observed by the email author. I read a comment online saying that the dataset is apparently collected by the Stanford Natrual Language Processing Group over a period of several years.\n",
    "\n",
    "There are three data sets available.\n",
    "   - 20news-19997.tar.gz  - Original 20 Newsgroups data set   \n",
    "   - 20news-bydate.tar.gz - Sorted by date; duplicates and some headers removed (18846 documents)   \n",
    "   - 20news-18828.tar.gz  - Duplicates removed, only \"From\" and \"Subject\" headers (18828 documents)   \n",
    "\n",
    "The website recommends to use the “20news-bydate” data since some sort of data cleaning is already done, e.g., removal of newsgroup-identifying information removal, etc. And also the data is separated into the train and test sets.\n",
    "\n",
    "**NOTE:** The dataset is also available from **sklearn** exactly in the same form as the above website except that email headers and footers are removed from the text data of the dataset. I am planning to use this data as I do not see any difference between downloading from \"http://qwone.com\" or from **sklean**."
   ]
  },
  {
   "cell_type": "markdown",
   "id": "2c339ad9-c7c8-4b1b-9b13-ec9ccc6406eb",
   "metadata": {},
   "source": [
    "The 20 Newsgroups dataset is an aggregation of 18846 newsgroup documents, split evenly across different news groups.\n",
    "\n",
    "The data is organized into 20 different news groups, wherein each group corresponds to a specific topic.    \n",
    "**Topic**    \n",
    "&emsp; - alt.atheism    \n",
    "&emsp; - comp.graphics    \n",
    "&emsp; - comp.os.ms-windows.misc   \n",
    "&emsp; - comp.sys.ibm.pc.hardware   \n",
    "&emsp; - comp.sys.mac.hardware   \n",
    "&emsp; - comp.windows.x   \n",
    "&emsp; - misc.forsale   \n",
    "&emsp; - rec.autos   \n",
    "&emsp; - rec.motorcycles    \n",
    "&emsp; - rec.sport.baseball    \n",
    "&emsp; - rec.sport.hockey    \n",
    "&emsp; - sci.crypt    \n",
    "&emsp; - sci.electronics    \n",
    "&emsp; - sci.med    \n",
    "&emsp; - sci.space    \n",
    "&emsp; - soc.religion.christian    \n",
    "&emsp; - talk.politics.guns    \n",
    "&emsp; - talk.politics.mideast    \n",
    "&emsp; - talk.politics.misc    \n",
    "&emsp; - talk.religion.misc"
   ]
  },
  {
   "cell_type": "markdown",
   "id": "ba72326b-ae20-42aa-b36a-6332c46d1dec",
   "metadata": {},
   "source": [
    "## Download the data"
   ]
  },
  {
   "cell_type": "markdown",
   "id": "5453f6bc-bafd-4b11-8259-99bfbea065e5",
   "metadata": {},
   "source": [
    "We downloaded the data using the function fetch_20newsgroups provided by the sklearn package. This function allows the user to download the data with the email headers, footers, and quotes which I am going to use.\n",
    "\n",
    "This extra information, i.e., \"headers, footers, etc\" if not removed can have an effect of overlapping of data all over the place across multiple dimensions of the feature vector leading to poor classification.\n",
    "\n",
    "**NOTE:** This stage also involves some data preprocessing. The fetch_20newsgroups is invoked to exclude the header, footer, quotes from each document."
   ]
  },
  {
   "cell_type": "markdown",
   "id": "a30db869-52ae-4640-9875-ec304fd382fa",
   "metadata": {},
   "source": [
    "**NOTE:** This stage also involves some data preprocessing. The fetch_20newsgroups is invoked to exclude the header, footer, quotes from each document."
   ]
  },
  {
   "cell_type": "code",
   "execution_count": 5,
   "id": "a2c75e03-e8b1-438b-a20f-b7c4c5b1eeae",
   "metadata": {},
   "outputs": [],
   "source": [
    "from sklearn.datasets import fetch_20newsgroups\n",
    "\n",
    "#Download all of the data.\n",
    "all_data_orig = fetch_20newsgroups(subset='all',\n",
    "                                   remove=('headers', 'footers', 'quotes'),\n",
    "                                   shuffle=False)\n",
    "\n",
    "all_df = pd.DataFrame({'data': all_data_orig.data,\n",
    "                       'target': all_data_orig.target})"
   ]
  },
  {
   "cell_type": "markdown",
   "id": "a7251246-0862-42bd-9ca0-68a8d5bc4583",
   "metadata": {},
   "source": [
    "<a id=\"eda\"></a>\n",
    "# EXPLORATORY DATA ANALYSIS"
   ]
  },
  {
   "cell_type": "markdown",
   "id": "7bc6e63b-ce8b-4c8e-b8b5-6168ab663736",
   "metadata": {},
   "source": [
    "## Describe the data"
   ]
  },
  {
   "cell_type": "code",
   "execution_count": 6,
   "id": "ab7f10b6-574b-45f1-8427-9fbdc4ba87bc",
   "metadata": {},
   "outputs": [
    {
     "name": "stdout",
     "output_type": "stream",
     "text": [
      ".. _20newsgroups_dataset:\n",
      "\n",
      "The 20 newsgroups text dataset\n",
      "------------------------------\n",
      "\n",
      "The 20 newsgroups dataset comprises around 18000 newsgroups posts on\n",
      "20 topics split in two subsets: one for training (or development)\n",
      "and the other one for testing (or for performance evaluation). The split\n",
      "between the train and test set is based upon a messages posted before\n",
      "and after a specific date.\n",
      "\n",
      "This module contains two loaders. The first one,\n",
      ":func:`sklearn.datasets.fetch_20newsgroups`,\n",
      "returns a list of the raw texts that can be fed to text feature\n",
      "extractors such as :class:`~sklearn.feature_extraction.text.CountVectorizer`\n",
      "with custom parameters so as to extract feature vectors.\n",
      "The second one, :func:`sklearn.datasets.fetch_20newsgroups_vectorized`,\n",
      "returns ready-to-use features, i.e., it is not necessary to use a feature\n",
      "extractor.\n",
      "\n",
      "**Data Set Characteristics:**\n",
      "\n",
      "    =================   ==========\n",
      "    Classes                     20\n",
      "    Samples total            18846\n",
      "    Dimensionality               1\n",
      "    Features                  text\n",
      "    =================   ==========\n",
      "\n",
      "Usage\n",
      "~~~~~\n",
      "\n",
      "The :func:`sklearn.datasets.fetch_20newsgroups` function is a data\n",
      "fetching / caching functions that downloads the data archive from\n",
      "the original `20 newsgroups website`_, extracts the archive contents\n",
      "in the ``~/scikit_learn_data/20news_home`` folder and calls the\n",
      ":func:`sklearn.datasets.load_files` on either the training or\n",
      "testing set folder, or both of them::\n",
      "\n",
      "  >>> from sklearn.datasets import fetch_20newsgroups\n",
      "  >>> newsgroups_train = fetch_20newsgroups(subset='train')\n",
      "\n",
      "  >>> from pprint import pprint\n",
      "  >>> pprint(list(newsgroups_train.target_names))\n",
      "  ['alt.atheism',\n",
      "   'comp.graphics',\n",
      "   'comp.os.ms-windows.misc',\n",
      "   'comp.sys.ibm.pc.hardware',\n",
      "   'comp.sys.mac.hardware',\n",
      "   'comp.windows.x',\n",
      "   'misc.forsale',\n",
      "   'rec.autos',\n",
      "   'rec.motorcycles',\n",
      "   'rec.sport.baseball',\n",
      "   'rec.sport.hockey',\n",
      "   'sci.crypt',\n",
      "   'sci.electronics',\n",
      "   'sci.med',\n",
      "   'sci.space',\n",
      "   'soc.religion.christian',\n",
      "   'talk.politics.guns',\n",
      "   'talk.politics.mideast',\n",
      "   'talk.politics.misc',\n",
      "   'talk.religion.misc']\n",
      "\n",
      "The real data lies in the ``filenames`` and ``target`` attributes. The target\n",
      "attribute is the integer index of the category::\n",
      "\n",
      "  >>> newsgroups_train.filenames.shape\n",
      "  (11314,)\n",
      "  >>> newsgroups_train.target.shape\n",
      "  (11314,)\n",
      "  >>> newsgroups_train.target[:10]\n",
      "  array([ 7,  4,  4,  1, 14, 16, 13,  3,  2,  4])\n",
      "\n",
      "It is possible to load only a sub-selection of the categories by passing the\n",
      "list of the categories to load to the\n",
      ":func:`sklearn.datasets.fetch_20newsgroups` function::\n",
      "\n",
      "  >>> cats = ['alt.atheism', 'sci.space']\n",
      "  >>> newsgroups_train = fetch_20newsgroups(subset='train', categories=cats)\n",
      "\n",
      "  >>> list(newsgroups_train.target_names)\n",
      "  ['alt.atheism', 'sci.space']\n",
      "  >>> newsgroups_train.filenames.shape\n",
      "  (1073,)\n",
      "  >>> newsgroups_train.target.shape\n",
      "  (1073,)\n",
      "  >>> newsgroups_train.target[:10]\n",
      "  array([0, 1, 1, 1, 0, 1, 1, 0, 0, 0])\n",
      "\n",
      "Converting text to vectors\n",
      "~~~~~~~~~~~~~~~~~~~~~~~~~~\n",
      "\n",
      "In order to feed predictive or clustering models with the text data,\n",
      "one first need to turn the text into vectors of numerical values suitable\n",
      "for statistical analysis. This can be achieved with the utilities of the\n",
      "``sklearn.feature_extraction.text`` as demonstrated in the following\n",
      "example that extract `TF-IDF`_ vectors of unigram tokens\n",
      "from a subset of 20news::\n",
      "\n",
      "  >>> from sklearn.feature_extraction.text import TfidfVectorizer\n",
      "  >>> categories = ['alt.atheism', 'talk.religion.misc',\n",
      "  ...               'comp.graphics', 'sci.space']\n",
      "  >>> newsgroups_train = fetch_20newsgroups(subset='train',\n",
      "  ...                                       categories=categories)\n",
      "  >>> vectorizer = TfidfVectorizer()\n",
      "  >>> vectors = vectorizer.fit_transform(newsgroups_train.data)\n",
      "  >>> vectors.shape\n",
      "  (2034, 34118)\n",
      "\n",
      "The extracted TF-IDF vectors are very sparse, with an average of 159 non-zero\n",
      "components by sample in a more than 30000-dimensional space\n",
      "(less than .5% non-zero features)::\n",
      "\n",
      "  >>> vectors.nnz / float(vectors.shape[0])\n",
      "  159.01327...\n",
      "\n",
      ":func:`sklearn.datasets.fetch_20newsgroups_vectorized` is a function which\n",
      "returns ready-to-use token counts features instead of file names.\n",
      "\n",
      ".. _`20 newsgroups website`: http://people.csail.mit.edu/jrennie/20Newsgroups/\n",
      ".. _`TF-IDF`: https://en.wikipedia.org/wiki/Tf-idf\n",
      "\n",
      "\n",
      "Filtering text for more realistic training\n",
      "~~~~~~~~~~~~~~~~~~~~~~~~~~~~~~~~~~~~~~~~~~\n",
      "\n",
      "It is easy for a classifier to overfit on particular things that appear in the\n",
      "20 Newsgroups data, such as newsgroup headers. Many classifiers achieve very\n",
      "high F-scores, but their results would not generalize to other documents that\n",
      "aren't from this window of time.\n",
      "\n",
      "For example, let's look at the results of a multinomial Naive Bayes classifier,\n",
      "which is fast to train and achieves a decent F-score::\n",
      "\n",
      "  >>> from sklearn.naive_bayes import MultinomialNB\n",
      "  >>> from sklearn import metrics\n",
      "  >>> newsgroups_test = fetch_20newsgroups(subset='test',\n",
      "  ...                                      categories=categories)\n",
      "  >>> vectors_test = vectorizer.transform(newsgroups_test.data)\n",
      "  >>> clf = MultinomialNB(alpha=.01)\n",
      "  >>> clf.fit(vectors, newsgroups_train.target)\n",
      "  MultinomialNB(alpha=0.01, class_prior=None, fit_prior=True)\n",
      "\n",
      "  >>> pred = clf.predict(vectors_test)\n",
      "  >>> metrics.f1_score(newsgroups_test.target, pred, average='macro')\n",
      "  0.88213...\n",
      "\n",
      "(The example :ref:`sphx_glr_auto_examples_text_plot_document_classification_20newsgroups.py` shuffles\n",
      "the training and test data, instead of segmenting by time, and in that case\n",
      "multinomial Naive Bayes gets a much higher F-score of 0.88. Are you suspicious\n",
      "yet of what's going on inside this classifier?)\n",
      "\n",
      "Let's take a look at what the most informative features are:\n",
      "\n",
      "  >>> import numpy as np\n",
      "  >>> def show_top10(classifier, vectorizer, categories):\n",
      "  ...     feature_names = vectorizer.get_feature_names_out()\n",
      "  ...     for i, category in enumerate(categories):\n",
      "  ...         top10 = np.argsort(classifier.coef_[i])[-10:]\n",
      "  ...         print(\"%s: %s\" % (category, \" \".join(feature_names[top10])))\n",
      "  ...\n",
      "  >>> show_top10(clf, vectorizer, newsgroups_train.target_names)\n",
      "  alt.atheism: edu it and in you that is of to the\n",
      "  comp.graphics: edu in graphics it is for and of to the\n",
      "  sci.space: edu it that is in and space to of the\n",
      "  talk.religion.misc: not it you in is that and to of the\n",
      "\n",
      "\n",
      "You can now see many things that these features have overfit to:\n",
      "\n",
      "- Almost every group is distinguished by whether headers such as\n",
      "  ``NNTP-Posting-Host:`` and ``Distribution:`` appear more or less often.\n",
      "- Another significant feature involves whether the sender is affiliated with\n",
      "  a university, as indicated either by their headers or their signature.\n",
      "- The word \"article\" is a significant feature, based on how often people quote\n",
      "  previous posts like this: \"In article [article ID], [name] <[e-mail address]>\n",
      "  wrote:\"\n",
      "- Other features match the names and e-mail addresses of particular people who\n",
      "  were posting at the time.\n",
      "\n",
      "With such an abundance of clues that distinguish newsgroups, the classifiers\n",
      "barely have to identify topics from text at all, and they all perform at the\n",
      "same high level.\n",
      "\n",
      "For this reason, the functions that load 20 Newsgroups data provide a\n",
      "parameter called **remove**, telling it what kinds of information to strip out\n",
      "of each file. **remove** should be a tuple containing any subset of\n",
      "``('headers', 'footers', 'quotes')``, telling it to remove headers, signature\n",
      "blocks, and quotation blocks respectively.\n",
      "\n",
      "  >>> newsgroups_test = fetch_20newsgroups(subset='test',\n",
      "  ...                                      remove=('headers', 'footers', 'quotes'),\n",
      "  ...                                      categories=categories)\n",
      "  >>> vectors_test = vectorizer.transform(newsgroups_test.data)\n",
      "  >>> pred = clf.predict(vectors_test)\n",
      "  >>> metrics.f1_score(pred, newsgroups_test.target, average='macro')\n",
      "  0.77310...\n",
      "\n",
      "This classifier lost over a lot of its F-score, just because we removed\n",
      "metadata that has little to do with topic classification.\n",
      "It loses even more if we also strip this metadata from the training data:\n",
      "\n",
      "  >>> newsgroups_train = fetch_20newsgroups(subset='train',\n",
      "  ...                                       remove=('headers', 'footers', 'quotes'),\n",
      "  ...                                       categories=categories)\n",
      "  >>> vectors = vectorizer.fit_transform(newsgroups_train.data)\n",
      "  >>> clf = MultinomialNB(alpha=.01)\n",
      "  >>> clf.fit(vectors, newsgroups_train.target)\n",
      "  MultinomialNB(alpha=0.01, class_prior=None, fit_prior=True)\n",
      "\n",
      "  >>> vectors_test = vectorizer.transform(newsgroups_test.data)\n",
      "  >>> pred = clf.predict(vectors_test)\n",
      "  >>> metrics.f1_score(newsgroups_test.target, pred, average='macro')\n",
      "  0.76995...\n",
      "\n",
      "Some other classifiers cope better with this harder version of the task. Try the\n",
      ":ref:`sphx_glr_auto_examples_model_selection_plot_grid_search_text_feature_extraction.py`\n",
      "example with and without the `remove` option to compare the results.\n",
      "\n",
      ".. topic:: Data Considerations\n",
      "\n",
      "  The Cleveland Indians is a major league baseball team based in Cleveland,\n",
      "  Ohio, USA. In December 2020, it was reported that \"After several months of\n",
      "  discussion sparked by the death of George Floyd and a national reckoning over\n",
      "  race and colonialism, the Cleveland Indians have decided to change their\n",
      "  name.\" Team owner Paul Dolan \"did make it clear that the team will not make\n",
      "  its informal nickname -- the Tribe -- its new team name.\" \"It's not going to\n",
      "  be a half-step away from the Indians,\" Dolan said.\"We will not have a Native\n",
      "  American-themed name.\"\n",
      "\n",
      "  https://www.mlb.com/news/cleveland-indians-team-name-change\n",
      "\n",
      ".. topic:: Recommendation\n",
      "\n",
      "  - When evaluating text classifiers on the 20 Newsgroups data, you\n",
      "    should strip newsgroup-related metadata. In scikit-learn, you can do this\n",
      "    by setting ``remove=('headers', 'footers', 'quotes')``. The F-score will be\n",
      "    lower because it is more realistic.\n",
      "  - This text dataset contains data which may be inappropriate for certain NLP\n",
      "    applications. An example is listed in the \"Data Considerations\" section\n",
      "    above. The challenge with using current text datasets in NLP for tasks such\n",
      "    as sentence completion, clustering, and other applications is that text\n",
      "    that is culturally biased and inflammatory will propagate biases. This\n",
      "    should be taken into consideration when using the dataset, reviewing the\n",
      "    output, and the bias should be documented.\n",
      "\n",
      ".. topic:: Examples\n",
      "\n",
      "   * :ref:`sphx_glr_auto_examples_model_selection_plot_grid_search_text_feature_extraction.py`\n",
      "\n",
      "   * :ref:`sphx_glr_auto_examples_text_plot_document_classification_20newsgroups.py`\n",
      "\n",
      "   * :ref:`sphx_glr_auto_examples_text_plot_hashing_vs_dict_vectorizer.py`\n",
      "\n",
      "   * :ref:`sphx_glr_auto_examples_text_plot_document_clustering.py`\n",
      "\n"
     ]
    }
   ],
   "source": [
    "print(all_data_orig.DESCR)"
   ]
  },
  {
   "cell_type": "code",
   "execution_count": 7,
   "id": "cef3b463-cd5c-47f0-8158-2387c4c3c8b5",
   "metadata": {},
   "outputs": [
    {
     "name": "stdout",
     "output_type": "stream",
     "text": [
      "Total file count: 18846\n",
      "File-Target association: [ 9  4 11 ...  4  6  7]\n",
      "Unique targets: 20\n",
      "Predetermined targets: 20\n"
     ]
    }
   ],
   "source": [
    "print(\"Total file count: %d\" %len(all_data_orig.filenames))\n",
    "print(\"File-Target association: \" + str(all_data_orig.target))\n",
    "print(\"Unique targets: %d\" %(len(np.unique(all_data_orig.target))))\n",
    "print(\"Predetermined targets: %d\" %(len(all_data_orig.target_names)))"
   ]
  },
  {
   "cell_type": "code",
   "execution_count": 8,
   "id": "d82671e8-e5e1-4fb8-b6c3-c1265f854a67",
   "metadata": {},
   "outputs": [
    {
     "data": {
      "text/plain": [
       "(18846,)"
      ]
     },
     "execution_count": 8,
     "metadata": {},
     "output_type": "execute_result"
    }
   ],
   "source": [
    "all_data_orig.filenames.shape"
   ]
  },
  {
   "cell_type": "code",
   "execution_count": 9,
   "id": "e91e70d8-d108-4c43-ad8e-c6fad8fdebf7",
   "metadata": {},
   "outputs": [
    {
     "data": {
      "text/plain": [
       "(18846,)"
      ]
     },
     "execution_count": 9,
     "metadata": {},
     "output_type": "execute_result"
    }
   ],
   "source": [
    "all_data_orig.target.shape"
   ]
  },
  {
   "cell_type": "markdown",
   "id": "6f795b2b-c202-4a8f-8db5-410d5d69400b",
   "metadata": {},
   "source": [
    "## Categories of the data\n",
    "**NOTE:** These were categorized manually by the original data collector."
   ]
  },
  {
   "cell_type": "code",
   "execution_count": 10,
   "id": "c2feb743-8922-4b78-bd71-73944c3fcc3f",
   "metadata": {},
   "outputs": [
    {
     "data": {
      "text/plain": [
       "['alt.atheism',\n",
       " 'comp.graphics',\n",
       " 'comp.os.ms-windows.misc',\n",
       " 'comp.sys.ibm.pc.hardware',\n",
       " 'comp.sys.mac.hardware',\n",
       " 'comp.windows.x',\n",
       " 'misc.forsale',\n",
       " 'rec.autos',\n",
       " 'rec.motorcycles',\n",
       " 'rec.sport.baseball',\n",
       " 'rec.sport.hockey',\n",
       " 'sci.crypt',\n",
       " 'sci.electronics',\n",
       " 'sci.med',\n",
       " 'sci.space',\n",
       " 'soc.religion.christian',\n",
       " 'talk.politics.guns',\n",
       " 'talk.politics.mideast',\n",
       " 'talk.politics.misc',\n",
       " 'talk.religion.misc']"
      ]
     },
     "execution_count": 10,
     "metadata": {},
     "output_type": "execute_result"
    }
   ],
   "source": [
    "all_data_orig.target_names"
   ]
  },
  {
   "cell_type": "markdown",
   "id": "cc4a2029-2c67-48ed-b876-d44a12de4696",
   "metadata": {},
   "source": [
    "## Distribution of files among pre-determined groups"
   ]
  },
  {
   "cell_type": "markdown",
   "id": "0e90540e-7d7e-447a-a6ce-3753157c29b7",
   "metadata": {},
   "source": [
    "### Distribution of files among pre-determined groups (Full dataset)."
   ]
  },
  {
   "cell_type": "code",
   "execution_count": 11,
   "id": "caa27c87-81bf-4a06-80e5-275ed616cff7",
   "metadata": {},
   "outputs": [
    {
     "data": {
      "image/png": "[encoded data removed]",
      "text/plain": [
       "<Figure size 600x400 with 1 Axes>"
      ]
     },
     "metadata": {},
     "output_type": "display_data"
    }
   ],
   "source": [
    "targets, tgt_freq = np.unique(all_data_orig.target, return_counts=True)\n",
    "target_names = np.array(all_data_orig.target_names)\n",
    "\n",
    "plt.figure(figsize=(6, 4))\n",
    "plt.bar(target_names, tgt_freq)\n",
    "plt.xticks(rotation=90)\n",
    "plt.title('Distribution of 20-Newsgroups Data across groups (Full dataset)')\n",
    "plt.xlabel('News Group')\n",
    "plt.ylabel('Frequency')\n",
    "plt.show()"
   ]
  },
  {
   "cell_type": "markdown",
   "id": "d0fc0b44-3b0f-4138-8c82-61ecaaad7c07",
   "metadata": {},
   "source": [
    "**NOTE:** It is evident that all of the categories have moderately balanced number of, aka, substantial imbalance does not exist."
   ]
  },
  {
   "cell_type": "markdown",
   "id": "9aee64bf-1120-4587-bf3e-1f6ad96d55e9",
   "metadata": {},
   "source": [
    "## Sample data"
   ]
  },
  {
   "cell_type": "code",
   "execution_count": 12,
   "id": "453fcf99-3f3c-48d8-9766-56324fe0113f",
   "metadata": {},
   "outputs": [
    {
     "data": {
      "text/html": [
       "<div>\n",
       "<style scoped>\n",
       "    .dataframe tbody tr th:only-of-type {\n",
       "        vertical-align: middle;\n",
       "    }\n",
       "\n",
       "    .dataframe tbody tr th {\n",
       "        vertical-align: top;\n",
       "    }\n",
       "\n",
       "    .dataframe thead th {\n",
       "        text-align: right;\n",
       "    }\n",
       "</style>\n",
       "<table border=\"1\" class=\"dataframe\">\n",
       "  <thead>\n",
       "    <tr style=\"text-align: right;\">\n",
       "      <th></th>\n",
       "      <th>data</th>\n",
       "      <th>target</th>\n",
       "    </tr>\n",
       "  </thead>\n",
       "  <tbody>\n",
       "    <tr>\n",
       "      <th>0</th>\n",
       "      <td>\\nmorgan and guzman will have era's 1 run high...</td>\n",
       "      <td>9</td>\n",
       "    </tr>\n",
       "    <tr>\n",
       "      <th>1</th>\n",
       "      <td>Well, I just got my Centris 610 yesterday.  It...</td>\n",
       "      <td>4</td>\n",
       "    </tr>\n",
       "    <tr>\n",
       "      <th>2</th>\n",
       "      <td>Archive-name: cryptography-faq/part10\\nLast-mo...</td>\n",
       "      <td>11</td>\n",
       "    </tr>\n",
       "    <tr>\n",
       "      <th>3</th>\n",
       "      <td>To the best of my knowledge there aren't any p...</td>\n",
       "      <td>4</td>\n",
       "    </tr>\n",
       "    <tr>\n",
       "      <th>4</th>\n",
       "      <td>\\n\\nI think that domestication will change beh...</td>\n",
       "      <td>0</td>\n",
       "    </tr>\n",
       "    <tr>\n",
       "      <th>...</th>\n",
       "      <td>...</td>\n",
       "      <td>...</td>\n",
       "    </tr>\n",
       "    <tr>\n",
       "      <th>18841</th>\n",
       "      <td>\\nWhy are circuit boards green?  The material ...</td>\n",
       "      <td>12</td>\n",
       "    </tr>\n",
       "    <tr>\n",
       "      <th>18842</th>\n",
       "      <td>\\n\\nAnybody who drove into somebody like that ...</td>\n",
       "      <td>8</td>\n",
       "    </tr>\n",
       "    <tr>\n",
       "      <th>18843</th>\n",
       "      <td>We were told that the resolution on the 5FGe c...</td>\n",
       "      <td>4</td>\n",
       "    </tr>\n",
       "    <tr>\n",
       "      <th>18844</th>\n",
       "      <td>CAD Setup For Sale:\\n\\nG486PLB Local Bus Mothe...</td>\n",
       "      <td>6</td>\n",
       "    </tr>\n",
       "    <tr>\n",
       "      <th>18845</th>\n",
       "      <td>\\n\\n \\nSame engine, different state of tune (l...</td>\n",
       "      <td>7</td>\n",
       "    </tr>\n",
       "  </tbody>\n",
       "</table>\n",
       "<p>18846 rows × 2 columns</p>\n",
       "</div>"
      ],
      "text/plain": [
       "                                                    data  target\n",
       "0      \\nmorgan and guzman will have era's 1 run high...       9\n",
       "1      Well, I just got my Centris 610 yesterday.  It...       4\n",
       "2      Archive-name: cryptography-faq/part10\\nLast-mo...      11\n",
       "3      To the best of my knowledge there aren't any p...       4\n",
       "4      \\n\\nI think that domestication will change beh...       0\n",
       "...                                                  ...     ...\n",
       "18841  \\nWhy are circuit boards green?  The material ...      12\n",
       "18842  \\n\\nAnybody who drove into somebody like that ...       8\n",
       "18843  We were told that the resolution on the 5FGe c...       4\n",
       "18844  CAD Setup For Sale:\\n\\nG486PLB Local Bus Mothe...       6\n",
       "18845  \\n\\n \\nSame engine, different state of tune (l...       7\n",
       "\n",
       "[18846 rows x 2 columns]"
      ]
     },
     "execution_count": 12,
     "metadata": {},
     "output_type": "execute_result"
    }
   ],
   "source": [
    "all_df"
   ]
  },
  {
   "cell_type": "markdown",
   "id": "9e6819c8-415a-40a8-b847-f11b68e68636",
   "metadata": {},
   "source": [
    "## SAMPLE ANALYSIS OF A DOCUMENT CATEGORY."
   ]
  },
  {
   "cell_type": "markdown",
   "id": "961cde18-8286-4436-b456-2fbbfbc7a97e",
   "metadata": {},
   "source": [
    "## Sample word count."
   ]
  },
  {
   "cell_type": "code",
   "execution_count": 13,
   "id": "2c6ac886-c3e0-4e20-b3c9-ccc1848c070a",
   "metadata": {},
   "outputs": [
    {
     "data": {
      "text/plain": [
       "the    2461\n",
       "for    1886\n",
       "and    1802\n",
       "to     1640\n",
       "of     1284\n",
       "00     1175\n",
       "in     1050\n",
       "it      895\n",
       "is      846\n",
       "you     793\n",
       "dtype: int32"
      ]
     },
     "execution_count": 13,
     "metadata": {},
     "output_type": "execute_result"
    }
   ],
   "source": [
    "idx = np.nonzero(all_data_orig.target ==\n",
    "                 all_data_orig.target_names.index('misc.forsale')\n",
    "                )[0]\n",
    "\n",
    "count_vect = CountVectorizer()\n",
    "doc_matrix = count_vect.fit_transform([all_data_orig.data[i] for i in idx])\n",
    "\n",
    "rownames = [':'.join(filename.split('/')[-2:])\n",
    "            for filename in all_data_orig.filenames[idx]]\n",
    "\n",
    "df = pd.DataFrame.sparse.from_spmatrix(doc_matrix,\n",
    "                                       columns=count_vect.get_feature_names_out(),\n",
    "                                       index=rownames)\n",
    "\n",
    "freq_tab = df.sum(axis=0).astype('int')\n",
    "freq_tab.nlargest(10)"
   ]
  },
  {
   "cell_type": "markdown",
   "id": "40c2707f-76ac-4d57-aeac-d3ca9323ffb2",
   "metadata": {},
   "source": [
    "## Sample Word cloud."
   ]
  },
  {
   "cell_type": "code",
   "execution_count": 14,
   "id": "17ebfdd4-2393-4de6-9c2e-d75987bf8db9",
   "metadata": {},
   "outputs": [
    {
     "data": {
      "text/plain": [
       "(-0.5, 399.5, 199.5, -0.5)"
      ]
     },
     "execution_count": 14,
     "metadata": {},
     "output_type": "execute_result"
    },
    {
     "data": {
      "image/png": "[encoded data removed]",
      "text/plain": [
       "<Figure size 640x480 with 1 Axes>"
      ]
     },
     "metadata": {},
     "output_type": "display_data"
    }
   ],
   "source": [
    "wordcloud = WordCloud().generate(' '.join(freq_tab.nlargest(200).index))\n",
    "plt.imshow(wordcloud, interpolation='bilinear')\n",
    "plt.axis(\"off\")"
   ]
  },
  {
   "cell_type": "markdown",
   "id": "34941b01-69f4-468a-ab90-37194e76a8a1",
   "metadata": {},
   "source": [
    "<a id=\"preprocess\"></a>\n",
    "\n",
    "# DATA PREPROCESSING"
   ]
  },
  {
   "cell_type": "markdown",
   "id": "7e0b56f2-ac9f-43b3-9598-295b374208e0",
   "metadata": {},
   "source": [
    "## MISSING DATA, DATA IMBALANCE, DATA SCALING\n",
    "\n",
    "These categories of data preprocessing is not applicable to my dataset."
   ]
  },
  {
   "cell_type": "markdown",
   "id": "c0a03a04-a28b-4800-9c1f-f7fb2f7591e5",
   "metadata": {},
   "source": [
    "## Sample data from a file"
   ]
  },
  {
   "cell_type": "code",
   "execution_count": 15,
   "id": "a24610b8-3bc2-471e-8f8c-7da860a62e51",
   "metadata": {},
   "outputs": [
    {
     "data": {
      "text/plain": [
       "\"\\nmorgan and guzman will have era's 1 run higher than last year, and\\n the cubs will be idiots and not pitch harkey as much as hibbard.\\n castillo won't be good (i think he's a stud pitcher)\""
      ]
     },
     "execution_count": 15,
     "metadata": {},
     "output_type": "execute_result"
    }
   ],
   "source": [
    "all_df.iloc[0][0]"
   ]
  },
  {
   "cell_type": "markdown",
   "id": "a159b271-5c56-4851-9850-1f0c2a5585c2",
   "metadata": {},
   "source": [
    "**NOTE:** I am going to use this sample data to show how the data is getting transformed at each stage of the preprocessing."
   ]
  },
  {
   "cell_type": "markdown",
   "id": "dea8ee27-b936-43bb-b1ba-ff0b21a75411",
   "metadata": {},
   "source": [
    "## Lower case\n",
    "Case sensitiviy do not have any role in document classification. So all of the data will be forced to lower case."
   ]
  },
  {
   "cell_type": "code",
   "execution_count": 16,
   "id": "42f4de1c-0288-4585-8132-2987a1d1bce7",
   "metadata": {},
   "outputs": [
    {
     "data": {
      "text/plain": [
       "'\\nmorgan and guzman will have era s 1 run higher than last year  and\\n the cubs will be idiots and not pitch harkey as much as hibbard \\n castillo won t be good  i think he s a stud pitcher '"
      ]
     },
     "execution_count": 16,
     "metadata": {},
     "output_type": "execute_result"
    }
   ],
   "source": [
    "def lower_case(x):\n",
    "    return re.sub('[%s]' % re.escape(string.punctuation), ' ', x.lower())\n",
    "\n",
    "all_df['data'] = all_df.data.map(lower_case)\n",
    "all_df.data[0]"
   ]
  },
  {
   "cell_type": "markdown",
   "id": "cbfa8022-009f-4bcb-9bb4-a12e27b147d8",
   "metadata": {},
   "source": [
    "## Remove stop words\n",
    "The stop words, e.g., conjunctions, etc. are not useful in most of the classification problems. I opine that since we are trying to classify the news articles, the stop words may not add much to the accuracy. I will experiment with removal and non-removal of stop words to test the accuracy."
   ]
  },
  {
   "cell_type": "code",
   "execution_count": 17,
   "id": "9f6bda95-a00b-4697-8379-b1a269c00219",
   "metadata": {},
   "outputs": [
    {
     "data": {
      "text/plain": [
       "'morgan guzman era 1 run higher last year cubs idiots pitch harkey much hibbard castillo good think stud pitcher'"
      ]
     },
     "execution_count": 17,
     "metadata": {},
     "output_type": "execute_result"
    }
   ],
   "source": [
    "stop_words = set(stopwords.words('english'))\n",
    "\n",
    "def remove_stop_words(text_data):\n",
    "    return ' '.join([word for word in text_data.split() if word not in stop_words])\n",
    "\n",
    "all_df[\"data\"] = all_df[\"data\"].apply(lambda s: remove_stop_words(s))\n",
    "all_df.data[0]"
   ]
  },
  {
   "cell_type": "markdown",
   "id": "04de11ff-d9e8-4eaa-b1a6-97c615a7d4ae",
   "metadata": {},
   "source": [
    "## Remove contractions\n",
    "Convert words like \"can't\" into cannot \"won't\" into \"will not\". This is to standardize text.\n",
    "Also this helps to not lose the meaning of words like \"won't\" after removal of punctuation."
   ]
  },
  {
   "cell_type": "code",
   "execution_count": 18,
   "id": "5cc393e9-c40b-4839-85cb-16eca0a9b98d",
   "metadata": {},
   "outputs": [
    {
     "data": {
      "text/plain": [
       "'morgan guzman era 1 run higher last year cubs idiots pitch harkey much hibbard castillo good think stud pitcher'"
      ]
     },
     "execution_count": 18,
     "metadata": {},
     "output_type": "execute_result"
    }
   ],
   "source": [
    "all_df['data'] = all_df[\"data\"].apply(lambda text: contractions.fix(text))\n",
    "all_df.data[0]"
   ]
  },
  {
   "cell_type": "markdown",
   "id": "9133127b-b461-4f9b-92bf-90746f36bf63",
   "metadata": {},
   "source": [
    "## Remove punctuation\n",
    "This can lead to wrong classification depending on the data type that we are trying to classify.    \n",
    "We chose to remove punctuation."
   ]
  },
  {
   "cell_type": "code",
   "execution_count": 19,
   "id": "aeba00dc-7634-4099-8229-6f26fa88d202",
   "metadata": {},
   "outputs": [
    {
     "data": {
      "text/plain": [
       "'morgan guzman era 1 run higher last year cubs idiots pitch harkey much hibbard castillo good think stud pitcher'"
      ]
     },
     "execution_count": 19,
     "metadata": {},
     "output_type": "execute_result"
    }
   ],
   "source": [
    "all_df['data'] = all_df[\"data\"].apply(lambda s: ' '.join(re.sub(\"[.,!?:;-='...\\\"@#_]\", \" \", s).split()))\n",
    "all_df.data[0]"
   ]
  },
  {
   "cell_type": "markdown",
   "id": "8408f3be-1390-4ebd-a02a-dee847b14afd",
   "metadata": {},
   "source": [
    "## Remove all numbers\n",
    "I chose to remove numerics as I felt that numbers do not play a role in classification of data."
   ]
  },
  {
   "cell_type": "code",
   "execution_count": 20,
   "id": "c7b257f3-f590-4ef4-a5d6-6565c8dd8da9",
   "metadata": {},
   "outputs": [
    {
     "data": {
      "text/plain": [
       "'morgan guzman era  run higher last year cubs idiots pitch harkey much hibbard castillo good think stud pitcher'"
      ]
     },
     "execution_count": 20,
     "metadata": {},
     "output_type": "execute_result"
    }
   ],
   "source": [
    "all_df[\"data\"] = all_df[\"data\"].map(lambda text: re.sub(\"\\d+\", '', text))\n",
    "all_df.data[0]"
   ]
  },
  {
   "cell_type": "markdown",
   "id": "faac29fa-6592-4a5e-b96f-f72d38c3387c",
   "metadata": {},
   "source": [
    "## Remove all strings of size **1**.\n",
    "**NOTE:** These single letter words may form after removal of puncutation, numbers, etc."
   ]
  },
  {
   "cell_type": "code",
   "execution_count": 21,
   "id": "f21bbd66-616e-4734-8928-8bdf139b38d0",
   "metadata": {},
   "outputs": [
    {
     "data": {
      "text/plain": [
       "'morgan guzman era  run higher last year cubs idiots pitch harkey much hibbard castillo good think stud pitcher'"
      ]
     },
     "execution_count": 21,
     "metadata": {},
     "output_type": "execute_result"
    }
   ],
   "source": [
    "all_df[\"data\"] = all_df[\"data\"].map(lambda text: re.sub(\" [a-z] \", ' ', text))\n",
    "all_df.data[0]"
   ]
  },
  {
   "attachments": {
    "9c4c09a0-9187-4eb8-80cb-1c3f35858b6a.png": {
     "image/png": "[encoded data removed]"
    }
   },
   "cell_type": "markdown",
   "id": "9e6e21b3-d9c4-49ee-a396-ffca6b6d1582",
   "metadata": {},
   "source": [
    "## Zipf's law to check on the impact of words based on frequency.\n",
    "\n",
    "Zipf's law states that the frequency of a token in a text is directly proportional to its rank or position in the sorted list.\n",
    "This law describes how tokens are distributed in languages: some tokens occur very frequently, some occur with intermediate frequency, and some tokens rarely occur.\n",
    "\n",
    "When words are ranked according to their frequencies in a large enough collection of texts and then the frequency is plotted against the rank, the result is a logarithmic curve.\n",
    "\n",
    "The Zipf distribution is used to model situations in which a few observations have a very high value (or impact) and account for a large part of the total, while a very long tail of observations have medium, small, or very small values.\n",
    "\n",
    "![image.png](attachment:9c4c09a0-9187-4eb8-80cb-1c3f35858b6a.png)\n",
    "\n",
    "**r** is called the frequency rank of a word, and.   \n",
    "**f(r)** is its frequency in a natural corpus."
   ]
  },
  {
   "cell_type": "markdown",
   "id": "fe4ce616-010d-4a60-98ee-3ac0e67e3ee0",
   "metadata": {},
   "source": [
    "### Plot Zipf's law"
   ]
  },
  {
   "cell_type": "code",
   "execution_count": 22,
   "id": "16e08f4a-c792-4bea-8836-094880ba88ff",
   "metadata": {},
   "outputs": [
    {
     "data": {
      "text/plain": [
       "Text(0.5, 1.0, \"Zipf's law\")"
      ]
     },
     "execution_count": 22,
     "metadata": {},
     "output_type": "execute_result"
    },
    {
     "data": {
      "image/png": "[encoded data removed]",
      "text/plain": [
       "<Figure size 640x480 with 1 Axes>"
      ]
     },
     "metadata": {},
     "output_type": "display_data"
    }
   ],
   "source": [
    "xs = freq_tab.sort_values(ascending=False).reset_index(drop=True, )\n",
    "plt.loglog(xs.index + 1, xs)\n",
    "plt.xlabel('Log(Rank)')\n",
    "plt.ylabel('Log(Frequency)')\n",
    "plt.title(\"Zipf's law\")"
   ]
  },
  {
   "cell_type": "markdown",
   "id": "e5f5455e-4849-42ab-801a-353cbaa99ca1",
   "metadata": {},
   "source": [
    "**NOTE:** I did not write any code to achieve this aspect because I have planned to invoke TfidfVectorizer() with **min_df=<count>** which will make the vectorizer to ignore the words that have a frequency LESS THAN OR EUQAL to <count>."
   ]
  },
  {
   "cell_type": "markdown",
   "id": "b9e102df-5f76-48e8-bc4d-54e4137ec629",
   "metadata": {},
   "source": [
    "## Lemmatize words    \n",
    "The goal is to reduce the inflectional forms, and sometimes derivationally related forms of words to a common base word.    \n",
    "A few examples below:    \n",
    "  - “fishing”, “fished”, “fisher” will stem to “fish”.    \n",
    "  - “am”, “are”, will lemmatize to “be”."
   ]
  },
  {
   "cell_type": "code",
   "execution_count": 23,
   "id": "7885c009-0a1b-44d5-88eb-8c24f8b40a72",
   "metadata": {},
   "outputs": [
    {
     "data": {
      "text/plain": [
       "'morgan guzman era run higher last year cub idiot pitch harkey much hibbard castillo good think stud pitcher'"
      ]
     },
     "execution_count": 23,
     "metadata": {},
     "output_type": "execute_result"
    }
   ],
   "source": [
    "tokenizer  = nltk.tokenize.WhitespaceTokenizer()\n",
    "lemmatizer = nltk.stem.WordNetLemmatizer()\n",
    "\n",
    "def lemmatize(text):\n",
    "    return ' '.join([lemmatizer.lemmatize(w) for w in tokenizer.tokenize(text)])\n",
    "\n",
    "all_df[\"data\"] = all_df[\"data\"].apply(lemmatize)\n",
    "all_df.data[0]"
   ]
  },
  {
   "cell_type": "markdown",
   "id": "fb99e984-7aeb-440b-aaae-fcc3b37050cf",
   "metadata": {},
   "source": [
    "<a id=\"features\"></a>\n",
    "\n",
    "# Extract features using TF-IDF sparse vectorizer."
   ]
  },
  {
   "cell_type": "markdown",
   "id": "89a7725a-c3be-4f5b-a593-8db55129b7f5",
   "metadata": {},
   "source": [
    "Text documents are generally nothing but a bunch of words. In order to perform any statistical analysis using computers, the text files are to be converted into numerical format. \n",
    "\n",
    "We are going to to use TF-IDF (Term Frequencues Inverse Document Frequency) methodology. The TF-IDF is a statistical methodology that evaluates the relevance of a word to a specific document in a given collection of documents.\n",
    "\n",
    "Term frequency, tf(t,d), is the relative frequency of term t within document d,    \n",
    "<font size=\"4\"> $tf(t,d) = $ $\\Large \\frac{f_{t,d}} {\\sum_{t^` \\in d} f_{t^`,d}}$</font>.   \n",
    "\n",
    "where $f_{t,d}$ is the raw count of a term in a document, i.e., the number of times that term t occurs in document d.  \n",
    "\n",
    "Inverse document frequency is a measure of how much information the word provides if it is common across all of the documents.    \n",
    "<font size=\"4\">$tf(t,d) = $ $\\Large\\frac{f_{t,d}} {\\sum_{t^` \\in d} f_{t^`,d}}$</font>.   \n",
    "N: Total number of documents in the corpus.    \n",
    "\n",
    "<font size=\"4\">$|\\{d \\in D: t \\in d\\}|$</font>: is the number of documents where the term t appears."
   ]
  },
  {
   "cell_type": "code",
   "execution_count": 24,
   "id": "a9ac994f-1b3f-426e-8d87-8cfa849912aa",
   "metadata": {},
   "outputs": [
    {
     "data": {
      "text/plain": [
       "(18846, 19710)"
      ]
     },
     "execution_count": 24,
     "metadata": {},
     "output_type": "execute_result"
    }
   ],
   "source": [
    "#max_df = Ignoring words that appear in more than max_df% of the documents\n",
    "#min_df = Ignoring words that are not present in at least min_df documents\n",
    "\n",
    "tfdif_vec = TfidfVectorizer(sublinear_tf=True, min_df=5, max_df=0.50)\n",
    "X = tfdif_vec.fit_transform(all_df.data)\n",
    "X.shape"
   ]
  },
  {
   "cell_type": "markdown",
   "id": "34aad60e",
   "metadata": {},
   "source": [
    "# REDUCE DATA DIMENSIONS USING TRUNCATED SVD."
   ]
  },
  {
   "cell_type": "markdown",
   "id": "1b128f3b",
   "metadata": {},
   "source": [
    "During my experiments, I found that the K-Means was not stable when data with full dimensions is used to train the model.\n",
    "\n",
    "I did some research and learned that vectorized data can be truncated into lower dimensions using methodologies like Truncated SVD. This methodology is also called as **Latest Semantic Analysis**.\n",
    "\n",
    "**NOTE:** In the interest of time, I have used binary search and came up with 5000 components that explained the 85% of the variance. For the final report, I will programatically find out the **number of components** for the truncated SVD."
   ]
  },
  {
   "cell_type": "code",
   "execution_count": 25,
   "id": "8a6e6284",
   "metadata": {},
   "outputs": [
    {
     "name": "stdout",
     "output_type": "stream",
     "text": [
      "SVD done in 228.70580005645752 secs\n",
      "Explained variance: 85.9387719853832 with 5000 components\n"
     ]
    }
   ],
   "source": [
    "def select_n_components(var_ratios, target_var):\n",
    "    total_variance = 0.0\n",
    "    n_components   = 0\n",
    "    \n",
    "    for var in var_ratios:\n",
    "        total_var    += var        \n",
    "        n_components += 1\n",
    "        if total_var >= target_var:\n",
    "            break\n",
    "    \n",
    "    return n_components\n",
    "\n",
    "n_components = 5000\n",
    "#svd_model = make_pipeline(TruncatedSVD(n_components=X.shape[1]-1), Normalizer(copy=False))\n",
    "svd_model = make_pipeline(TruncatedSVD(n_components=5000), Normalizer(copy=False))\n",
    "\n",
    "t0 = time()\n",
    "X_svd = svd_model.fit_transform(X)\n",
    "\n",
    "# List of explained variances\n",
    "svd_var_ratios     = svd_model[0].explained_variance_ratio_\n",
    "explained_variance = svd_var_ratios.sum()\n",
    "#n_components = select_n_components(svd_var_ratios, 0.95)\n",
    "\n",
    "print(\"TruncatedSVD completed in %s secs\" %str(time() - t0))\n",
    "print(f\"Explained variance: %s with %s components\" %(str(explained_variance * 100), n_components))"
   ]
  },
  {
   "cell_type": "code",
   "execution_count": 26,
   "id": "6589cd56",
   "metadata": {},
   "outputs": [
    {
     "data": {
      "text/plain": [
       "(18846, 5000)"
      ]
     },
     "execution_count": 26,
     "metadata": {},
     "output_type": "execute_result"
    }
   ],
   "source": [
    "X_svd.shape"
   ]
  },
  {
   "cell_type": "markdown",
   "id": "adba458e",
   "metadata": {},
   "source": [
    "# BASELINE MODEL"
   ]
  },
  {
   "cell_type": "code",
   "execution_count": 27,
   "id": "7cc64585",
   "metadata": {},
   "outputs": [],
   "source": [
    "def generate_analyze_kmeans_model(data, K,\n",
    "                                  cluster_size, vectorizer,\n",
    "                                  display_data=False):\n",
    "    measures = defaultdict(list)\n",
    "\n",
    "    model = KMeans(n_clusters=cluster_size,\n",
    "                           init='k-means++', #'random'\n",
    "                           n_init=1,\n",
    "                           max_iter=100,\n",
    "                           verbose=0,\n",
    "                           random_state=42)\n",
    "    model.fit(X)\n",
    "    \n",
    "    measures[\"sum_sq_dist\"].append(model.inertia_)\n",
    "    #measures[\"silhoutte_val\"].append(silhouette_score(data, model.labels_, sample_size=3000))\n",
    "    measures[\"silhoutte_val\"].append(silhouette_score(data, model.labels_))\n",
    "    \n",
    "    measures[\"v_measure\"].append(metrics.v_measure_score(all_df.target, model.labels_))\n",
    "    measures[\"homogeneity\"].append(metrics.homogeneity_score(all_df.target, model.labels_))\n",
    "    measures[\"completeness\"].append(metrics.completeness_score(all_df.target, model.labels_))\n",
    "    measures[\"adj_rand_score\"].append(metrics.adjusted_rand_score(all_df.target, model.labels_))\n",
    "\n",
    "    if display_data == True:\n",
    "        cluster_centers = model.cluster_centers_\n",
    "        order_centroids = cluster_centers.argsort()[:, ::-1]\n",
    "    \n",
    "        if sklearn.__version__ <= \"0.24\":\n",
    "            features = vectorizer.get_feature_names()\n",
    "        else:\n",
    "            features = vectorizer.get_feature_names_out()\n",
    "        \n",
    "        for i in range(cluster_size):\n",
    "            print(\"Cluster-%d:\" % i)\n",
    "            word_list = []\n",
    "            for ind in order_centroids[i, :K]:\n",
    "                word_list.append(features[ind])\n",
    "            print(str(word_list))\n",
    "            print(\"\")\n",
    "    \n",
    "    return model, measures"
   ]
  },
  {
   "cell_type": "code",
   "execution_count": 28,
   "id": "bb746692",
   "metadata": {},
   "outputs": [
    {
     "name": "stdout",
     "output_type": "stream",
     "text": [
      "Cluster-0:\n",
      "['thanks', 'window', 'file', 'anyone', 'know', 'please', 'card', 'drive', 'would', 'use', 'problem', 'program', 'get', 'system', 'like', 'work', 'mail', 'help', 'do', 'one', 'need', 'pc', 'software', 'using', 'hi', 'disk', 'driver', 'advance', 'mac', 'also', 'could', 'mb', 'email', 'version', 'graphic', 'run', 'looking', 'monitor', 'machine', 'bit', 'color', 'video', 'new', 'info', 'computer', 'running', 'appreciated', 'used', 'ftp', 'find', 'edu', 'want', 'information', 'application', 'scsi', 'memory', 'time', 'format', 'display', 'port']\n",
      "\n",
      "Cluster-1:\n",
      "['people', 'would', 'one', 'think', 'say', 'god', 'like', 'know', 'time', 'even', 'make', 'thing', 'get', 'right', 'way', 'see', 'could', 'many', 'well', 'believe', 'also', 'government', 'good', 'point', 'may', 'much', 'christian', 'want', 'year', 'said', 'law', 'go', 'mean', 'question', 'fact', 'life', 'first', 'really', 'something', 'might', 'take', 'two', 'state', 'since', 'come', 'going', 'never', 'reason', 'case', 'use', 'person', 'part', 'must', 'day', 'without', 'word', 'jesus', 'still', 'made', 'problem']\n",
      "\n",
      "Cluster-2:\n",
      "['one', 'would', 'like', 'get', 'game', 'think', 'year', 'know', 'time', 'good', 'edu', 'car', 'new', 'well', 'also', 'could', 'go', 'much', 'first', 'make', 'anyone', 'way', 'back', 'right', 'two', 'got', 'team', 'use', 'say', 'want', 'used', 'see', 'last', 'need', 'please', 'really', 'may', 'thing', 'even', 'look', 'day', 'sure', 'com', 'still', 'going', 'take', 'work', 'problem', 'bike', 'something', 'lot', 'people', 'come', 'number', 'post', 'since', 'better', 'might', 'probably', 'many']\n",
      "\n"
     ]
    }
   ],
   "source": [
    "baseline_kmeans_model, baseline_measures = generate_analyze_kmeans_model(X,\n",
    "                                                                         60,\n",
    "                                                                         3, #cluster size 3\n",
    "                                                                         tfdif_vec,\n",
    "                                                                         display_data=True)"
   ]
  },
  {
   "cell_type": "markdown",
   "id": "ac38149e-31ae-4893-bb39-0518dcead418",
   "metadata": {},
   "source": [
    "<a id=\"kmeans\"></a>\n",
    "\n",
    "# FINAL MODEL PIPELINE."
   ]
  },
  {
   "cell_type": "code",
   "execution_count": 29,
   "id": "f4481a5b",
   "metadata": {},
   "outputs": [],
   "source": [
    "def cluster_search_kmeans(data, clust_range,\n",
    "                          batch, batch_size,\n",
    "                          verbose):\n",
    "    \n",
    "    measures = defaultdict(list)\n",
    "    \n",
    "    for nclust in clust_range:\n",
    "        print(\"Now checking cluster size: %d\" %nclust)\n",
    "        if batch == False:\n",
    "            model = KMeans(n_clusters=nclust,\n",
    "                           init=\"k-means++\",\n",
    "                           n_init=1,\n",
    "                           max_iter=100,\n",
    "                           random_state=42,\n",
    "                           verbose=verbose)\n",
    "        else:\n",
    "            model = MiniBatchKMeans(n_clusters=nclust,\n",
    "                                    #init=\"k-means++\",\n",
    "                                    n_init=1,\n",
    "                                    max_iter=100,\n",
    "                                    init_size=1000,\n",
    "                                    random_state=42,\n",
    "                                    batch_size=batch_size,\n",
    "                                    verbose=verbose)\n",
    "        \n",
    "        model.fit(data)\n",
    "        #y = model.fit_predict(data)\n",
    "        \n",
    "        measures[\"sum_sq_dist\"].append(model.inertia_)\n",
    "        \n",
    "        #silhoutte_vals.append(silhouette_score(data, y))\n",
    "        #measures[\"silhoutte_val\"].append(silhouette_score(data, model.labels_, sample_size=3000))\n",
    "        measures[\"silhoutte_val\"].append(silhouette_score(data, model.labels_))\n",
    "\n",
    "        measures[\"v_measure\"].append(metrics.v_measure_score(all_df.target, model.labels_))\n",
    "        measures[\"homogeneity\"].append(metrics.homogeneity_score(all_df.target, model.labels_))\n",
    "        measures[\"completeness\"].append(metrics.completeness_score(all_df.target, model.labels_))\n",
    "        measures[\"adj_rand_score\"].append(metrics.adjusted_rand_score(all_df.target, model.labels_))\n",
    "\n",
    "    return measures"
   ]
  },
  {
   "cell_type": "code",
   "execution_count": null,
   "id": "08c46c05-4d4f-406d-954f-96df9c7de5fa",
   "metadata": {},
   "outputs": [
    {
     "name": "stdout",
     "output_type": "stream",
     "text": [
      "Now checking cluster size: 3\n",
      "Now checking cluster size: 4\n",
      "Now checking cluster size: 5\n",
      "Now checking cluster size: 6\n",
      "Now checking cluster size: 7\n",
      "Now checking cluster size: 8\n",
      "Now checking cluster size: 9\n",
      "Now checking cluster size: 10\n",
      "Now checking cluster size: 11\n",
      "Now checking cluster size: 12\n",
      "Now checking cluster size: 13\n",
      "Now checking cluster size: 14\n",
      "Now checking cluster size: 15\n",
      "Now checking cluster size: 16\n",
      "Now checking cluster size: 17\n"
     ]
    }
   ],
   "source": [
    "clust_range = range(3, 25) #[min, max)\n",
    "\n",
    "t0 = time()\n",
    "measures = cluster_search_kmeans(X_svd,\n",
    "                                 clust_range,\n",
    "                                 True,  #Batch k-means\n",
    "                                 8192,  #Batch size (256x8 <- 8 cores)\n",
    "                                 verbose=0)\n",
    "print(\"Iterative K-Means done in %s secs\" %str(time() - t0))"
   ]
  },
  {
   "cell_type": "markdown",
   "id": "3d124b14-862c-4378-b2b2-2afe9e1df7e2",
   "metadata": {},
   "source": [
    "<a id=\"clustsize\"></a>\n",
    "\n",
    "## SELECT CLUSTER SIZE."
   ]
  },
  {
   "cell_type": "markdown",
   "id": "576ea6cf",
   "metadata": {},
   "source": [
    "### ELBOW METHOD TO SELECT CLUSTER SIZE."
   ]
  },
  {
   "attachments": {
    "c8e47678-cc4d-4b00-b666-f12a4a9a72bb.png": {
     "image/png": "[encoded data removed]"
    }
   },
   "cell_type": "markdown",
   "id": "494c2956-36c1-4449-b4c4-30438581a115",
   "metadata": {},
   "source": [
    "Plot the WCSS values for each cluster size and pick the cluster size at which point the curve seems to have plateued after a steep fall (elbow point).     \n",
    "\n",
    "![image.png](attachment:c8e47678-cc4d-4b00-b666-f12a4a9a72bb.png)    \n",
    "**NOTE**: This figure is not a representation of actual data of this project. This is just for pictorial represenation of how Elbow method works.\n",
    "\n",
    "**Source of the image**: \"Statistics for Machine Learning by Pratap Dangeti."
   ]
  },
  {
   "cell_type": "markdown",
   "id": "97b059d2",
   "metadata": {},
   "source": [
    "### SILHOUTTE SCORE METHOD TO SELECT CLUSTER SIZE.\n",
    "**NOTE:** If the Elbow method does not give a conclusive guidane on the cluster size to pick, then utilize the Silhoutte score for each data point to determine the optimal cluster size."
   ]
  },
  {
   "cell_type": "markdown",
   "id": "03ea4801",
   "metadata": {},
   "source": [
    "**Silhoutte value s(i) for each data point is defined as:**   \n",
    "<font size=\"4\">$s(i) = \\frac{b(i) - a(i)} {\\max\\{a(i), b(i)\\}}$, if $|C_i| > 1 $</font>.   \n",
    "and   \n",
    "<font size=\"4\">$s(i) = 0$, if $|C_i| = 1$</font>    \n",
    "\n",
    "\n",
    "**a(i)** is the measure of similarity of the point i to its own cluster. It is measured as the average distance of i from other points in the cluster.    \n",
    "For each data point $i \\in C_i$ (data point **i** in the cluster $C_i$</font>, let    \n",
    "<font size=\"4\">$a(i) = \\frac{1} {|C_i| - 1} \\sum \\limits _{j \\in C_i , i \\neq j} d(i,j)$</font>    \n",
    "\n",
    "\n",
    "**b(i)** is the measure of dissimilarity of i from points in other clusters.    \n",
    "<font size=\"4\">$b(i) = \\min \\limits _{i \\neq j} \\frac{1} {|C_j|} \\sum \\limits _{j \\in C_j} d(i, j)$</font>\n",
    "\n",
    "Once the Silhoutte scores are computed for each cluster size, select the cluster size with the highest Silhoutte score.\n",
    "\n",
    "**Source: Wikipedia**"
   ]
  },
  {
   "cell_type": "code",
   "execution_count": null,
   "id": "c1f8017f-543e-405e-8f0d-e34fed613973",
   "metadata": {},
   "outputs": [],
   "source": [
    "def plot_wcss(clust_range, sum_sq_distances):\n",
    "    fig,a =  plt.subplots(1,1)\n",
    "    plt.plot(clust_range,sum_sq_distances)\n",
    "    plt.title('Sum of squared distance vs. Number of clusters')\n",
    "    plt.xlabel('Number of clusters')\n",
    "    plt.ylabel('Sum of squared distance')\n",
    "    plt.show()\n",
    "\n",
    "plot_wcss(clust_range, measures[\"sum_sq_dist\"])"
   ]
  },
  {
   "cell_type": "markdown",
   "id": "3bcee4bd",
   "metadata": {},
   "source": [
    "The elbow is clearly seen at the **cluster size 21**"
   ]
  },
  {
   "cell_type": "code",
   "execution_count": null,
   "id": "861954dd",
   "metadata": {},
   "outputs": [],
   "source": [
    "kmeans_model_wcss, model_measures_wcss = generate_analyze_kmeans_model(X,\n",
    "                                                                       40, #Top n-words\n",
    "                                                                       21,\n",
    "                                                                       tfdif_vec,\n",
    "                                                                       display_data=True)"
   ]
  },
  {
   "cell_type": "markdown",
   "id": "9346b83f",
   "metadata": {},
   "source": [
    "### Verify whether similar cluster size is recommended using the silhoutte score."
   ]
  },
  {
   "cell_type": "code",
   "execution_count": null,
   "id": "e6c8aef2-14f4-42da-80cf-ed962dc6d14f",
   "metadata": {},
   "outputs": [],
   "source": [
    "def plot_silhoutte(clust_range, silh):\n",
    "    fig,b =  plt.subplots(1,1)\n",
    "    plt.plot(clust_range,silh)\n",
    "    plt.title('Silhoutte score vs. Number of clusters')\n",
    "    plt.xlabel('Number of clusters')\n",
    "    plt.ylabel('Silhoutte scores')\n",
    "    plt.show()\n",
    "\n",
    "plot_silhoutte(clust_range, measures[\"silhoutte_val\"])"
   ]
  },
  {
   "cell_type": "code",
   "execution_count": null,
   "id": "bbd313ef",
   "metadata": {},
   "outputs": [],
   "source": [
    "recomend_clust_size = clust_range[0] + np.argmax(measures[\"silhoutte_val\"])\n",
    "\n",
    "print(\"Cluster size with highest silhoutte score: %d\" %(recomend_clust_size))"
   ]
  },
  {
   "cell_type": "code",
   "execution_count": null,
   "id": "81dcb41b-fd39-460f-bdde-f2045bd8b68b",
   "metadata": {},
   "outputs": [],
   "source": [
    "kmeans_model_silh, model_measures_silh = generate_analyze_kmeans_model(X,\n",
    "                                                                       40, #Top n-words\n",
    "                                                                       recomend_clust_size,\n",
    "                                                                       tfdif_vec,\n",
    "                                                                       display_data=True)"
   ]
  },
  {
   "cell_type": "markdown",
   "id": "bc0cf8b8-3e24-408c-8adf-ee7e75462a33",
   "metadata": {},
   "source": [
    "<a id=\"accuracy\"></a>\n",
    "\n",
    "# MODEL EVALUATION"
   ]
  },
  {
   "cell_type": "markdown",
   "id": "7f231b12",
   "metadata": {},
   "source": [
    "This is not a classification model. So model accuracy is not really relevant.\n",
    "But a variety of measures can be displayed.\n",
    "\n",
    "**Homogeniety     :** Degree to which clusters contain element of the same class ([0.0,1.0]. 1.0-Best).    \n",
    "**Completeness    :** Degree to which all elements belonging to certain category are found in a cluster([0,1]. 1-Best).    \n",
    "**V-measure       :** The mean of homogeniety and completeness ([0.0, 1.0]. 1.0-Best).    \n",
    "**Silhouette score:** How similar an object is to its own cluster ([-1,1]. 1-Best).    \n",
    "**Rand score      :** Similarity measure between two clusterings ([0,1]. 1-Identical)."
   ]
  },
  {
   "cell_type": "code",
   "execution_count": null,
   "id": "4317f71a",
   "metadata": {},
   "outputs": [],
   "source": [
    "def show_measures(tag, measures):\n",
    "    print(tag)\n",
    "    for name, val in measures.items():\n",
    "        print(\"%s, %s\" %(name, val))"
   ]
  },
  {
   "cell_type": "code",
   "execution_count": null,
   "id": "823cdb9a",
   "metadata": {},
   "outputs": [],
   "source": [
    "show_measures(\"BASELINE MODEL\", baseline_measures)"
   ]
  },
  {
   "cell_type": "code",
   "execution_count": null,
   "id": "f0100a8b",
   "metadata": {},
   "outputs": [],
   "source": [
    "show_measures(\"MODEL SELECTED BY ELBOW\", model_measures_wcss)"
   ]
  },
  {
   "cell_type": "code",
   "execution_count": null,
   "id": "8f287fc2",
   "metadata": {},
   "outputs": [],
   "source": [
    "show_measures(\"MODEL SELECTED BY SILHOUTTE SCORE\", model_measures_silh)"
   ]
  },
  {
   "cell_type": "markdown",
   "id": "ec964cee",
   "metadata": {},
   "source": [
    "**NOTE:** The scores of the model selected using elbow method is definitely better than the baseline model or the model that is selected based on silhoutte-score.\n",
    "\n",
    "Something is wrong here. I antcipated that the model selected by using silhoutte score will be a better one.\n",
    "\n",
    "I will try to refine the data and the model before the final submission."
   ]
  },
  {
   "cell_type": "markdown",
   "id": "48af8ced-12e4-4009-940c-e7fca3674327",
   "metadata": {},
   "source": [
    "<a id=\"graphs\"></a>\n",
    "\n",
    "# VISUALIZATION"
   ]
  },
  {
   "cell_type": "markdown",
   "id": "f7333ba8-e4fb-493b-a301-8f19431f5ab9",
   "metadata": {},
   "source": [
    "## Visualization of the clusters."
   ]
  },
  {
   "cell_type": "markdown",
   "id": "277ca450-f80a-438a-a3d1-c155aeda68f8",
   "metadata": {},
   "source": [
    "It is not feasible to visualize a plot in more than 3-dimesions.\n",
    "\n",
    "The idea is to reduce the dimensions of the feature vector from **172641 dimensions** to **2 dimensions** using **Principal Component Analysis** and then use a scatter-plot to show the distribution of the data in reduced dimensions across the clusters.\n",
    "\n",
    "Even though the dimesnions are reduced, the reduced data is expected to preserve most of the information."
   ]
  },
  {
   "cell_type": "markdown",
   "id": "8ed3c07b-89b3-44fb-8857-ff089b75d4b8",
   "metadata": {},
   "source": [
    "## Use PCA to further reduce feature vector dimensions."
   ]
  },
  {
   "cell_type": "code",
   "execution_count": null,
   "id": "a7e180f1-48b9-4de2-b474-6840ed95ffd4",
   "metadata": {},
   "outputs": [],
   "source": [
    "# Init PCA with just 2 components\n",
    "pcaModel = PCA(n_components=2, random_state=372)\n",
    "\n",
    "# Fit and transform the data.\n",
    "pca_data = pcaModel.fit_transform(X.toarray())\n",
    "#pca_data = pcaModel.fit_transform(X_lsa)"
   ]
  },
  {
   "cell_type": "markdown",
   "id": "379018d0",
   "metadata": {},
   "source": [
    "## Visualize using pca components and the classification from SELECTED MODEL."
   ]
  },
  {
   "cell_type": "code",
   "execution_count": null,
   "id": "69f55056-42da-4333-86c1-ea9ad5a18190",
   "metadata": {},
   "outputs": [],
   "source": [
    "def plot_pca(labels, pca_data, remap_func):\n",
    "    visual_df = pd.DataFrame(columns=['cluster_id', 'pca_0', 'pca_1'])\n",
    "    \n",
    "    visual_df['cluster_id'] = labels\n",
    "    visual_df['cluster_id'] = visual_df['cluster_id'].apply(remap_func)\n",
    "    \n",
    "    visual_df['pca_0']      = pca_data[:, 0]\n",
    "    visual_df['pca_1']      = pca_data[:, 1]\n",
    "\n",
    "    fig = plt.gcf()\n",
    "    fig.set_size_inches(12, 8)\n",
    "    sns.scatterplot(data=visual_df,\n",
    "                    x='pca_0',\n",
    "                    y='pca_1',\n",
    "                    hue='cluster_id',\n",
    "                    palette=\"viridis\").set(title='20news-group clustering')"
   ]
  },
  {
   "cell_type": "code",
   "execution_count": null,
   "id": "bd35cdc6-1a9e-4a95-abad-c0b7401bbb29",
   "metadata": {},
   "outputs": [],
   "source": [
    "def remap_1(class_type):\n",
    "    if class_type == 0:\n",
    "        return \"Unspecific\"\n",
    "    elif class_type == 1:\n",
    "        return \"Sales\"\n",
    "    elif class_type == 2:\n",
    "        return \"Government\"\n",
    "    elif class_type == 3:\n",
    "        return \"Computer hardware + cryptos + govt\"\n",
    "    elif class_type == 4:\n",
    "        return \"Computer software\"\n",
    "    elif class_type == 5:\n",
    "        return \"Medicine\"\n",
    "    elif class_type == 6:\n",
    "        return \"Computer hardware\"\n",
    "    elif class_type == 7:\n",
    "        return \"Sports\"\n",
    "    elif class_type == 8:\n",
    "        return \"Cars\"\n",
    "    elif class_type == 9:\n",
    "        return \"Religion\"\n",
    "    elif class_type == 10:\n",
    "        return \"Email\"\n",
    "\n",
    "plot_pca(kmeans_model_wcss.labels_, pca_data, remap_1)"
   ]
  },
  {
   "cell_type": "markdown",
   "id": "54fcfd18-f293-455e-a78c-860a1d747c88",
   "metadata": {},
   "source": [
    "## Visualize using pca components and the classification from BASELINE MODEL."
   ]
  },
  {
   "cell_type": "code",
   "execution_count": null,
   "id": "8cd0f939-27b1-4996-8ddb-7f0474d78ee5",
   "metadata": {},
   "outputs": [],
   "source": [
    "def remap(class_type):\n",
    "    if class_type == 0:\n",
    "        return \"sports\"\n",
    "    elif class_type == 1:\n",
    "        return \"technology (HW and SW)\"\n",
    "    else:\n",
    "        return \"politics and religion\"\n",
    "\n",
    "plot_pca(baseline_kmeans_model.labels_, pca_data, remap)"
   ]
  }
 ],
 "metadata": {
  "kernelspec": {
   "display_name": "Python 3 (ipykernel)",
   "language": "python",
   "name": "python3"
  },
  "language_info": {
   "codemirror_mode": {
    "name": "ipython",
    "version": 3
   },
   "file_extension": ".py",
   "mimetype": "text/x-python",
   "name": "python",
   "nbconvert_exporter": "python",
   "pygments_lexer": "ipython3",
   "version": "3.9.13"
  }
 },
 "nbformat": 4,
 "nbformat_minor": 5
}
